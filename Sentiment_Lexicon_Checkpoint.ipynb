{
  "nbformat": 4,
  "nbformat_minor": 0,
  "metadata": {
    "colab": {
      "name": "Sentiment_Lexicon_Checkpoint.ipynb",
      "provenance": [],
      "toc_visible": true,
      "mount_file_id": "https://github.com/solharsh/Capstone_Sentiment_Analysis/blob/master/Sentiment_Lexicon_Checkpoint.ipynb",
      "authorship_tag": "ABX9TyNXBz4I2k1/GV68unUjYAoG",
      "include_colab_link": true
    },
    "kernelspec": {
      "name": "python3",
      "display_name": "Python 3"
    }
  },
  "cells": [
    {
      "cell_type": "markdown",
      "metadata": {
        "id": "view-in-github",
        "colab_type": "text"
      },
      "source": [
        "<a href=\"https://colab.research.google.com/github/solharsh/Capstone_Sentiment_Analysis/blob/master/Sentiment_Lexicon_Checkpoint.ipynb\" target=\"_parent\"><img src=\"https://colab.research.google.com/assets/colab-badge.svg\" alt=\"Open In Colab\"/></a>"
      ]
    },
    {
      "cell_type": "markdown",
      "metadata": {
        "id": "mmGKygX4OCrz",
        "colab_type": "text"
      },
      "source": [
        "# Sentiment Analysis - Unsupervised Lexical Models"
      ]
    },
    {
      "cell_type": "markdown",
      "metadata": {
        "id": "7ErxtGeIOLVO",
        "colab_type": "text"
      },
      "source": [
        "Textual data in spite of being highly unstructured, can be classified into two major types of documents.\n",
        "\n",
        "Factual documents which typically depict some form of statements or facts with no specific feelings or emotion attached to them. These are also known as objective documents.\n",
        "Subjective documents on the other hand have text which expresses feelings, mood, emotions and opinion.\n",
        "Sentiment Analysis is also popularly known as opinion analysis or opinion mining. The key idea is to use techniques from text analytics, NLP, machine learning and linguistics to extract important information or data points from unstructured text. This in turn can help us derive qualitative outputs like the overall sentiment being on a positive, neutral or negative scale and quantitative outputs like the sentiment polarity, subjectivity and objectivity proportions."
      ]
    },
    {
      "cell_type": "markdown",
      "metadata": {
        "id": "cMLwTtZyOWp9",
        "colab_type": "text"
      },
      "source": [
        "Sentiment polarity is typically a numeric score which is assigned to both the positive and negative aspects of a text document based on subjective parameters like specific words and phrases expressing feelings and emotion. Neutral sentiment typically has 0 polarity since it does not express any specific sentiment, positive sentiment will have polarity > 0 and negative < 0. Of course you can always change these thresholds based on the type of text you are dealing with and there are no hard constraints on this.\n",
        "\n",
        "Unsupervised sentiment analysis models make use of well curated knowledgebases, ontologies, lexicons and databases which have detailed information pertaining to subjective words, phrases including sentiment, mood, polarity, objectivity, subjectivity and so on. A lexicon model typically uses a lexicon, also known as a dictionary or vocabulary of words specifically aligned towards sentiment analysis. Usually these lexicons contain a list of words associated with positive and negative sentiment, polarity (magnitude of negative or positive score), parts of speech (POS) tags, subjectivity classifiers (strong, weak, neutral), mood, modality and so on.\n",
        "\n"
      ]
    },
    {
      "cell_type": "markdown",
      "metadata": {
        "id": "qnC8B5nOk7Gm",
        "colab_type": "text"
      },
      "source": [
        "# Lexicons covered: \n",
        "\n",
        "- Textblob\n",
        "- Vader\n",
        "- AFINN\n",
        "- Sentiwordnet"
      ]
    },
    {
      "cell_type": "code",
      "metadata": {
        "id": "taA1s0MLNCSb",
        "colab_type": "code",
        "outputId": "4b7a2e5e-e86a-42a9-bf94-4d739d3f0a7c",
        "colab": {
          "base_uri": "https://localhost:8080/",
          "height": 72
        }
      },
      "source": [
        "import nltk\n",
        "nltk.download('stopwords')"
      ],
      "execution_count": 1,
      "outputs": [
        {
          "output_type": "stream",
          "text": [
            "[nltk_data] Downloading package stopwords to /root/nltk_data...\n",
            "[nltk_data]   Unzipping corpora/stopwords.zip.\n"
          ],
          "name": "stdout"
        },
        {
          "output_type": "execute_result",
          "data": {
            "text/plain": [
              "True"
            ]
          },
          "metadata": {
            "tags": []
          },
          "execution_count": 1
        }
      ]
    },
    {
      "cell_type": "code",
      "metadata": {
        "id": "d87X0rHvMGxq",
        "colab_type": "code",
        "outputId": "b8c9b334-256d-45a1-b4a3-9174fc175340",
        "colab": {
          "base_uri": "https://localhost:8080/",
          "height": 146
        }
      },
      "source": [
        "import os\n",
        "import numpy as np\n",
        "import pandas as pd\n",
        "import re\n",
        "import spacy\n",
        "nlp = spacy.load(\"en_core_web_sm\")\n",
        "from spacy import displacy\n",
        "import nltk\n",
        "from nltk.tokenize import word_tokenize\n",
        "from nltk.tokenize import sent_tokenize\n",
        "nltk.download('averaged_perceptron_tagger')\n",
        "stopword = nltk.corpus.stopwords.words('english')\n",
        "from nltk.corpus import stopwords\n",
        "nltk.download('words')\n",
        "from nltk.text import Text\n",
        "import string, re\n",
        "from sklearn.feature_extraction.text import CountVectorizer\n",
        "string.punctuation\n",
        "wn = nltk.WordNetLemmatizer()\n",
        "import matplotlib.pyplot as plt\n",
        "%matplotlib inline\n",
        "import spacy\n",
        "#nlp = spacy.load('en')\n",
        "from textblob import TextBlob, Word, Blobber\n",
        "from textblob.classifiers import NaiveBayesClassifier\n",
        "from textblob.taggers import NLTKTagger\n",
        "#from vaderSentiment.vaderSentiment import SentimentIntensityAnalyzer\n",
        "from tqdm import tqdm_notebook as tqdm\n",
        "from tqdm import trange\n",
        "#analyzer = SentimentIntensityAnalyzer()\n",
        "# more common imports\n",
        "import pandas as pd\n",
        "import numpy as np\n",
        "from collections import Counter\n",
        "import re\n",
        "\n",
        "# languange processing imports\n",
        "import nltk\n",
        "from gensim.corpora import Dictionary\n",
        "# preprocessing imports\n",
        "from sklearn.preprocessing import LabelEncoder\n",
        "\n",
        "# model imports\n",
        "from gensim.models.ldamulticore import LdaMulticore\n",
        "from gensim.models.word2vec import Word2Vec\n",
        "from sklearn.ensemble import RandomForestClassifier, AdaBoostClassifier\n",
        "from sklearn.linear_model import LogisticRegression\n",
        "# hyperparameter training imports\n",
        "from sklearn.model_selection import GridSearchCV\n",
        "\n",
        "# visualization imports\n",
        "from IPython.display import display\n",
        "import seaborn as sns\n",
        "import matplotlib.pyplot as plt\n",
        "import matplotlib.image as mpimg\n",
        "import base64\n",
        "import io\n",
        "%matplotlib inline\n",
        "sns.set()  # defines the style of the plots to be seaborn style\n",
        "\n",
        "import spacy\n",
        "import pandas as pd\n",
        "import numpy as np\n",
        "import nltk\n",
        "from nltk.tokenize.toktok import ToktokTokenizer\n",
        "import re\n",
        "from bs4 import BeautifulSoup\n",
        "#from contractions import contractions_dict\n",
        "import unicodedata\n",
        "\n",
        "nlp = spacy.load('en', parse = False, tag=False, entity=False)\n",
        "tokenizer = ToktokTokenizer()\n",
        "stopword_list = nltk.corpus.stopwords.words('english')\n",
        "stopword_list.remove('no')\n",
        "stopword_list.remove('not')"
      ],
      "execution_count": 2,
      "outputs": [
        {
          "output_type": "stream",
          "text": [
            "[nltk_data] Downloading package averaged_perceptron_tagger to\n",
            "[nltk_data]     /root/nltk_data...\n",
            "[nltk_data]   Unzipping taggers/averaged_perceptron_tagger.zip.\n",
            "[nltk_data] Downloading package words to /root/nltk_data...\n",
            "[nltk_data]   Unzipping corpora/words.zip.\n"
          ],
          "name": "stdout"
        },
        {
          "output_type": "stream",
          "text": [
            "/usr/local/lib/python3.6/dist-packages/statsmodels/tools/_testing.py:19: FutureWarning: pandas.util.testing is deprecated. Use the functions in the public API at pandas.testing instead.\n",
            "  import pandas.util.testing as tm\n"
          ],
          "name": "stderr"
        }
      ]
    },
    {
      "cell_type": "code",
      "metadata": {
        "id": "RaF-8GQeMefT",
        "colab_type": "code",
        "colab": {}
      },
      "source": [
        "import pickle\n",
        "DATA_PATH = \"/content/drive/My Drive/Capstone Project - NLP/Harsh/Project_Checkpoints/\"\n",
        "infile = open(DATA_PATH+'/speech_cleaned_checkpoint.pkl','rb')\n",
        "df = pickle.load(infile)"
      ],
      "execution_count": 0,
      "outputs": []
    },
    {
      "cell_type": "code",
      "metadata": {
        "id": "I0SAkyvNNDuN",
        "colab_type": "code",
        "outputId": "857bfa5a-9de3-4441-c5d0-82fdf4ce31d7",
        "colab": {
          "base_uri": "https://localhost:8080/",
          "height": 112
        }
      },
      "source": [
        "df.head(2)"
      ],
      "execution_count": 6,
      "outputs": [
        {
          "output_type": "execute_result",
          "data": {
            "text/html": [
              "<div>\n",
              "<style scoped>\n",
              "    .dataframe tbody tr th:only-of-type {\n",
              "        vertical-align: middle;\n",
              "    }\n",
              "\n",
              "    .dataframe tbody tr th {\n",
              "        vertical-align: top;\n",
              "    }\n",
              "\n",
              "    .dataframe thead th {\n",
              "        text-align: right;\n",
              "    }\n",
              "</style>\n",
              "<table border=\"1\" class=\"dataframe\">\n",
              "  <thead>\n",
              "    <tr style=\"text-align: right;\">\n",
              "      <th></th>\n",
              "      <th>Speaker_Name</th>\n",
              "      <th>Date_Of_Speech</th>\n",
              "      <th>Speech</th>\n",
              "      <th>Speech_Cleaned</th>\n",
              "      <th>word_count</th>\n",
              "      <th>negation</th>\n",
              "      <th>length</th>\n",
              "      <th>has_url</th>\n",
              "      <th>quest_mark</th>\n",
              "      <th>excl_mark</th>\n",
              "    </tr>\n",
              "  </thead>\n",
              "  <tbody>\n",
              "    <tr>\n",
              "      <th>0</th>\n",
              "      <td>Pranab Mukherjee</td>\n",
              "      <td>March 16, 2012</td>\n",
              "      <td>Budget 2012-2013 \\n\\nSpeech of \\n\\nPranab Mukh...</td>\n",
              "      <td>budget speech pranab mukherjee minister financ...</td>\n",
              "      <td>14077</td>\n",
              "      <td>True</td>\n",
              "      <td>89122</td>\n",
              "      <td>True</td>\n",
              "      <td>0</td>\n",
              "      <td>0</td>\n",
              "    </tr>\n",
              "    <tr>\n",
              "      <th>1</th>\n",
              "      <td>Arun Jaitley</td>\n",
              "      <td>July 10, 2014</td>\n",
              "      <td>Budget 2014-2015 \\n\\nSpeech of \\n\\nArun Jaitle...</td>\n",
              "      <td>budget speech arun jaitley minister finance ju...</td>\n",
              "      <td>16395</td>\n",
              "      <td>True</td>\n",
              "      <td>103238</td>\n",
              "      <td>False</td>\n",
              "      <td>3</td>\n",
              "      <td>0</td>\n",
              "    </tr>\n",
              "  </tbody>\n",
              "</table>\n",
              "</div>"
            ],
            "text/plain": [
              "       Speaker_Name  Date_Of_Speech  ... quest_mark excl_mark\n",
              "0  Pranab Mukherjee  March 16, 2012  ...          0         0\n",
              "1      Arun Jaitley   July 10, 2014  ...          3         0\n",
              "\n",
              "[2 rows x 10 columns]"
            ]
          },
          "metadata": {
            "tags": []
          },
          "execution_count": 6
        }
      ]
    },
    {
      "cell_type": "markdown",
      "metadata": {
        "id": "TgwJbFEqObmV",
        "colab_type": "text"
      },
      "source": [
        "# Sentiment Analysis with TextBlob"
      ]
    },
    {
      "cell_type": "markdown",
      "metadata": {
        "id": "9lxDy0RgOfkZ",
        "colab_type": "text"
      },
      "source": [
        "TextBlob is a Python library for processing textual data. It provides a simple API for diving into common natural language processing (NLP) tasks such as \n",
        "\n",
        "- part-of-speech tagging, \n",
        "- noun phrase extraction, \n",
        "- sentiment analysis, \n",
        "- classification, \n",
        "- translation, and more."
      ]
    },
    {
      "cell_type": "markdown",
      "metadata": {
        "id": "yoFVKBhIOrXo",
        "colab_type": "text"
      },
      "source": [
        "<word form=\"abhorrent\" wordnet_id=\"a-1625063\" pos=\"JJ\" sense=\"offensive to the mind\" polarity=\"-0.7\" subjectivity=\"0.8\" intensity=\"1.0\" reliability=\"0.9\" />\n",
        "<word form=\"able\" cornetto_synset_id=\"n_a-534450\" wordnet_id=\"a-01017439\" pos=\"JJ\" sense=\"having a strong healthy body\" polarity=\"0.5\" subjectivity=\"1.0\" intensity=\"1.0\" confidence=\"0.9\" />\n",
        "Typically, specific adjectives have a polarity score (negative/positive, -1.0 to +1.0) and a subjectivity score (objective/subjective, +0.0 to +1.0) associated with them.\n",
        "\n"
      ]
    },
    {
      "cell_type": "code",
      "metadata": {
        "id": "6tOCxTwLZRnK",
        "colab_type": "code",
        "colab": {}
      },
      "source": [
        "df.index = df[['Speaker_Name','Date_Of_Speech']].apply(lambda x: ':'.join(str(s) for s in x), axis=1)"
      ],
      "execution_count": 0,
      "outputs": []
    },
    {
      "cell_type": "code",
      "metadata": {
        "id": "13rhR17MZwv1",
        "colab_type": "code",
        "outputId": "373ffb4a-8857-47ed-c0bd-da73ee6adbe4",
        "colab": {
          "base_uri": "https://localhost:8080/",
          "height": 35
        }
      },
      "source": [
        "df.index[1]"
      ],
      "execution_count": 8,
      "outputs": [
        {
          "output_type": "execute_result",
          "data": {
            "text/plain": [
              "'Arun Jaitley:July 10, 2014'"
            ]
          },
          "metadata": {
            "tags": []
          },
          "execution_count": 8
        }
      ]
    },
    {
      "cell_type": "code",
      "metadata": {
        "id": "bpgkCEw2Wvhn",
        "colab_type": "code",
        "outputId": "b6e1db30-62e0-4df4-da90-74bd733bd891",
        "colab": {
          "base_uri": "https://localhost:8080/",
          "height": 698
        }
      },
      "source": [
        "import textblob\n",
        "\n",
        "for index, speech in enumerate(df['Speech_Cleaned']):\n",
        "    print('Speech of {}:'.format(df.index[index]))\n",
        "    print('Sentiment polarity of {}:'.format(df.index[index]), textblob.TextBlob(speech).sentiment.polarity)\n",
        "    print('-'*200)"
      ],
      "execution_count": 9,
      "outputs": [
        {
          "output_type": "stream",
          "text": [
            "Speech of Pranab Mukherjee:March 16, 2012:\n",
            "Sentiment polarity of Pranab Mukherjee:March 16, 2012: 0.06067735462569415\n",
            "--------------------------------------------------------------------------------------------------------------------------------------------------------------------------------------------------------\n",
            "Speech of Arun Jaitley:July 10, 2014:\n",
            "Sentiment polarity of Arun Jaitley:July 10, 2014: 0.06759010077588057\n",
            "--------------------------------------------------------------------------------------------------------------------------------------------------------------------------------------------------------\n",
            "Speech of Arun Jaitley:February 28, 2015:\n",
            "Sentiment polarity of Arun Jaitley:February 28, 2015: 0.07039732841385743\n",
            "--------------------------------------------------------------------------------------------------------------------------------------------------------------------------------------------------------\n",
            "Speech of Piyush Goyal:February 1, 2019:\n",
            "Sentiment polarity of Piyush Goyal:February 1, 2019: 0.0603303442589157\n",
            "--------------------------------------------------------------------------------------------------------------------------------------------------------------------------------------------------------\n",
            "Speech of Nirmala Sitharaman:July 5, 2019:\n",
            "Sentiment polarity of Nirmala Sitharaman:July 5, 2019: 0.09102067623236962\n",
            "--------------------------------------------------------------------------------------------------------------------------------------------------------------------------------------------------------\n",
            "Speech of Arun Jaitley:February 1, 2017:\n",
            "Sentiment polarity of Arun Jaitley:February 1, 2017: 0.06948909032314944\n",
            "--------------------------------------------------------------------------------------------------------------------------------------------------------------------------------------------------------\n",
            "Speech of Arun Jaitley:February 1, 2018:\n",
            "Sentiment polarity of Arun Jaitley:February 1, 2018: 0.078054533462927\n",
            "--------------------------------------------------------------------------------------------------------------------------------------------------------------------------------------------------------\n",
            "Speech of Pranab Mukherjee:February  26,  2010:\n",
            "Sentiment polarity of Pranab Mukherjee:February  26,  2010: 0.08533912502447973\n",
            "--------------------------------------------------------------------------------------------------------------------------------------------------------------------------------------------------------\n",
            "Speech of Arun Jaitley:February 29, 2016:\n",
            "Sentiment polarity of Arun Jaitley:February 29, 2016: 0.05576779933370515\n",
            "--------------------------------------------------------------------------------------------------------------------------------------------------------------------------------------------------------\n",
            "Speech of Pranab Mukherjee:February 28, 2011:\n",
            "Sentiment polarity of Pranab Mukherjee:February 28, 2011: 0.08414205269368305\n",
            "--------------------------------------------------------------------------------------------------------------------------------------------------------------------------------------------------------\n",
            "Speech of P. Chidambaram:February 28, 2013:\n",
            "Sentiment polarity of P. Chidambaram:February 28, 2013: 0.09308133049887667\n",
            "--------------------------------------------------------------------------------------------------------------------------------------------------------------------------------------------------------\n",
            "Speech of P. Chidambaram:February 17, 2014:\n",
            "Sentiment polarity of P. Chidambaram:February 17, 2014: 0.05391610146293986\n",
            "--------------------------------------------------------------------------------------------------------------------------------------------------------------------------------------------------------\n"
          ],
          "name": "stdout"
        }
      ]
    },
    {
      "cell_type": "markdown",
      "metadata": {
        "id": "X6FpzB8kaqHu",
        "colab_type": "text"
      },
      "source": [
        "# Sentiment Analysis with AFINN"
      ]
    },
    {
      "cell_type": "markdown",
      "metadata": {
        "id": "E-xFnd3VasWS",
        "colab_type": "text"
      },
      "source": [
        "The AFINN lexicon is perhaps one of the simplest and most popular lexicons which can be used extensively for sentiment analysis. The current version of the lexicon is AFINN-en-165.txt which contains over 3300+ words with a polarity score associated with each word.\n",
        "\n",
        "The author has also created a nice wrapper library on top of this in Python called afinn which we will be using here."
      ]
    },
    {
      "cell_type": "code",
      "metadata": {
        "id": "zjMdxiSfa6IG",
        "colab_type": "code",
        "outputId": "eebfe017-e625-47e0-f730-f436e9569c18",
        "colab": {
          "base_uri": "https://localhost:8080/",
          "height": 201
        }
      },
      "source": [
        "!pip install afinn"
      ],
      "execution_count": 11,
      "outputs": [
        {
          "output_type": "stream",
          "text": [
            "Collecting afinn\n",
            "\u001b[?25l  Downloading https://files.pythonhosted.org/packages/86/e5/ffbb7ee3cca21ac6d310ac01944fb163c20030b45bda25421d725d8a859a/afinn-0.1.tar.gz (52kB)\n",
            "\r\u001b[K     |██████▎                         | 10kB 16.7MB/s eta 0:00:01\r\u001b[K     |████████████▌                   | 20kB 2.1MB/s eta 0:00:01\r\u001b[K     |██████████████████▊             | 30kB 2.8MB/s eta 0:00:01\r\u001b[K     |█████████████████████████       | 40kB 3.1MB/s eta 0:00:01\r\u001b[K     |███████████████████████████████▏| 51kB 2.6MB/s eta 0:00:01\r\u001b[K     |████████████████████████████████| 61kB 2.3MB/s \n",
            "\u001b[?25hBuilding wheels for collected packages: afinn\n",
            "  Building wheel for afinn (setup.py) ... \u001b[?25l\u001b[?25hdone\n",
            "  Created wheel for afinn: filename=afinn-0.1-cp36-none-any.whl size=53452 sha256=734a9e0a6994df36c713bd20ccffe29e29bcaefd8e7509fdf5fb46b04bc59e91\n",
            "  Stored in directory: /root/.cache/pip/wheels/b5/1c/de/428301f3333ca509dcf20ff358690eb23a1388fbcbbde008b2\n",
            "Successfully built afinn\n",
            "Installing collected packages: afinn\n",
            "Successfully installed afinn-0.1\n"
          ],
          "name": "stdout"
        }
      ]
    },
    {
      "cell_type": "code",
      "metadata": {
        "id": "-hSIEofzW_DO",
        "colab_type": "code",
        "colab": {}
      },
      "source": [
        "from afinn import Afinn\n",
        "afn = Afinn()"
      ],
      "execution_count": 0,
      "outputs": []
    },
    {
      "cell_type": "code",
      "metadata": {
        "id": "M408GDy6a30I",
        "colab_type": "code",
        "outputId": "dc92c939-8402-4c4e-ba29-46f8b52ebc76",
        "colab": {
          "base_uri": "https://localhost:8080/",
          "height": 698
        }
      },
      "source": [
        "for index, speech in enumerate(df['Speech_Cleaned']):\n",
        "    print('Speech of {}:'.format(df.index[index]))\n",
        "    print('Sentiment polarity of {}:'.format(df.index[index]), afn.score(speech))\n",
        "    print('-'*200)"
      ],
      "execution_count": 13,
      "outputs": [
        {
          "output_type": "stream",
          "text": [
            "Speech of Pranab Mukherjee:March 16, 2012:\n",
            "Sentiment polarity of Pranab Mukherjee:March 16, 2012: 501.0\n",
            "--------------------------------------------------------------------------------------------------------------------------------------------------------------------------------------------------------\n",
            "Speech of Arun Jaitley:July 10, 2014:\n",
            "Sentiment polarity of Arun Jaitley:July 10, 2014: 696.0\n",
            "--------------------------------------------------------------------------------------------------------------------------------------------------------------------------------------------------------\n",
            "Speech of Arun Jaitley:February 28, 2015:\n",
            "Sentiment polarity of Arun Jaitley:February 28, 2015: 764.0\n",
            "--------------------------------------------------------------------------------------------------------------------------------------------------------------------------------------------------------\n",
            "Speech of Piyush Goyal:February 1, 2019:\n",
            "Sentiment polarity of Piyush Goyal:February 1, 2019: 483.0\n",
            "--------------------------------------------------------------------------------------------------------------------------------------------------------------------------------------------------------\n",
            "Speech of Nirmala Sitharaman:July 5, 2019:\n",
            "Sentiment polarity of Nirmala Sitharaman:July 5, 2019: 917.0\n",
            "--------------------------------------------------------------------------------------------------------------------------------------------------------------------------------------------------------\n",
            "Speech of Arun Jaitley:February 1, 2017:\n",
            "Sentiment polarity of Arun Jaitley:February 1, 2017: 762.0\n",
            "--------------------------------------------------------------------------------------------------------------------------------------------------------------------------------------------------------\n",
            "Speech of Arun Jaitley:February 1, 2018:\n",
            "Sentiment polarity of Arun Jaitley:February 1, 2018: 923.0\n",
            "--------------------------------------------------------------------------------------------------------------------------------------------------------------------------------------------------------\n",
            "Speech of Pranab Mukherjee:February  26,  2010:\n",
            "Sentiment polarity of Pranab Mukherjee:February  26,  2010: 568.0\n",
            "--------------------------------------------------------------------------------------------------------------------------------------------------------------------------------------------------------\n",
            "Speech of Arun Jaitley:February 29, 2016:\n",
            "Sentiment polarity of Arun Jaitley:February 29, 2016: 801.0\n",
            "--------------------------------------------------------------------------------------------------------------------------------------------------------------------------------------------------------\n",
            "Speech of Pranab Mukherjee:February 28, 2011:\n",
            "Sentiment polarity of Pranab Mukherjee:February 28, 2011: 542.0\n",
            "--------------------------------------------------------------------------------------------------------------------------------------------------------------------------------------------------------\n",
            "Speech of P. Chidambaram:February 28, 2013:\n",
            "Sentiment polarity of P. Chidambaram:February 28, 2013: 550.0\n",
            "--------------------------------------------------------------------------------------------------------------------------------------------------------------------------------------------------------\n",
            "Speech of P. Chidambaram:February 17, 2014:\n",
            "Sentiment polarity of P. Chidambaram:February 17, 2014: 254.0\n",
            "--------------------------------------------------------------------------------------------------------------------------------------------------------------------------------------------------------\n"
          ],
          "name": "stdout"
        }
      ]
    },
    {
      "cell_type": "code",
      "metadata": {
        "id": "AYojVP9hbYRz",
        "colab_type": "code",
        "colab": {}
      },
      "source": [
        "sentiment_polarity = [afn.score(speech) for speech in df['Speech_Cleaned']]\n",
        "pos_neg_sentiments = ['positive' if score >= 1.0 else 'negative' for score in sentiment_polarity]"
      ],
      "execution_count": 0,
      "outputs": []
    },
    {
      "cell_type": "markdown",
      "metadata": {
        "id": "NdraoY4KbpDB",
        "colab_type": "text"
      },
      "source": [
        "# Sentiment Analysis with VADER\n",
        "\n",
        "The VADER lexicon is based on a rule-based sentiment analysis framework, specifically tuned to analyze sentiments in social media. VADER stands for Valence Aware Dictionary and sEntiment Reasoner. We can use the library based on nltk's interface under the nltk.sentiment.vader module.\n",
        "\n",
        "Now let's use VADER to analyze our Speeches!"
      ]
    },
    {
      "cell_type": "code",
      "metadata": {
        "id": "suJvy3wIcgP6",
        "colab_type": "code",
        "outputId": "6e9ac2aa-8072-4988-f23f-5e7d8f0a8384",
        "colab": {
          "base_uri": "https://localhost:8080/",
          "height": 54
        }
      },
      "source": [
        "nltk.download('vader_lexicon')"
      ],
      "execution_count": 15,
      "outputs": [
        {
          "output_type": "stream",
          "text": [
            "[nltk_data] Downloading package vader_lexicon to /root/nltk_data...\n"
          ],
          "name": "stdout"
        },
        {
          "output_type": "execute_result",
          "data": {
            "text/plain": [
              "True"
            ]
          },
          "metadata": {
            "tags": []
          },
          "execution_count": 15
        }
      ]
    },
    {
      "cell_type": "code",
      "metadata": {
        "id": "o4U3ePLlbls0",
        "colab_type": "code",
        "colab": {
          "base_uri": "https://localhost:8080/",
          "height": 74
        },
        "outputId": "6d4cc646-d19b-40fb-af43-a5efc164b939"
      },
      "source": [
        "from nltk.sentiment.vader import SentimentIntensityAnalyzer\n",
        "def sentiment_scores_speech(speech): \n",
        "     \n",
        "    # Create a SentimentIntensityAnalyzer object. \n",
        "    sid_obj = SentimentIntensityAnalyzer() \n",
        "   \n",
        "    # polarity_scores method of SentimentIntensityAnalyzer \n",
        "    # oject gives a sentiment dictionary. \n",
        "    # which contains pos, neg, neu, and compound scores. \n",
        "    sentiment_dict = sid_obj.polarity_scores(speech) \n",
        "       \n",
        "    print(\"Overall sentiment dictionary is : \", sentiment_dict) \n",
        "    print(\"First Speech was rated as \", sentiment_dict['neg']*100, \"% Negative\") \n",
        "    print(\"First Speech was rated as \", sentiment_dict['neu']*100, \"% Neutral\") \n",
        "    print(\"First Speech was rated as \", sentiment_dict['pos']*100, \"% Positive\")\n",
        " \n",
        "     \n",
        "    # decide sentiment as positive, negative and neutral \n",
        "    if sentiment_dict['compound'] >= 0.05 : \n",
        "        print(\"Positive\") \n",
        "         \n",
        "    elif sentiment_dict['compound'] <= - 0.05 : \n",
        "        print(\"Negative\") \n",
        "   \n",
        "    else : \n",
        "        print(\"Neutral\") \n",
        "    return sentiment_dict['compound'] "
      ],
      "execution_count": 16,
      "outputs": [
        {
          "output_type": "stream",
          "text": [
            "/usr/local/lib/python3.6/dist-packages/nltk/twitter/__init__.py:20: UserWarning: The twython library has not been installed. Some functionality from the twitter package will not be available.\n",
            "  warnings.warn(\"The twython library has not been installed. \"\n"
          ],
          "name": "stderr"
        }
      ]
    },
    {
      "cell_type": "code",
      "metadata": {
        "id": "NGrkpe8LcGdR",
        "colab_type": "code",
        "outputId": "07412c6c-c5a9-435d-adec-65fd7d1b4482",
        "colab": {
          "base_uri": "https://localhost:8080/",
          "height": 1000
        }
      },
      "source": [
        "for index, speech in enumerate(df['Speech_Cleaned']):\n",
        "    print('Speech of {}:'.format(df.index[index]))\n",
        "    print('Sentiment polarity of {}:'.format(df.index[index]), sentiment_scores_speech(speech))\n",
        "    print('-'*200)"
      ],
      "execution_count": 18,
      "outputs": [
        {
          "output_type": "stream",
          "text": [
            "Speech of Pranab Mukherjee:March 16, 2012:\n",
            "Overall sentiment dictionary is :  {'neg': 0.047, 'neu': 0.786, 'pos': 0.167, 'compound': 1.0}\n",
            "First Speech was rated as  4.7 % Negative\n",
            "First Speech was rated as  78.60000000000001 % Neutral\n",
            "First Speech was rated as  16.7 % Positive\n",
            "Positive\n",
            "Sentiment polarity of Pranab Mukherjee:March 16, 2012: 1.0\n",
            "--------------------------------------------------------------------------------------------------------------------------------------------------------------------------------------------------------\n",
            "Speech of Arun Jaitley:July 10, 2014:\n",
            "Overall sentiment dictionary is :  {'neg': 0.057, 'neu': 0.763, 'pos': 0.18, 'compound': 1.0}\n",
            "First Speech was rated as  5.7 % Negative\n",
            "First Speech was rated as  76.3 % Neutral\n",
            "First Speech was rated as  18.0 % Positive\n",
            "Positive\n",
            "Sentiment polarity of Arun Jaitley:July 10, 2014: 1.0\n",
            "--------------------------------------------------------------------------------------------------------------------------------------------------------------------------------------------------------\n",
            "Speech of Arun Jaitley:February 28, 2015:\n",
            "Overall sentiment dictionary is :  {'neg': 0.054, 'neu': 0.759, 'pos': 0.187, 'compound': 1.0}\n",
            "First Speech was rated as  5.4 % Negative\n",
            "First Speech was rated as  75.9 % Neutral\n",
            "First Speech was rated as  18.7 % Positive\n",
            "Positive\n",
            "Sentiment polarity of Arun Jaitley:February 28, 2015: 1.0\n",
            "--------------------------------------------------------------------------------------------------------------------------------------------------------------------------------------------------------\n",
            "Speech of Piyush Goyal:February 1, 2019:\n",
            "Overall sentiment dictionary is :  {'neg': 0.052, 'neu': 0.736, 'pos': 0.212, 'compound': 1.0}\n",
            "First Speech was rated as  5.2 % Negative\n",
            "First Speech was rated as  73.6 % Neutral\n",
            "First Speech was rated as  21.2 % Positive\n",
            "Positive\n",
            "Sentiment polarity of Piyush Goyal:February 1, 2019: 1.0\n",
            "--------------------------------------------------------------------------------------------------------------------------------------------------------------------------------------------------------\n",
            "Speech of Nirmala Sitharaman:July 5, 2019:\n",
            "Overall sentiment dictionary is :  {'neg': 0.045, 'neu': 0.776, 'pos': 0.179, 'compound': 1.0}\n",
            "First Speech was rated as  4.5 % Negative\n",
            "First Speech was rated as  77.60000000000001 % Neutral\n",
            "First Speech was rated as  17.9 % Positive\n",
            "Positive\n",
            "Sentiment polarity of Nirmala Sitharaman:July 5, 2019: 1.0\n",
            "--------------------------------------------------------------------------------------------------------------------------------------------------------------------------------------------------------\n",
            "Speech of Arun Jaitley:February 1, 2017:\n",
            "Overall sentiment dictionary is :  {'neg': 0.046, 'neu': 0.778, 'pos': 0.176, 'compound': 1.0}\n",
            "First Speech was rated as  4.6 % Negative\n",
            "First Speech was rated as  77.8 % Neutral\n",
            "First Speech was rated as  17.599999999999998 % Positive\n",
            "Positive\n",
            "Sentiment polarity of Arun Jaitley:February 1, 2017: 1.0\n",
            "--------------------------------------------------------------------------------------------------------------------------------------------------------------------------------------------------------\n",
            "Speech of Arun Jaitley:February 1, 2018:\n",
            "Overall sentiment dictionary is :  {'neg': 0.036, 'neu': 0.781, 'pos': 0.183, 'compound': 1.0}\n",
            "First Speech was rated as  3.5999999999999996 % Negative\n",
            "First Speech was rated as  78.10000000000001 % Neutral\n",
            "First Speech was rated as  18.3 % Positive\n",
            "Positive\n",
            "Sentiment polarity of Arun Jaitley:February 1, 2018: 1.0\n",
            "--------------------------------------------------------------------------------------------------------------------------------------------------------------------------------------------------------\n",
            "Speech of Pranab Mukherjee:February  26,  2010:\n",
            "Overall sentiment dictionary is :  {'neg': 0.037, 'neu': 0.776, 'pos': 0.187, 'compound': 1.0}\n",
            "First Speech was rated as  3.6999999999999997 % Negative\n",
            "First Speech was rated as  77.60000000000001 % Neutral\n",
            "First Speech was rated as  18.7 % Positive\n",
            "Positive\n",
            "Sentiment polarity of Pranab Mukherjee:February  26,  2010: 1.0\n",
            "--------------------------------------------------------------------------------------------------------------------------------------------------------------------------------------------------------\n",
            "Speech of Arun Jaitley:February 29, 2016:\n",
            "Overall sentiment dictionary is :  {'neg': 0.053, 'neu': 0.779, 'pos': 0.168, 'compound': 1.0}\n",
            "First Speech was rated as  5.3 % Negative\n",
            "First Speech was rated as  77.9 % Neutral\n",
            "First Speech was rated as  16.8 % Positive\n",
            "Positive\n",
            "Sentiment polarity of Arun Jaitley:February 29, 2016: 1.0\n",
            "--------------------------------------------------------------------------------------------------------------------------------------------------------------------------------------------------------\n",
            "Speech of Pranab Mukherjee:February 28, 2011:\n",
            "Overall sentiment dictionary is :  {'neg': 0.042, 'neu': 0.79, 'pos': 0.169, 'compound': 1.0}\n",
            "First Speech was rated as  4.2 % Negative\n",
            "First Speech was rated as  79.0 % Neutral\n",
            "First Speech was rated as  16.900000000000002 % Positive\n",
            "Positive\n",
            "Sentiment polarity of Pranab Mukherjee:February 28, 2011: 1.0\n",
            "--------------------------------------------------------------------------------------------------------------------------------------------------------------------------------------------------------\n",
            "Speech of P. Chidambaram:February 28, 2013:\n",
            "Overall sentiment dictionary is :  {'neg': 0.045, 'neu': 0.767, 'pos': 0.188, 'compound': 1.0}\n",
            "First Speech was rated as  4.5 % Negative\n",
            "First Speech was rated as  76.7 % Neutral\n",
            "First Speech was rated as  18.8 % Positive\n",
            "Positive\n",
            "Sentiment polarity of P. Chidambaram:February 28, 2013: 1.0\n",
            "--------------------------------------------------------------------------------------------------------------------------------------------------------------------------------------------------------\n",
            "Speech of P. Chidambaram:February 17, 2014:\n",
            "Overall sentiment dictionary is :  {'neg': 0.065, 'neu': 0.76, 'pos': 0.175, 'compound': 0.9999}\n",
            "First Speech was rated as  6.5 % Negative\n",
            "First Speech was rated as  76.0 % Neutral\n",
            "First Speech was rated as  17.5 % Positive\n",
            "Positive\n",
            "Sentiment polarity of P. Chidambaram:February 17, 2014: 0.9999\n",
            "--------------------------------------------------------------------------------------------------------------------------------------------------------------------------------------------------------\n"
          ],
          "name": "stdout"
        }
      ]
    },
    {
      "cell_type": "code",
      "metadata": {
        "id": "aHcbmweycSwO",
        "colab_type": "code",
        "colab": {}
      },
      "source": [
        "def analyze_sentiment_vader_lexicon(speech, \n",
        "                                    threshold=0.5,\n",
        "                                    verbose=False):\n",
        "    \n",
        "    # analyze the sentiment for review\n",
        "    sid = SentimentIntensityAnalyzer()\n",
        "    scores = sid.polarity_scores(speech)\n",
        "    # get aggregate scores and final sentiment\n",
        "    agg_score = scores['compound']\n",
        "    final_sentiment = 'positive' if agg_score >= threshold\\\n",
        "                                   else 'negative'\n",
        "    if verbose:\n",
        "        # display detailed sentiment statistics\n",
        "        positive = str(round(scores['pos'], 2)*100)+'%'\n",
        "        final = round(agg_score, 2)\n",
        "        negative = str(round(scores['neg'], 2)*100)+'%'\n",
        "        neutral = str(round(scores['neu'], 2)*100)+'%'\n",
        "        sentiment_frame = pd.DataFrame([[final_sentiment, final, positive,\n",
        "                                        negative, neutral]])\n",
        "        print(sentiment_frame)\n",
        "    \n",
        "    return final_sentiment"
      ],
      "execution_count": 0,
      "outputs": []
    },
    {
      "cell_type": "code",
      "metadata": {
        "id": "HWMzj0t2dFht",
        "colab_type": "code",
        "outputId": "89041ddf-d816-4f3c-b081-1f3b384a6e08",
        "colab": {
          "base_uri": "https://localhost:8080/",
          "height": 1000
        }
      },
      "source": [
        "for index, speech in enumerate(df['Speech_Cleaned']):\n",
        "    print('Speech of {}:'.format(df.index[index]))#, speech)\n",
        "    print('Sentiment polarity of {}:'.format(df.index[index]), analyze_sentiment_vader_lexicon(speech, threshold=0.4, verbose=True))\n",
        "    print('-'*200)"
      ],
      "execution_count": 20,
      "outputs": [
        {
          "output_type": "stream",
          "text": [
            "Speech of Pranab Mukherjee:March 16, 2012:\n",
            "          0    1      2     3      4\n",
            "0  positive  1.0  17.0%  5.0%  79.0%\n",
            "Sentiment polarity of Pranab Mukherjee:March 16, 2012: positive\n",
            "--------------------------------------------------------------------------------------------------------------------------------------------------------------------------------------------------------\n",
            "Speech of Arun Jaitley:July 10, 2014:\n",
            "          0    1      2     3      4\n",
            "0  positive  1.0  18.0%  6.0%  76.0%\n",
            "Sentiment polarity of Arun Jaitley:July 10, 2014: positive\n",
            "--------------------------------------------------------------------------------------------------------------------------------------------------------------------------------------------------------\n",
            "Speech of Arun Jaitley:February 28, 2015:\n",
            "          0    1      2     3      4\n",
            "0  positive  1.0  19.0%  5.0%  76.0%\n",
            "Sentiment polarity of Arun Jaitley:February 28, 2015: positive\n",
            "--------------------------------------------------------------------------------------------------------------------------------------------------------------------------------------------------------\n",
            "Speech of Piyush Goyal:February 1, 2019:\n",
            "          0    1      2     3      4\n",
            "0  positive  1.0  21.0%  5.0%  74.0%\n",
            "Sentiment polarity of Piyush Goyal:February 1, 2019: positive\n",
            "--------------------------------------------------------------------------------------------------------------------------------------------------------------------------------------------------------\n",
            "Speech of Nirmala Sitharaman:July 5, 2019:\n",
            "          0    1      2     3      4\n",
            "0  positive  1.0  18.0%  4.0%  78.0%\n",
            "Sentiment polarity of Nirmala Sitharaman:July 5, 2019: positive\n",
            "--------------------------------------------------------------------------------------------------------------------------------------------------------------------------------------------------------\n",
            "Speech of Arun Jaitley:February 1, 2017:\n",
            "          0    1      2     3      4\n",
            "0  positive  1.0  18.0%  5.0%  78.0%\n",
            "Sentiment polarity of Arun Jaitley:February 1, 2017: positive\n",
            "--------------------------------------------------------------------------------------------------------------------------------------------------------------------------------------------------------\n",
            "Speech of Arun Jaitley:February 1, 2018:\n",
            "          0    1      2     3      4\n",
            "0  positive  1.0  18.0%  4.0%  78.0%\n",
            "Sentiment polarity of Arun Jaitley:February 1, 2018: positive\n",
            "--------------------------------------------------------------------------------------------------------------------------------------------------------------------------------------------------------\n",
            "Speech of Pranab Mukherjee:February  26,  2010:\n",
            "          0    1      2     3      4\n",
            "0  positive  1.0  19.0%  4.0%  78.0%\n",
            "Sentiment polarity of Pranab Mukherjee:February  26,  2010: positive\n",
            "--------------------------------------------------------------------------------------------------------------------------------------------------------------------------------------------------------\n",
            "Speech of Arun Jaitley:February 29, 2016:\n",
            "          0    1      2     3      4\n",
            "0  positive  1.0  17.0%  5.0%  78.0%\n",
            "Sentiment polarity of Arun Jaitley:February 29, 2016: positive\n",
            "--------------------------------------------------------------------------------------------------------------------------------------------------------------------------------------------------------\n",
            "Speech of Pranab Mukherjee:February 28, 2011:\n",
            "          0    1      2     3      4\n",
            "0  positive  1.0  17.0%  4.0%  79.0%\n",
            "Sentiment polarity of Pranab Mukherjee:February 28, 2011: positive\n",
            "--------------------------------------------------------------------------------------------------------------------------------------------------------------------------------------------------------\n",
            "Speech of P. Chidambaram:February 28, 2013:\n",
            "          0    1      2     3      4\n",
            "0  positive  1.0  19.0%  4.0%  77.0%\n",
            "Sentiment polarity of P. Chidambaram:February 28, 2013: positive\n",
            "--------------------------------------------------------------------------------------------------------------------------------------------------------------------------------------------------------\n",
            "Speech of P. Chidambaram:February 17, 2014:\n",
            "          0    1      2                   3      4\n",
            "0  positive  1.0  17.0%  7.000000000000001%  76.0%\n",
            "Sentiment polarity of P. Chidambaram:February 17, 2014: positive\n",
            "--------------------------------------------------------------------------------------------------------------------------------------------------------------------------------------------------------\n"
          ],
          "name": "stdout"
        }
      ]
    },
    {
      "cell_type": "code",
      "metadata": {
        "id": "EfJl3sTrc8P7",
        "colab_type": "code",
        "colab": {}
      },
      "source": [
        "#predicted_sentiments = [analyze_sentiment_vader_lexicon(speech, threshold=0.4, verbose=False) for speech in df.Speech_Cleaned]"
      ],
      "execution_count": 0,
      "outputs": []
    },
    {
      "cell_type": "markdown",
      "metadata": {
        "id": "FxrQKlL6eO7u",
        "colab_type": "text"
      },
      "source": [
        "# Sentiment Analysis with Sentiwordnet"
      ]
    },
    {
      "cell_type": "markdown",
      "metadata": {
        "id": "t6To8vTdetO4",
        "colab_type": "text"
      },
      "source": [
        "SentiWordNet word scores:\n",
        "\n",
        "We will go through some sample sentences, look at word's sentiments. Steps are:\n",
        "\n",
        "    Tokenize each sentence\n",
        "    Lemmatize each token and check its sentiment"
      ]
    },
    {
      "cell_type": "markdown",
      "metadata": {
        "id": "T3P374Rqexke",
        "colab_type": "text"
      },
      "source": [
        "SentiWordNet sentiments applied to sentences:\n",
        "\n",
        "It is nice to have these individual words having sentiments, but what about sentences? How can we evaluate sentences?\n",
        "\n",
        "    Let's implement something very simple. We can take difference between positive and negative score for each token in the sentence and sum them.\n",
        "    The result will be the overall score for our sentence.\n",
        "    We will update the previous code slightly.\n"
      ]
    },
    {
      "cell_type": "markdown",
      "metadata": {
        "id": "xXHFNkhVe0kO",
        "colab_type": "text"
      },
      "source": [
        "Conclusion:\n",
        "\n",
        "So far we have been able to come up with a solution to sentence sentiment scores, but there are a few points:\n",
        "\n",
        "    Many words have relatively different sentiment depending on the local context.\n",
        "    We disregard the relationship between words.\n",
        "    We need more complex models such as Naive Bayes, K Nearest Neighbors."
      ]
    },
    {
      "cell_type": "code",
      "metadata": {
        "id": "YFDu2vWrehdK",
        "colab_type": "code",
        "outputId": "f920381d-f8f7-46a3-d1f1-afb5ec29ab3a",
        "colab": {
          "base_uri": "https://localhost:8080/",
          "height": 72
        }
      },
      "source": [
        "nltk.download('sentiwordnet')"
      ],
      "execution_count": 22,
      "outputs": [
        {
          "output_type": "stream",
          "text": [
            "[nltk_data] Downloading package sentiwordnet to /root/nltk_data...\n",
            "[nltk_data]   Unzipping corpora/sentiwordnet.zip.\n"
          ],
          "name": "stdout"
        },
        {
          "output_type": "execute_result",
          "data": {
            "text/plain": [
              "True"
            ]
          },
          "metadata": {
            "tags": []
          },
          "execution_count": 22
        }
      ]
    },
    {
      "cell_type": "code",
      "metadata": {
        "id": "NUMkeU0AelWV",
        "colab_type": "code",
        "outputId": "ae8054af-88ad-4826-cde2-c42167e7d39f",
        "colab": {
          "base_uri": "https://localhost:8080/",
          "height": 72
        }
      },
      "source": [
        "nltk.download('wordnet')"
      ],
      "execution_count": 23,
      "outputs": [
        {
          "output_type": "stream",
          "text": [
            "[nltk_data] Downloading package wordnet to /root/nltk_data...\n",
            "[nltk_data]   Unzipping corpora/wordnet.zip.\n"
          ],
          "name": "stdout"
        },
        {
          "output_type": "execute_result",
          "data": {
            "text/plain": [
              "True"
            ]
          },
          "metadata": {
            "tags": []
          },
          "execution_count": 23
        }
      ]
    },
    {
      "cell_type": "code",
      "metadata": {
        "id": "6hL3KTuJdDwN",
        "colab_type": "code",
        "outputId": "d448283e-79ea-40fb-f2b5-d88182d7008c",
        "colab": {
          "base_uri": "https://localhost:8080/",
          "height": 127
        }
      },
      "source": [
        "#Let' download the necessary packages for Sentiment Analysis using Sentiwordnet.\n",
        "import nltk\n",
        "from nltk.tokenize import word_tokenize\n",
        "from nltk.stem import SnowballStemmer\n",
        "# We need to download the 'punkt' package to use tokenizers\n",
        "nltk.download('punkt', download_dir='/tmp/')\n",
        "nltk.download('wordnet', download_dir='/tmp/')\n",
        "nltk.download('sentiwordnet', download_dir='/tmp/')\n",
        "nltk.data.path.append(\"tmp\")\n",
        "from nltk.corpus import sentiwordnet as swn"
      ],
      "execution_count": 24,
      "outputs": [
        {
          "output_type": "stream",
          "text": [
            "[nltk_data] Downloading package punkt to /tmp/...\n",
            "[nltk_data]   Unzipping tokenizers/punkt.zip.\n",
            "[nltk_data] Downloading package wordnet to /tmp/...\n",
            "[nltk_data]   Unzipping corpora/wordnet.zip.\n",
            "[nltk_data] Downloading package sentiwordnet to /tmp/...\n",
            "[nltk_data]   Unzipping corpora/sentiwordnet.zip.\n"
          ],
          "name": "stdout"
        }
      ]
    },
    {
      "cell_type": "code",
      "metadata": {
        "id": "Kr86F3MFeRok",
        "colab_type": "code",
        "outputId": "32175fbc-9a7b-4fd5-d5aa-e62c50db1aef",
        "colab": {
          "base_uri": "https://localhost:8080/",
          "height": 72
        }
      },
      "source": [
        "#test\n",
        "super = list(swn.senti_synsets('super', 'a'))[0]\n",
        "print('Positive Polarity Score:', super.pos_score())\n",
        "print('Negative Polarity Score:', super.neg_score())\n",
        "print('Objective Score:', super.obj_score())"
      ],
      "execution_count": 25,
      "outputs": [
        {
          "output_type": "stream",
          "text": [
            "Positive Polarity Score: 0.625\n",
            "Negative Polarity Score: 0.0\n",
            "Objective Score: 0.375\n"
          ],
          "name": "stdout"
        }
      ]
    },
    {
      "cell_type": "code",
      "metadata": {
        "id": "DHrgYjWReVUC",
        "colab_type": "code",
        "colab": {}
      },
      "source": [
        "def analyze_sentiment_sentiwordnet_lexicon(speech,\n",
        "                                           verbose=False):\n",
        "\n",
        "    # tokenize and POS tag text tokens\n",
        "    tagged_text = nltk.pos_tag(speech)\n",
        "    pos_score = neg_score = token_count = obj_score = 0\n",
        "    # get wordnet synsets based on POS tags\n",
        "    # get sentiment scores if synsets are found\n",
        "    for word, tag in tagged_text:\n",
        "        ss_set = None\n",
        "        if 'NN' in tag and list(swn.senti_synsets(word, 'n')):\n",
        "            ss_set = list(swn.senti_synsets(word, 'n'))[0]\n",
        "        elif 'VB' in tag and list(swn.senti_synsets(word, 'v')):\n",
        "            ss_set = list(swn.senti_synsets(word, 'v'))[0]\n",
        "        elif 'JJ' in tag and list(swn.senti_synsets(word, 'a')):\n",
        "            ss_set = list(swn.senti_synsets(word, 'a'))[0]\n",
        "        elif 'RB' in tag and list(swn.senti_synsets(word, 'r')):\n",
        "            ss_set = list(swn.senti_synsets(word, 'r'))[0]\n",
        "        # if senti-synset is found        \n",
        "        if ss_set:\n",
        "            # add scores for all found synsets\n",
        "            pos_score += ss_set.pos_score()\n",
        "            neg_score += ss_set.neg_score()\n",
        "            obj_score += ss_set.obj_score()\n",
        "            token_count += 1\n",
        "    \n",
        "    # aggregate final scores\n",
        "    final_score = pos_score - neg_score\n",
        "    norm_final_score = round(float(final_score) / token_count, 2)\n",
        "    final_sentiment = 'positive' if norm_final_score >= 0 else 'negative'\n",
        "    if verbose:\n",
        "        norm_obj_score = round(float(obj_score) / token_count, 2)\n",
        "        norm_pos_score = round(float(pos_score) / token_count, 2)\n",
        "        norm_neg_score = round(float(neg_score) / token_count, 2)\n",
        "        # to display results in a nice format\n",
        "        sentiment_frame = pd.DataFrame([[final_sentiment, norm_obj_score, norm_pos_score, \n",
        "                                         norm_neg_score, norm_final_score]])\n",
        "        sentiment_frame = sentiment_frame.rename(columns = {0:\"sentiment\",1:\"obj_score\",2:\"pos_score\",3:\"neg_score\",4:\"final_score\"})\n",
        "        #print(sentiment_frame)\n",
        "        \n",
        "    return sentiment_frame"
      ],
      "execution_count": 0,
      "outputs": []
    },
    {
      "cell_type": "code",
      "metadata": {
        "id": "1tR5ou3he5jx",
        "colab_type": "code",
        "outputId": "161fed3f-4f42-40fb-af41-73b1a27066e3",
        "colab": {
          "base_uri": "https://localhost:8080/",
          "height": 919
        }
      },
      "source": [
        "for index, speech in enumerate(df['Speech_Cleaned']):\n",
        "    print('Sentiment polarity of {}:'.format(df.index[index]))#, speech)\n",
        "    print(analyze_sentiment_sentiwordnet_lexicon(speech, verbose=True))\n",
        "    print('-'*200)"
      ],
      "execution_count": 28,
      "outputs": [
        {
          "output_type": "stream",
          "text": [
            "Sentiment polarity of Pranab Mukherjee:March 16, 2012:\n",
            "  sentiment  obj_score  pos_score  neg_score  final_score\n",
            "0  positive       0.92       0.07       0.02         0.05\n",
            "--------------------------------------------------------------------------------------------------------------------------------------------------------------------------------------------------------\n",
            "Sentiment polarity of Arun Jaitley:July 10, 2014:\n",
            "  sentiment  obj_score  pos_score  neg_score  final_score\n",
            "0  positive       0.92       0.07       0.02         0.05\n",
            "--------------------------------------------------------------------------------------------------------------------------------------------------------------------------------------------------------\n",
            "Sentiment polarity of Arun Jaitley:February 28, 2015:\n",
            "  sentiment  obj_score  pos_score  neg_score  final_score\n",
            "0  positive       0.91       0.07       0.02         0.05\n",
            "--------------------------------------------------------------------------------------------------------------------------------------------------------------------------------------------------------\n",
            "Sentiment polarity of Piyush Goyal:February 1, 2019:\n",
            "  sentiment  obj_score  pos_score  neg_score  final_score\n",
            "0  positive       0.91       0.07       0.02         0.05\n",
            "--------------------------------------------------------------------------------------------------------------------------------------------------------------------------------------------------------\n",
            "Sentiment polarity of Nirmala Sitharaman:July 5, 2019:\n",
            "  sentiment  obj_score  pos_score  neg_score  final_score\n",
            "0  positive       0.92       0.06       0.02         0.05\n",
            "--------------------------------------------------------------------------------------------------------------------------------------------------------------------------------------------------------\n",
            "Sentiment polarity of Arun Jaitley:February 1, 2017:\n",
            "  sentiment  obj_score  pos_score  neg_score  final_score\n",
            "0  positive       0.92       0.07       0.02         0.05\n",
            "--------------------------------------------------------------------------------------------------------------------------------------------------------------------------------------------------------\n",
            "Sentiment polarity of Arun Jaitley:February 1, 2018:\n",
            "  sentiment  obj_score  pos_score  neg_score  final_score\n",
            "0  positive       0.92       0.07       0.02         0.05\n",
            "--------------------------------------------------------------------------------------------------------------------------------------------------------------------------------------------------------\n",
            "Sentiment polarity of Pranab Mukherjee:February  26,  2010:\n",
            "  sentiment  obj_score  pos_score  neg_score  final_score\n",
            "0  positive       0.92       0.07       0.02         0.05\n",
            "--------------------------------------------------------------------------------------------------------------------------------------------------------------------------------------------------------\n",
            "Sentiment polarity of Arun Jaitley:February 29, 2016:\n",
            "  sentiment  obj_score  pos_score  neg_score  final_score\n",
            "0  positive       0.91       0.07       0.02         0.05\n",
            "--------------------------------------------------------------------------------------------------------------------------------------------------------------------------------------------------------\n",
            "Sentiment polarity of Pranab Mukherjee:February 28, 2011:\n",
            "  sentiment  obj_score  pos_score  neg_score  final_score\n",
            "0  positive       0.92       0.07       0.02         0.05\n",
            "--------------------------------------------------------------------------------------------------------------------------------------------------------------------------------------------------------\n",
            "Sentiment polarity of P. Chidambaram:February 28, 2013:\n",
            "  sentiment  obj_score  pos_score  neg_score  final_score\n",
            "0  positive       0.92       0.07       0.02         0.05\n",
            "--------------------------------------------------------------------------------------------------------------------------------------------------------------------------------------------------------\n",
            "Sentiment polarity of P. Chidambaram:February 17, 2014:\n",
            "  sentiment  obj_score  pos_score  neg_score  final_score\n",
            "0  positive       0.91       0.07       0.02         0.05\n",
            "--------------------------------------------------------------------------------------------------------------------------------------------------------------------------------------------------------\n"
          ],
          "name": "stdout"
        }
      ]
    },
    {
      "cell_type": "code",
      "metadata": {
        "id": "gtOEZMYAZhTO",
        "colab_type": "code",
        "colab": {}
      },
      "source": [
        ""
      ],
      "execution_count": 0,
      "outputs": []
    }
  ]
}