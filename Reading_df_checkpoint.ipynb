{
  "nbformat": 4,
  "nbformat_minor": 0,
  "metadata": {
    "colab": {
      "name": "Reading_df_checkpoint.ipynb",
      "provenance": [],
      "toc_visible": true,
      "mount_file_id": "1ANnv9nxnfpSE8XDG2JCYXyLeFyyYC9Y-",
      "authorship_tag": "ABX9TyNvvpcLbbgyNncqWgMZLtKL",
      "include_colab_link": true
    },
    "kernelspec": {
      "name": "python3",
      "display_name": "Python 3"
    }
  },
  "cells": [
    {
      "cell_type": "markdown",
      "metadata": {
        "id": "view-in-github",
        "colab_type": "text"
      },
      "source": [
        "<a href=\"https://colab.research.google.com/github/solharsh/Capstone_Sentiment_Analysis/blob/master/Reading_df_checkpoint.ipynb\" target=\"_parent\"><img src=\"https://colab.research.google.com/assets/colab-badge.svg\" alt=\"Open In Colab\"/></a>"
      ]
    },
    {
      "cell_type": "markdown",
      "metadata": {
        "id": "Vwd0Xruucf2O",
        "colab_type": "text"
      },
      "source": [
        "#CAPSTONE PROJECT - SENTIMENT ANALYSIS ON FINANCIAL SPEECHES"
      ]
    },
    {
      "cell_type": "markdown",
      "metadata": {
        "id": "ySsn_FUOcmT6",
        "colab_type": "text"
      },
      "source": [
        "# READING FILES AND CREATING DATAFRAME"
      ]
    },
    {
      "cell_type": "code",
      "metadata": {
        "id": "wg-MfSZYaCw-",
        "colab_type": "code",
        "colab": {
          "base_uri": "https://localhost:8080/",
          "height": 67
        },
        "outputId": "28f2ad28-7b98-4ea5-9cf4-0f306fe75906"
      },
      "source": [
        "import nltk \n",
        "nltk.download('stopwords')"
      ],
      "execution_count": 3,
      "outputs": [
        {
          "output_type": "stream",
          "text": [
            "[nltk_data] Downloading package stopwords to /root/nltk_data...\n",
            "[nltk_data]   Unzipping corpora/stopwords.zip.\n"
          ],
          "name": "stdout"
        },
        {
          "output_type": "execute_result",
          "data": {
            "text/plain": [
              "True"
            ]
          },
          "metadata": {
            "tags": []
          },
          "execution_count": 3
        }
      ]
    },
    {
      "cell_type": "code",
      "metadata": {
        "id": "5ggvDkk4aD_h",
        "colab_type": "code",
        "colab": {
          "base_uri": "https://localhost:8080/",
          "height": 320
        },
        "outputId": "b45160c5-77c5-4882-8680-1ef35cf655c8"
      },
      "source": [
        "!pip install contractions "
      ],
      "execution_count": 2,
      "outputs": [
        {
          "output_type": "stream",
          "text": [
            "Collecting contractions\n",
            "  Downloading https://files.pythonhosted.org/packages/85/41/c3dfd5feb91a8d587ed1a59f553f07c05f95ad4e5d00ab78702fbf8fe48a/contractions-0.0.24-py2.py3-none-any.whl\n",
            "Collecting textsearch\n",
            "  Downloading https://files.pythonhosted.org/packages/42/a8/03407021f9555043de5492a2bd7a35c56cc03c2510092b5ec018cae1bbf1/textsearch-0.0.17-py2.py3-none-any.whl\n",
            "Collecting pyahocorasick\n",
            "\u001b[?25l  Downloading https://files.pythonhosted.org/packages/f4/9f/f0d8e8850e12829eea2e778f1c90e3c53a9a799b7f412082a5d21cd19ae1/pyahocorasick-1.4.0.tar.gz (312kB)\n",
            "\u001b[K     |████████████████████████████████| 317kB 4.8MB/s \n",
            "\u001b[?25hCollecting Unidecode\n",
            "\u001b[?25l  Downloading https://files.pythonhosted.org/packages/d0/42/d9edfed04228bacea2d824904cae367ee9efd05e6cce7ceaaedd0b0ad964/Unidecode-1.1.1-py2.py3-none-any.whl (238kB)\n",
            "\u001b[K     |████████████████████████████████| 245kB 20.9MB/s \n",
            "\u001b[?25hBuilding wheels for collected packages: pyahocorasick\n",
            "  Building wheel for pyahocorasick (setup.py) ... \u001b[?25l\u001b[?25hdone\n",
            "  Created wheel for pyahocorasick: filename=pyahocorasick-1.4.0-cp36-cp36m-linux_x86_64.whl size=81699 sha256=2c57f2364bbd136261c36ad6590e70daea0790c11e611df9451bd59e7766e9f7\n",
            "  Stored in directory: /root/.cache/pip/wheels/0a/90/61/87a55f5b459792fbb2b7ba6b31721b06ff5cf6bde541b40994\n",
            "Successfully built pyahocorasick\n",
            "Installing collected packages: pyahocorasick, Unidecode, textsearch, contractions\n",
            "Successfully installed Unidecode-1.1.1 contractions-0.0.24 pyahocorasick-1.4.0 textsearch-0.0.17\n"
          ],
          "name": "stdout"
        }
      ]
    },
    {
      "cell_type": "code",
      "metadata": {
        "id": "qTfno-Z1aGkr",
        "colab_type": "code",
        "colab": {
          "base_uri": "https://localhost:8080/",
          "height": 170
        },
        "outputId": "26ad3474-892d-40c2-c403-323b30857dfd"
      },
      "source": [
        "import os\n",
        "import numpy as np\n",
        "import pandas as pd\n",
        "import re\n",
        "import spacy\n",
        "nlp = spacy.load(\"en_core_web_sm\")\n",
        "from spacy import displacy\n",
        "import nltk\n",
        "from nltk.tokenize import word_tokenize\n",
        "from nltk.tokenize import sent_tokenize\n",
        "nltk.download('averaged_perceptron_tagger')\n",
        "stopword = nltk.corpus.stopwords.words('english')\n",
        "from nltk.corpus import stopwords\n",
        "nltk.download('words')\n",
        "from nltk.text import Text\n",
        "import string, re\n",
        "from sklearn.feature_extraction.text import CountVectorizer\n",
        "string.punctuation\n",
        "wn = nltk.WordNetLemmatizer()\n",
        "import matplotlib.pyplot as plt\n",
        "%matplotlib inline\n",
        "import spacy\n",
        "#nlp = spacy.load('en')\n",
        "from textblob import TextBlob, Word, Blobber\n",
        "from textblob.classifiers import NaiveBayesClassifier\n",
        "from textblob.taggers import NLTKTagger\n",
        "#from vaderSentiment.vaderSentiment import SentimentIntensityAnalyzer\n",
        "from tqdm import tqdm_notebook as tqdm\n",
        "from tqdm import trange\n",
        "#analyzer = SentimentIntensityAnalyzer()\n",
        "# more common imports\n",
        "import pandas as pd\n",
        "import numpy as np\n",
        "from collections import Counter\n",
        "import re\n",
        "\n",
        "# languange processing imports\n",
        "import nltk\n",
        "from gensim.corpora import Dictionary\n",
        "# preprocessing imports\n",
        "from sklearn.preprocessing import LabelEncoder\n",
        "\n",
        "# model imports\n",
        "from gensim.models.ldamulticore import LdaMulticore\n",
        "from gensim.models.word2vec import Word2Vec\n",
        "from sklearn.ensemble import RandomForestClassifier, AdaBoostClassifier\n",
        "from sklearn.linear_model import LogisticRegression\n",
        "# hyperparameter training imports\n",
        "from sklearn.model_selection import GridSearchCV\n",
        "\n",
        "# visualization imports\n",
        "from IPython.display import display\n",
        "import seaborn as sns\n",
        "import matplotlib.pyplot as plt\n",
        "import matplotlib.image as mpimg\n",
        "import base64\n",
        "import io\n",
        "%matplotlib inline\n",
        "sns.set()  # defines the style of the plots to be seaborn style\n",
        "\n",
        "import spacy\n",
        "import pandas as pd\n",
        "import numpy as np\n",
        "import nltk\n",
        "from nltk.tokenize.toktok import ToktokTokenizer\n",
        "import re\n",
        "from bs4 import BeautifulSoup\n",
        "from contractions import contractions_dict\n",
        "import unicodedata\n",
        "\n",
        "nlp = spacy.load('en', parse = False, tag=False, entity=False)\n",
        "tokenizer = ToktokTokenizer()\n",
        "stopword_list = nltk.corpus.stopwords.words('english')\n",
        "stopword_list.remove('no')\n",
        "stopword_list.remove('not')"
      ],
      "execution_count": 6,
      "outputs": [
        {
          "output_type": "stream",
          "text": [
            "[nltk_data] Downloading package averaged_perceptron_tagger to\n",
            "[nltk_data]     /root/nltk_data...\n",
            "[nltk_data]   Package averaged_perceptron_tagger is already up-to-\n",
            "[nltk_data]       date!\n",
            "[nltk_data] Downloading package words to /root/nltk_data...\n",
            "[nltk_data]   Package words is already up-to-date!\n"
          ],
          "name": "stdout"
        },
        {
          "output_type": "stream",
          "text": [
            "/usr/local/lib/python3.6/dist-packages/statsmodels/tools/_testing.py:19: FutureWarning: pandas.util.testing is deprecated. Use the functions in the public API at pandas.testing instead.\n",
            "  import pandas.util.testing as tm\n"
          ],
          "name": "stderr"
        }
      ]
    },
    {
      "cell_type": "markdown",
      "metadata": {
        "id": "cb6ksFePabCy",
        "colab_type": "text"
      },
      "source": [
        "# Reading the files\n",
        "\n",
        "\n",
        "```\n",
        "We have 12 txt files. Each file contains respective speaker's speech. \n",
        "```\n",
        "\n"
      ]
    },
    {
      "cell_type": "code",
      "metadata": {
        "id": "4azEufWJaLUk",
        "colab_type": "code",
        "colab": {
          "base_uri": "https://localhost:8080/",
          "height": 217
        },
        "outputId": "110ae87e-1a88-4850-a85a-6d72c92938c4"
      },
      "source": [
        "#path of the directory with data\n",
        "path = r'/content/drive/My Drive/Capstone Project - NLP/NLP Assignment RAW/Text'\n",
        "#Getting the list of files contained in the above path\n",
        "files = os.listdir(path)\n",
        "#printing the result to see the file names\n",
        "files"
      ],
      "execution_count": 8,
      "outputs": [
        {
          "output_type": "execute_result",
          "data": {
            "text/plain": [
              "['201203 PM.txt',\n",
              " '201407 AJ.txt',\n",
              " '201502 AJ.txt',\n",
              " '201902 PG Int.txt',\n",
              " '201907 NS.txt',\n",
              " '201702 AJ.txt',\n",
              " '201802 AJ.txt',\n",
              " '201002 PM.txt',\n",
              " '201602 AJ.txt',\n",
              " '201102 PM.txt',\n",
              " '201302 PC.txt',\n",
              " '201402 PC Int.txt']"
            ]
          },
          "metadata": {
            "tags": []
          },
          "execution_count": 8
        }
      ]
    },
    {
      "cell_type": "markdown",
      "metadata": {
        "id": "Er0rDZ-4a5Dy",
        "colab_type": "text"
      },
      "source": [
        "These are the files that are present in the Text folder. Lets read all the data in these files and keep it in an object"
      ]
    },
    {
      "cell_type": "markdown",
      "metadata": {
        "id": "X-II5Trxa7y2",
        "colab_type": "text"
      },
      "source": [
        "Creating a list containing all the speeches"
      ]
    },
    {
      "cell_type": "code",
      "metadata": {
        "id": "iB2sfDLGawcC",
        "colab_type": "code",
        "colab": {}
      },
      "source": [
        "all_speech_list = []\n",
        "for f in files:\n",
        "    file_full_path = os.path.join(path, f)\n",
        "    with open(file_full_path, encoding=\"ISO-8859-1\") as f:\n",
        "        all_speech_list.append(f.read().strip())"
      ],
      "execution_count": 0,
      "outputs": []
    },
    {
      "cell_type": "code",
      "metadata": {
        "id": "_Y2EV-lNbE5N",
        "colab_type": "code",
        "colab": {
          "base_uri": "https://localhost:8080/",
          "height": 33
        },
        "outputId": "ef3bd51f-1876-45e9-e61e-375faf7bce28"
      },
      "source": [
        "print('We have the data for {} files'.format(len(all_speech_list)))"
      ],
      "execution_count": 10,
      "outputs": [
        {
          "output_type": "stream",
          "text": [
            "We have the data for 12 files\n"
          ],
          "name": "stdout"
        }
      ]
    },
    {
      "cell_type": "code",
      "metadata": {
        "id": "XeZedR3TbHS7",
        "colab_type": "code",
        "colab": {
          "base_uri": "https://localhost:8080/",
          "height": 53
        },
        "outputId": "960cce46-6d09-4a49-c306-fcb244bb669f"
      },
      "source": [
        "#checking the data with first speech\n",
        "all_speech_list[0]"
      ],
      "execution_count": 12,
      "outputs": [
        {
          "output_type": "execute_result",
          "data": {
            "text/plain": [
              "'Budget 2012-2013 \\n\\nSpeech of \\n\\nPranab Mukherjee \\n\\nMinister of Finance \\n\\nMarch 16, 2012 \\n\\nMadam Speaker, \\n\\nI rise to present the Union Budget for 2012-13. \\n\\nFor the Indian economy, this was a year of recovery interrupted. When \\none year ago, I rose to present the Budget, the challenges were many, but there \\nwas a sense that the world economy was on the mend. The Budget was presented \\nin the first glimmer of hope. But reality turned out to be different. The sovereign \\ndebt crisis in the Euro zone intensified, political turmoil in Middle East injected \\nwidespread uncertainty, crude oil prices rose, an earthquake struck Japan and \\nthe overall gloom refused to lift. \\n\\n2. While I believe that there should be no room for complacency, nor any \\nexcuse for what happens in one\\x92s own country, we will be misled if we ignore \\nthe ground realities of the world. The global crisis has affected us. India\\x92s Gross \\nDomestic Product (GDP) is estimated to grow by 6.9 per cent in 2011-12, after \\nhaving grown at the rate of 8.4 per cent in each of the two preceding years. \\nThough we have been able to limit the adverse impact of this slowdown on our \\neconomy, this year\\x92s performance has been disappointing. But it is also a fact \\nthat in any cross-country comparison, India still remains among the front runners \\nin economic growth. \\n3. For the better part of the past two years, we had to battle near double-\\ndigit headline inflation. Our monetary and fiscal policy response during this \\nperiod was geared towards taming domestic inflationary pressures. A tight \\nmonetary policy impacted investment and consumption growth. The fiscal policy \\nhad to absorb expanded outlays on subsidies and duty reductions to limit the \\npass-through of higher fuel prices to consumers. As a result growth moderated \\nand the fiscal balance deteriorated. \\n4. But there is good news in the detail. With agriculture and services \\ncontinuing to perform well, India\\x92s slowdown can be attributed almost entirely \\nto weak industrial growth. While we do not have aggregate figures for the last \\nhttp://indiabudget.nic.in \\n\\n\\n\\x0c\\n2 \\n\\nquarter of 2011-12, numerous indicators pertaining to this period suggest that \\nthe economy is now turning around. There are signs of recovery in coal, \\nfertilisers, cement and electricity sectors. These are core sectors that have an \\nimpact on the entire economy. Indian manufacturing appears to be on the cusp \\nof a revival. \\n\\n5. We are now at a juncture when it is necessary to take hard decisions. We \\nhave to improve our macroeconomic environment and strengthen domestic \\ngrowth drivers to sustain high growth in the medium term. We have to accelerate \\nthe pace of reforms and improve supply side management of the economy. \\n6. We are about to enter the first year of the Twelfth Five Year Plan which \\naims at \\x93faster, sustainable and more inclusive growth.\\x94 The Plan will be launched \\nwith the Budget proposals for 2012-13. In keeping with the stated priorities, I \\nhave identified five objectives that we must address effectively in the ensuing \\nfiscal year. These are: \\n\\x95 Focus on domestic demand driven growth recovery; \\n\\x95 Create conditions for rapid revival of high growth in private \\ninvestment; \\n\\x95 Address supply bottlenecks in agriculture, energy and transport \\nsectors, particularly in coal, power, national highways, railways \\nand civil aviation; \\n\\x95 Intervene decisively to address the problem of malnutrition \\nespecially in the 200 high-burden districts; and \\n\\x95 Expedite coordinated implementation of decisions being taken \\nto improve delivery systems, governance, and transparency; and \\naddress the problem of black money and corruption in public \\nlife. \\n7. Today, India has global responsibilities of a kind that it did not have \\nearlier. Our presence at the high table of global economic policy makers is a \\nmatter of some satisfaction. It, however, places new responsibilities on our \\nshoulders. If India can continue to build on its economic strength, it can be a \\nsource of stability for the world economy and provide a safe destination for \\nrestless global capital. \\n8. I know that mere words are not enough. What we need is a credible \\nroadmap backed by a set of implementable proposals to meet those objectives. \\nIn my attempt to do so, I have benefited from the able guidance of Hon\\x92ble \\nPrime Minister, Dr. Manmohan Singh, and strong support of the UPA Chairperson \\nSmt. Sonia Gandhi. \\nhttp://indiabudget.nic.in \\n\\n\\n\\x0c\\n3 \\n\\nI would now begin with a brief overview of the economy. \\n\\nOverview of the Economy \\n\\n9. Yesterday, I laid on the table of the House the Economic Survey \\n2011-12, which gives a detailed analysis of the economy over the past 12 months. \\nIndia\\x92s GDP is estimated to grow at 6.9 per cent in real terms in 2011-12. The \\ngrowth is estimated to be 2.5 per cent in agriculture, 3.9 per cent in industry and \\n9.4 per cent in services. There is a significant slowdown in comparison to the \\npreceding two years, primarily due to deceleration in industrial growth, more \\nspecifically in private investment. Rising cost of credit and weak domestic \\nbusiness sentiment, added to this decline. \\n10. The headline inflation remained high for most part of the year. It was \\nonly in December 2011 that it moderated to 8.3 per cent followed by 6.6 per cent \\nin January 2012. Monthly food inflation declined from 20.2 per cent in February \\n2010, to 9.4 per cent in March 2011 and turned negative in January 2012. Though \\nthe February 2012 inflation figure has gone up marginally, I expect the headline \\ninflation to moderate further in the next few months and remain stable thereafter. \\n11. India\\x92s inflation is largely structural, driven predominantly by agricultural \\nsupply constraints and global cost push. Evidence suggests that prolonged periods \\nof high food inflation tend to get generalised. Fortunately, steps taken to bridge \\ngaps in distribution, storage and marketing systems to strengthen food supply \\nchains have helped us in a more effective management of inflation and led to a \\ndecline in food inflation. \\n12. The developments in India\\x92s external trade in the first half of the current \\nyear were encouraging. During April-January 2011-12, exports grew by 23 per \\ncent to reach US Dollar 243 billion, while imports at US Dollar 391 billion \\nrecorded a growth of over 29 per cent. What is heartening is that India has \\nsuccessfully achieved diversification of export and import markets. The share of \\nAsia, including ASEAN, in total trade increased from 33.3 per cent in \\n2000-2001 to 57.3 per cent in the first half of 2011-12. This has helped us weather \\nthe impact of global crisis emanating from Europe and to a lesser extent from \\nUSA. \\n13. The current account deficit as a proportion of GDP for 2011-12 is likely \\nto be around 3.6 per cent. This, along with reduced net capital inflows in the \\nsecond and third quarters, put pressure on the exchange rate. \\n14. Taking a bird\\x92s eye view of the entire economy and keeping in mind the \\ndifficult global environment, I expect India\\x92s GDP growth in 2012-13 to be 7.6 \\nper cent, +/- 0.25 per cent. \\n15. I expect average inflation to be lower next year. I also expect the current \\naccount deficit to be smaller, aided by improvement in domestic financial savings. \\nhttp://indiabudget.nic.in \\n\\n\\n\\x0c\\n4 \\n\\nII. Growth \\nI now turn to growth and fiscal consolidation. \\n\\n16. Our fiscal balance has deteriorated in 2011-12 due to slippage in direct \\ntax revenue and increased subsidies. On both counts our underlying assumptions \\nat the time of Budget presentation last year were belied by subsequent \\ndevelopments. The profit margins came under pressure due to higher interest \\nrates and material costs. This impacted growth in corporate taxes. Further, as \\nagainst an assumption of US Dollar 90 a barrel, the average price of crude oil in \\n2011-12 is likely to exceed US Dollar 115. This has necessitated higher outlay \\non subsidies than projected. The continuing uncertainty in the global environment \\nmakes it necessary for us to strike a balance between fiscal consolidation and \\nstrengthening macroeconomic fundamentals to create adequate headroom to deal \\nwith future shocks. \\nFiscal Consolidation \\n\\nFRBM Act \\n\\n17. The implementation of the Fiscal Responsibility and Budget Management \\nAct, 2003 (FRBM Act) at Centre and the corresponding Acts at State level was \\nthe pivot in the successful consolidation of our fiscal balance prior to the global \\nfinancial crisis of 2008. The outbreak of the crisis coincided with the year when \\nthe mandated targets of 3 per cent fiscal deficit and elimination of revenue deficit \\nwere to be achieved. The Government had to deviate from these targets due to \\ninjection of fiscal stimulus at that time. Following my announcement in the last \\nBudget Speech, I am now introducing amendments to the FRBM Act as part of \\nFinance Bill, 2012. \\nExpenditure Reforms \\n\\n18. The fiscal targets for Centre under the amendments to the FRBM Act are \\nindicated in the Budget documents. Meanwhile, I would like to highlight two of \\nits features that are steps in the direction of expenditure reforms. First, the concept \\nof Effective Revenue Deficit, introduced in the last Budget, to address the \\nstructural imbalances in the revenue account, is being brought in as a fiscal \\nparameter. Effective Revenue Deficit is the difference between revenue deficit \\nand grants for creation of capital assets. Focusing on this will help in reducing \\nthe consumptive component of revenue deficit and create space for increased \\ncapital spending. \\n19. Second, a provision for \\x93Medium-term Expenditure Framework \\nStatement\\x94 is being introduced in the Act. This statement shall set forth a three-\\nyear rolling target for expenditure indicators. It would help in undertaking a denovo \\nexercise for allocating resources for prioritised schemes and weeding out \\nothers that have outlived their utility. This would provide greater certainty in \\nmulti-year budgeting framework. It would also encourage efficiencies in \\nexpenditure management. \\nhttp://indiabudget.nic.in \\n\\n\\n\\x0c\\n5 \\n\\n20. In implementing the Twelfth Plan, the recommendations made by the \\nExpert Committees to streamline and reduce the number of Centrally Sponsored \\nSchemes and to address Plan and non-Plan classification, would be kept in \\nview. The Central Plan Scheme Monitoring System would be expanded to \\nfacilitate better tracking and utilisation of funds released by the Central \\nGovernment. \\nSubsidies \\n\\n21. Fiscal consolidation calls for efforts both to raise the tax-GDP ratio and \\nto lower the expenditure. In this context, we need to take a close look at the \\ngrowth of our revenue expenditure, particularly on subsidies. The major subsidies \\nat the Centre are for food, fertilisers and petroleum products. Some subsidies at \\nthis juncture in our development are inevitable. But they become undesirable if \\nthey compromise the macroeconomic fundamentals of the economy, more so, \\nwhen they don\\x92t reach the intended beneficiaries. \\n22. The Government has decided that from 2012-13 subsidies related to food \\nand for administering the Food Security Act will be fully provided for. All other \\nsubsidies would be funded to the extent that they can be borne by the economy \\nwithout any adverse implications. It would be my endeavour to restrict the \\nexpenditure on Central subsidies to under 2 per cent of GDP in 2012-13. Over \\nthe next three years, it would be further brought down to 1.75 per cent of GDP. \\nSuch a step is needed to improve the quality of public spending. Our effort now \\nwill be directed towards better targeting and leakage proof delivery of the \\nsubsidies. \\n23. The recommendations of the task force headed by Shri Nandan Nilekani \\non IT strategy for direct transfer of subsidy have been accepted. Based on these \\nrecommendations, a mobile- based Fertiliser Management System (mFMS) has \\nbeen designed to provide end-to-end information on the movement of fertilisers \\nand subsidies, from the manufacturer to the retail level. This will be rolled out \\nnation-wide during 2012. Direct transfer of subsidy to the retailer, and eventually \\nto the farmer will be implemented in subsequent phases. This step will benefit \\n12 crore farmer families, while reducing expenditure on subsidies by curtailing \\nmisuse of fertilisers. \\n24. All the three public sector Oil Marketing Companies have launched LPG \\ntransparency portals to improve customer service and reduce leakage. A pilot \\nproject for selling LPG at market price and reimbursement of subsidy directly \\ninto the beneficiary\\x92s bank account is being conducted in Mysore. A similar pilot \\nproject on direct transfer of subsidy for kerosene into the bank accounts of \\nbeneficiaries has been initiated in Alwar district of Rajasthan. The Aadhaar \\nplatform has also been successfully used to validate PDS ration cards in \\nJharkhand. \\nhttp://indiabudget.nic.in \\n\\n\\n\\x0c\\n6 \\n\\n25. These pilot projects show that substantial economies in subsidy outgo \\ncan be achieved by the use of Aadhaar platform. It will be our endeavour to scale \\nup and roll out these Aadhaar enabled payments for various government schemes \\nin at least 50 selected districts within the next six months. \\nTax Reforms \\n\\n26. As Hon\\x92ble Members are aware, the Direct Taxes Code (DTC) Bill was \\nintroduced in Parliament in August 2010. It was our earnest desire to give effect \\nto DTC from April 1, 2012. However, we received the Report of the Parliamentary \\nStanding Committee on March 9, 2012. We will examine the report expeditiously \\nand take steps for the enactment of DTC at the earliest. \\n27. Similarly, the Constitution Amendment Bill, a preparatory step in the \\nimplementation of Goods and Services Tax (GST) was introduced in Parliament \\nin March 2011 and is before the Parliamentary Standing Committee. As we await \\nrecommendations of the Committee, drafting of model legislation for Centre \\nand State GST in concert with States is under progress. \\n28. The structure of GST Network (GSTN) has been approved by the \\nEmpowered Committee of State Finance Ministers. GSTN will be set up as a \\nNational Information Utility and will become operational by August 2012. The \\nGSTN will implement common PAN-based registration, returns filing and \\npayments processing for all States on a shared platform. The use of PAN as a \\ncommon identifier in both direct and indirect taxes, will enhance transparency \\nand check tax evasion. I solicit the support of all my colleagues cutting across \\nparty lines for an early passage of these landmark legislations. \\nDisinvestment Policy \\n\\n29. The Government has further evolved its approach to divestment of Central \\nPublic Sector Enterprises (CPSEs). The CPSEs are being given a level playing \\nfield vis-a-vis the private sector with regard to practices like buy-backs and listing \\nat stock exchange. The treasury management options for CPSEs have also been \\nenhanced. This will help improve the returns on public assets, support transparent \\nenvironment for the divestment process, besides unlocking the value and resources \\nfor all stakeholders. \\n30. In 2011-12, as against a target of ` 40,000 crore, the Government will \\nraise about ` 14,000 crore from disinvestment. For 2012-13, I propose to raise \\n` 30,000 crore through disinvestment. Let me reiterate here that while we are \\ncommitted to enhancing people\\x92s ownership of CPSEs, at least 51 per cent \\nownership and management control will remain with the Government. \\nhttp://indiabudget.nic.in \\n\\n\\n\\x0c\\n7 \\n\\nStrengthening Investment Environment \\n\\n31. The domestic investment environment has suffered on multiple counts \\nin the past year. It is time to fast track policy decisions and ensure on-time \\nimplementation of major projects. \\nForeign Direct Investment \\n\\n32. Organised retail helps in reducing cost of intermediation due to economies \\nof scale, benefiting both consumers and producers. At present, FDI in single \\nbrand and in cash and carry wholesale trade is permitted to the extent of 100 per \\ncent. The decision in respect of allowing FDI in multi-brand retail trade up to 51 \\nper cent, subject to compliance with specified conditions, has been held in \\nabeyance. Efforts are on to arrive at a broad based consensus in consultation \\nwith the State Governments. \\nAdvance Pricing Agreement \\n\\n33. In a globalised economy with expanding cross-border production chains \\nand growing trade within entities of the same group, Advance Pricing Agreement \\n(APA) can significantly bring down tax litigation and provide tax certainty to \\nforeign investors. Though, the provision for APA has been included in the DTC \\nBill, 2010, I propose to bring forward its implementation by introducing it in the \\nFinance Bill, 2012. \\nFinancial Sector \\n\\n34. Reforms in the financial sector have been pursued with the objective of \\nmore efficient market intermediation between savers and investors. \\n35. To encourage flow of savings in financial instruments and improve the \\ndepth of domestic capital market, it is proposed to introduce a new scheme called \\nRajiv Gandhi Equity Savings Scheme. The scheme would allow for income tax \\ndeduction of 50 per cent to new retail investors, who invest up to ` 50,000 directly \\nin equities and whose annual income is below ` 10 lakh. The scheme will have \\na lock-in period of 3 years. The details will be announced in due course. \\nCapital Markets \\n\\n36. During the year 2011-12, we took a series of steps to deepen the capital \\nmarket and encourage investment in infrastructure sector. These steps included \\nraising of FII investment limit in long-term infrastructure bonds, corporate bonds \\nand government securities. The limit on External Commercial Borrowings (ECB) \\nwas also raised and qualified foreign investors were allowed to invest in specified \\nIndian mutual funds and directly in equities. \\nhttp://indiabudget.nic.in \\n\\n\\n\\x0c\\n8 \\n\\n37. I now propose to take the next steps in deepening the reforms in Capital \\nmarket by: \\n\\x95 Allowing Qualified Foreign Investors (QFIs) to access Indian \\nCorporate Bond market; \\n\\x95 Simplifying the process of issuing Initial Public Offers (IPOs), \\nlowering their costs and helping companies reach more retail \\ninvestors in small towns. To achieve this, in addition to the existing \\nIPO process, I propose to make it mandatory for companies to issue \\nIPOs of ` 10 crore and above in electronic form through nationwide \\nbroker network of stock exchanges; \\n\\x95 Providing opportunities for wider shareholder participation in \\nimportant decisions of the companies through electronic voting \\nfacilities, besides existing process for shareholder voting, which \\nwould be made mandatory initially for top listed companies; \\nand \\n\\x95 Permitting two-way fungibility in Indian Depository Receipts \\nsubject to a ceiling with the objective of encouraging greater foreign \\nparticipation in Indian capital market. \\nLegislative Reforms \\n\\n38. We have received the recommendations of the Standing Committee on \\nFinance on \\x93The Pension Fund Regulatory and Development Authority Bill, \\n2011\\x94, \\x93The Banking Laws (Amendment) Bill, 2011\\x94 and \\x93The Insurance Laws \\n(Amendment) Bill, 2008\\x94. The official amendments to these Bills will be moved \\nin this session of the Parliament. \\n39. To take forward the process of financial sector legislative reforms, the \\nGovernment proposes to move the following Bills in the Budget Session of the \\nParliament: \\n\\x95 The Micro Finance Institutions (Development and Regulation) Bill, \\n2012; \\n\\x95 The National Housing Bank (Amendment) Bill, 2012; \\n\\x95 The Small Industries Development Bank of India (Amendment) \\nBill, 2012; \\n\\x95 National Bank for Agriculture and Rural Development \\n(Amendment) Bill, 2012; \\n\\x95 Regional Rural Banks (Amendment) Bill, 2012; \\n\\x95 Indian Stamp (Amendment) Bill, 2012; and \\n\\x95 Public Debt Management Agency of India Bill, 2012. \\nhttp://indiabudget.nic.in \\n\\n\\n\\x0c\\n9 \\n\\n40. The Enforcement of Security Interest and Recovery of Debts Laws \\n(Amendment) Bill, 2011 has already been introduced in Parliament. \\nCapitalisation of Banks and Financial Holding Company \\n\\n41. The Government is committed to protect the financial health of Public \\nSector Banks and financial institutions. For the year 2012-13, I propose to provide \\n` 15,888 crore for capitalisation of Public Sector Banks, Regional Rural Banks \\nand other financial institutions including NABARD. The Government is also \\nexamining the possibility of creating a financial holding company which will \\nraise resources to meet the capital requirements of Public Sector Banks. \\n42. To bring banking payment structure at par with global standards, a \\ncomprehensive action plan has been prepared for implementation in 2012-13. A \\ncentral Know Your Customer (KYC) depository will be developed in 2012-13 to \\navoid multiplicity of registration and data upkeep. \\nPriority Sector Lending \\n\\n43. A committee set up by RBI to re-examine the existing classification and \\nsuggest revised guidelines on priority sector lending has submitted its report. \\nAfter stakeholder consultation, revised guidelines will be issued. \\nFinancial Inclusion \\n\\n44. In 2010-11, \\x93Swabhimaan\\x94 campaign was launched to extend banking \\nfacilities through Business Correspondents to habitations having population in \\nexcess of 2000. I am happy to announce that out of 73,000 identified habitations \\nthat were to be covered by March, 2012, about 70,000 habitations have been \\nprovided with banking facilities. With this, over 2.55 crore beneficiary accounts \\nwould have been operationalised. The remaining habitations are likely to be covered \\nby March 31, 2012. As a next step, Ultra Small Branches are being set up at these \\nhabitations, where the Business Correspondents would deal with cash transactions. \\n45. In 2012-13, I propose to extend the \\x93Swabhimaan\\x94 campaign to habitations \\nwith population of more than 1000 in North Eastern and hilly States and to other \\nhabitations which have crossed population of 2,000 as per Census 2011. \\nRegional Rural Banks \\n\\n46. Regional Rural Banks (RRBs) have played a crucial role in meeting the \\ncredit needs of rural areas. I am happy to inform that of the 82 RRBs in India, 81 \\nhave successfully migrated to Core Banking Solutions (CBS) and have also joined \\nthe National Electronic Fund Transfer system. \\n47. The Government had initiated the process of capitalisation of 40 \\nfinancially weak RRBs, which has been completed in respect of 12 RRBs by the \\nend of February, 2012. I propose to extend the scheme of capitalisation of weak \\nRRBs by another 2 years to enable all the States to contribute their share. \\nhttp://indiabudget.nic.in \\n\\n\\n\\x0c\\n10 \\n\\nIII. Infrastructure and Industrial Development \\nLet me now turn to infrastructure and industrial development. \\n\\n48. Lack of adequate infrastructure is a major constraint on our growth. The \\nstrategy we have followed so far is to increase investment in infrastructure through \\na combination of public investment and public private partnerships (PPP). During \\nthe Twelfth Plan period, infrastructure investment will go up to ` 50 lakh crore. \\nAbout half of this is expected to come from private sector. \\n49. Viability Gap Funding (VGF) under the Scheme for Support to PPP in \\ninfrastructure is an important instrument in attracting private investment into \\nthe sector. This year it has been decided to make irrigation (including dams, \\nchannels and embankments), terminal markets, common infrastructure in \\nagriculture markets, soil testing laboratories and capital investment in fertiliser \\nsector eligible for VGF under this scheme. Oil and Gas/LNG storage facilities \\nand oil and gas pipelines, fixed network for telecommunication and \\ntelecommunication towers will also be made eligible sectors for VGF. \\n50. The Government has approved guidelines for establishing joint venture \\ncompanies by defence Public Sector Undertakings in PPP mode. This will serve \\nthe dual purpose of achieving substantive self-reliance in the defence sector and \\nproduction of state-of-the-art defence goods. \\n51. I had announced the setting up of Infrastructure Debt Funds to tap the \\noverseas markets for long tenor pension and insurance funds. I am happy to \\ninform the House that the first Infrastructure Debt Fund with an initial size of \\n`8000 crore, has been launched earlier this month. \\n52. For the year 2011-12, tax-free bonds for ` 30,000 crore were announced \\nfor financing infrastructure projects. I propose to double it to raise `60,000 crore \\nin 2012-13. This includes `10,000 crore for NHAI, `10,000 crore for IRFC, \\n`10,000 crore for IIFCL, `5,000 crore for HUDCO, `5,000 crore for National \\nHousing Bank, `5,000 crore for SIDBI, `5,000 crore for ports and `10,000 crore \\nfor power sector. \\n53. A harmonised master list of infrastructure sector has been approved by \\nthe Government. This will help in removing ambiguity in the policy and regulatory \\ndomain and encourage investment in the infrastructure sector. \\n54. To ease access of credit to infrastructure projects, India Infrastructure \\nFinance Company Limited (IIFCL) has put in place a structure for credit \\nenhancement and take-out finance. A consortium for direct lending and grant of \\nin-principle approval to developers before the submission of bids for PPP projects \\nhas also been created. \\nhttp://indiabudget.nic.in \\n\\n\\n\\x0c\\n11 \\n\\nNational Manufacturing Policy \\n\\n55. The Government has announced a National Manufacturing Policy on \\nOctober 25, 2011 with the objective of raising, within a decade, the share of \\nmanufacturing in GDP to 25 per cent and creation of 10 crore jobs. The Policy \\nencourages the setting-up of National Investment and Manufacturing Zones \\n(NIMZs) across the country. \\n56. I will now address some issues that have impacted infrastructure and \\nindustrial activity in the past months. \\nPower and Coal \\n\\n57. In power generation, fuel supply constraints are affecting production \\nprospects. To address this concern, Coal India Limited (CIL) has been advised \\nto sign fuel supply agreements, with power plants that have entered into longterm \\nPower Purchase Agreements with DISCOMs and would get commissioned \\non or before March 31, 2015. An inter-ministerial group is being constituted to \\nundertake periodic review of the allocated coal mines and make recommendations \\non de-allocations, if so required. \\n58. I propose to allow External Commercial Borrowings (ECB) to part finance \\nRupee debt of existing power projects. \\nTransport: Roads and Civil Aviation \\n\\n59. The Ministry of Road Transport and Highways is set to achieve its \\ntarget of awarding projects covering a length of 7,300 km under NHDP during \\n2011-12. This would be 44 per cent higher than the best ever length of 5,082 km \\nawarded in 2010-11. Of the 44 projects awarded during 2011-12, 24 projects \\nhave fetched a premium. I propose to set a target of covering a length of 8,800 \\nkms under NHDP next year. The allocation of the Ministry has been enhanced \\nby 14 per cent to ` 25,360 crore in 2012-13. \\n60. To encourage public private partnerships in road construction projects, I \\npropose to allow ECB for capital expenditure on the maintenance and operations \\nof toll systems for roads and highways so long as they are a part of the original \\nproject. \\n61. The airline industry is facing financial crisis. The high operating cost of \\nthe sector is largely attributable to the cost of Aviation Turbine Fuel (ATF). To \\nreduce the cost of ATF, Government has permitted direct import of ATF by Indian \\nCarriers, as actual users. \\n62. To address the immediate financing concerns of the Civil Aviation sector, \\nI propose to permit ECB for working capital requirements of the airline industry \\nfor a period of one year, subject to a total ceiling of US Dollar 1 billion. \\nhttp://indiabudget.nic.in \\n\\n\\n\\x0c\\n12 \\n\\n63. A proposal to allow foreign airlines to participate up to 49 per cent in the \\nequity of an air transport undertaking engaged in operation of scheduled and \\nnon-scheduled air transport services is under active consideration of the \\nGovernment. \\nDelhi Mumbai Industrial Corridor \\n\\n64. The Delhi Mumbai Industrial Corridor (DMIC) is being developed on \\neither side along the alignment of the Western Dedicated Rail Freight Corridor. \\nThe project has made significant progress. In September 2011, Central assistance \\nof `18,500 crore spread over a period of 5 years has been approved. The Japanese \\nPrime Minister has announced US$ 4.5 billion as Japanese participation in DMIC \\nproject. \\nHousing sector \\n\\n65. In view of the shortage of housing for low income groups in major cities \\nand towns, I propose to: \\n\\x95 Allow ECB for low cost affordable housing projects; \\n\\x95 Set up Credit Guarantee Trust Fund to ensure better flow of \\ninstitutional credit for housing loans; \\n\\x95 Enhance provisions under Rural Housing Fund from ` 3000 crore \\nto ` 4000 crore; \\n\\x95 Extend the scheme of interest subvention of 1 per cent on housing \\nloan up to `15 lakh where the cost of the house does not exceed \\n`25 lakh for another year; and \\n\\x95 Enhance the limit of indirect finance under priority sector from \\n` 5 lakh to ` 10 lakh. \\nFertilisers \\n\\n66. To reduce India\\x92s import dependence in urea, Government has taken steps \\nto finalise pricing and investment policies for urea. It is expected that with the \\nimplementation of the investment policy, country will become self sufficient in \\nmanufacturing urea in the next five years. In case of the potassic-phosphatic \\n(P&K) fertiliser, use of single super phosphate (SSP) will be encouraged through \\ngreater extension work. This fertiliser is manufactured entirely in the domestic \\nsector. Enhanced production would bring down our dependence on imports in \\nthe P&K sector. \\nTextiles \\n\\n67. The Government has recently announced a financial package of ` 3,884 \\ncrore for waiver of loans of handloom weavers and their cooperative societies. \\nhttp://indiabudget.nic.in \\n\\n\\n\\x0c\\n13 \\n\\n68. In addition to 4 mega handloom clusters already operationalised, I am \\nnow happy to announce two more mega clusters, one to cover Prakasam and \\nGuntur districts in Andhra Pradesh and the other for Godda and neighbouring \\ndistricts in Jharkhand. I also propose to provide assistance in setting up of \\ndormitories for women workers in the 5 mega clusters relating to handloom, \\npower loom and leather sectors. \\n69. The Ministry of Textiles runs Weavers\\x92 Service Centres in different \\nparts of the country for providing technical support to poor handloom weavers. \\nI propose to set up three such Centres, one each in Mizoram, Nagaland and \\nJharkhand. I am also happy to announce ` 500 crore pilot scheme in the \\nTwelfth Plan for promotion and application of Geo-textiles in the North East \\nRegion. \\n70. To address the need of the local artisans and weavers, I propose to set up \\na powerloom mega cluster in Ichalkaranji in Maharashtra with a Budget allocation \\nof ` 70 crore. \\nMicro, Small and Medium Enterprises \\n\\n71. In order to enhance availability of equity to MSME sector, I propose to \\nset up a ` 5,000 crore India Opportunities Venture Fund with SIDBI. \\n72. The Small and Medium Enterprises (SMEs) are the building blocks of \\nour economy. They rely primarily on loans from banks and informal sources to \\nraise capital. To enable these enterprises greater access to finance, two SME \\nexchanges have been launched in Mumbai recently. \\nPublic Procurement Policy for Micro and Small Enterprises \\n\\n73. With the objective of promoting market access of Micro and Small \\nEnterprises, Government has approved a policy which requires Ministries and \\nCPSEs to make a minimum of 20 per cent of their annual purchases from MSEs. \\nOf this, 4 per cent will be earmarked for procurement from MSEs owned by SC/ \\nST entrepreneurs. \\nIV. Agriculture \\nI now take up agriculture. \\n\\n74. Agriculture will continue to be a priority for the Government. The total \\nplan outlay for the Department of Agriculture and Cooperation is being increased \\nby 18 per cent from ` 17,123 crore in 2011-12 to ` 20,208 crore in 2012-13. \\n75. The outlay for Rashtriya Krishi Vikas Yojana (RKVY) is being increased \\nfrom `7,860 crore in 2011-12 to ` 9,217 crore in 2012-13. I am happy to inform \\nthe House that the initiative of Bringing Green Revolution to Eastern India \\n(BGREI) has resulted in a significant increase in production and productivity of \\npaddy. States in eastern India have reported additional paddy production of seven \\nmillion tonnes in Kharif 2011. I propose to increase the allocation for this scheme \\nfrom `400 crore in 2011-12 to `1000 crore in 2012-13. \\nhttp://indiabudget.nic.in \\n\\n\\n\\x0c\\n14 \\n\\n76. This year, under RKVY, I also propose to allocate `300 crore to Vidarbha \\nIntensified Irrigation Development Programme. This Scheme seeks to bring in \\nmore farming areas under protective irrigation. \\n77. The Government intends to merge the remaining activities into a set of \\nmissions to address the needs of agricultural development in the Twelfth Five \\nYear Plan. These Missions are: \\n(i) National Food Security Mission which aims to bridge the yield \\ngap in respect of paddy, wheat, pulses, millet and fodder. The \\nongoing Integrated Development of Pulses Villages, Promotion of \\nNutri-cereals and Accelerated Fodder Development Programme \\nwould now become a part of this Mission; \\n(ii) National Mission on Sustainable Agriculture including Micro \\nIrrigation is being taken up as a part of the National Action Plan \\non Climate Change. The Rainfed Area Development Programme \\nwill be merged with this; \\n(iii) National Mission on Oilseeds and Oil Palm aims to increase \\nproduction and productivity of oil seeds and oil palm; \\n(iv) National Mission on Agricultural Extension and Technology \\nfocuses on adoption of appropriate technologies by farmers for \\nimproving productivity and efficiency in farm operations; and \\n(v) National Horticulture Mission aims at horticulture diversification. \\nThis will also include the initiative on saffron. \\nNational Mission for Protein Supplement \\n\\n78. Mission for Protein Supplement is being strengthened. To improve \\nproductivity in the dairy sector, a `2,242 crore project is being launched with \\nWorld Bank assistance. To broaden the scope of production of fish to coastal \\naquaculture, apart from fresh water aquaculture, the outlay in 2012-13 is being \\nstepped up to `500 crore. Suitable allocations are also being made for poultry, \\npiggery and goat rearing. \\nAgriculture Credit \\n\\n79. Farmers need timely access to affordable credit. I propose to raise the \\ntarget for agricultural credit in 2012-13 to `5,75,000 crore. This represents an \\nincrease of ` 1,00,000 crore over the target for the current year. \\n80. The interest subvention scheme for providing short term crop loans to \\nfarmers at 7 per cent interest per annum will be continued in 2012-13. An \\nadditional subvention of 3 per cent will be available to prompt paying farmers. \\nIn addition, the same interest subvention on post harvest loans up to six months \\nagainst negotiable warehouse receipt will also be available. This will encourage \\nthe farmers to keep their produce in warehouses. \\n81. A Short term RRB Credit Refinance Fund is being set-up to enhance the \\ncapacity of Regional Rural Banks to disburse short term crop loans to the small \\nhttp://indiabudget.nic.in \\n\\n\\n\\x0c\\n15 \\n\\nand marginal farmers. I propose to allocate ` 10,000 crore to NABARD for \\nrefinancing the RRBs through this fund. \\n\\n82. Kisan Credit Card (KCC) is an effective instrument for making \\nagricultural credit available to the farmers. KCC scheme will be modified to \\nmake KCC a smart card which could be used at ATMs. \\nAgricultural Research \\n\\n83. Food security and agricultural development in the coming decades would \\ndepend upon scientific and technological breakthroughs in raising productivity. \\nWe have to develop plant and seed varieties that yield more and can resist climate \\nchange. I propose to set aside a sum of ` 200 crore for incentivising research \\nwith rewards, both for institutions and the research team responsible for such \\nscientific breakthroughs. \\nIrrigation \\n\\n84. Unless we recognise water as a resource, the day is not far when water \\nstress will start threatening our agricultural production. Focus on micro irrigation \\nschemes to dovetail these with water harvesting schemes is necessary. To maximise \\nthe flow of benefits from investments in irrigation projects, structural changes in \\nAccelerated Irrigation Benefit Programme (AIBP) are being made. The allocation \\nfor AIBP in 2012-13 is being stepped up by 13 per cent to `14,242 crore. \\n85. To mobilise large resources to fund irrigation projects, a Government \\nowned Irrigation and Water Resource Finance Company is being operationalised. \\nThe Company would start its operations in 2012-13 by focusing on financing \\nsub-sectors like micro-irrigation, contract farming, waste water management and \\nsanitation. \\n86. A flood management project for Kandi sub-division of Murshidabad \\nDistrict has been approved by the Ganga Flood Control Commission at a cost \\nof ` 439 crore, to be taken up for funding under the Flood Management \\nProgramme. \\nNational Mission on Food Processing \\n\\n87. The food processing sector has been growing at an average rate of over 8 \\nper cent over the past 5 years. In order to have a better outreach and to provide \\nmore flexibility to suit local needs, it has been decided that a new centrally \\nsponsored scheme titled \\x93National Mission on Food Processing\\x94 would be started, \\nin cooperation with the State Governments in 2012-13. \\n88. The Government has taken steps to create additional foodgrain storage \\ncapacity in the country. Creation of 2 million tonnes of storage capacity in the \\nform of modern silos has already been approved. Nearly 15 million tonnes capacity \\nis being created under the Private Entrepreneur\\x92s Guarantee Scheme, of which 3 \\nmillion tonnes of storage capacity will be added by the end of 2011-12 and 5 \\nmillion would be added next year. \\nhttp://indiabudget.nic.in \\n\\n\\n\\x0c\\n16 \\n\\nV. Inclusion \\nLet me now take up proposals for inclusive development. \\n\\nScheduled Castes and Tribal Sub Plans \\n\\n89. From the year 2011-12, allocations are being made for Scheduled Castes \\nSub Plan (SCSP) and Tribal Sub Plan (TSP) under separate minor heads as part of \\nthe Plan allocations. In 2012-13, the allocation for SCSP is `37,113 crore which \\nrepresents an increase of 18 per cent over 2011-12. The allocation for TSP in \\n2012-13 is `21,710 crore representing an increase of 17.6 per cent over 2011-12. \\nFood Security \\n\\n90. Our Government has taken definite steps to create food security at the \\nhousehold level by making food a legal entitlement for all targeted people, \\nespecially for the poor and vulnerable segments of our population. The National \\nFood Security Bill, 2011 is before the Parliamentary Standing Committee. \\n91. To ensure that the objectives of the National Food Security Bill are \\neffectively realised, a Public Distribution System Network is being created using \\nthe Aadhaar platform. A National Information Utility for the computerisation of \\nPDS is being created. It will become operational by December 2012. \\nMulti-sectoral Nutrition Augmentation Programme \\n\\n92. Following the decision taken in the Prime Minister\\x92s National Council \\non India\\x92s Nutritional Challenges, a multi-sectoral programme to address maternal \\nand child malnutrition in selected 200 high burden districts is being rolled out \\nduring 2012-13. It will harness synergies across nutrition, sanitation, drinking \\nwater, primary health care, women education, food security and consumer \\nprotection schemes. \\n93. In this context, Integrated Child Development Services (ICDS) scheme \\nis being strengthened and re-structured. For 2012-13, an allocation of `15,850 \\ncrore has been made as against `10,000 crore in 2011-12. This amounts to an \\nincrease of over 58 per cent. \\n94. National Programme of Mid Day Meals in Schools has enhanced \\nenrolment, retention, attendance, and also helped in improving nutrition levels \\namong children. In 2012-13, I propose to allocate `11,937 crore for this scheme \\nas against `10,380 crore in 2011-12. \\n95. Rajiv Gandhi Scheme for Empowerment of Adolescent Girls, SABLA, \\nhas been introduced last year with a view to address the nutritional needs and \\nother educational and skill development initiatives for self development of \\nadolescent girls in the age group of 11 to 18 years. For 2012-13, an allocation of \\n`750 crore has been proposed for the scheme. \\nhttp://indiabudget.nic.in \\n\\n\\n\\x0c\\n17 \\n\\nRural Development and Panchayati Raj \\n\\n96. Along with water quality, poor sanitation is one of the factors contributing \\nto malnourishment. Hon\\x92ble Members will be happy to know that I propose to \\nincrease the budgetary allocation for rural drinking water and sanitation from \\n`11,000 crore in 2011-12 to `14,000 crore in 2012-13. This is an increase of \\nover 27 per cent. \\n97. Pradhan Mantri Gram Sadak Yojana (PMGSY) has been a successful \\nprogramme. In 2012-13, I propose to raise the allocation by 20 per cent to this \\nscheme by providing `24,000 crore. It will accelerate connectivity in the States. \\n98. A major initiative has been proposed to strengthen Panchayats across the \\ncountry through the Rajiv Gandhi Panchayat Sashaktikaran Abhiyan (RGPSA). \\nThis programme will expand on the existing schemes for Panchayat capacity \\nbuilding. \\n99. In my Budget Speech last year, I had referred to our focus on the \\ndevelopment of backward regions. We have decided to carry the Backward \\nRegions Grant Fund scheme into the Twelfth Plan with an enhanced allocation \\nof `12,040 crore in 2012-13, an increase of about 22 per cent over BE of \\n2011-12. This includes the State component which covers projects in backward \\nareas in Bihar, West Bengal and the Kalahandi-Bolangir-Koraput region of \\nOdisha, development projects for drought mitigation in the Bundelkhand region \\nand projects under the Integrated Action Plan to accelerate the pace of \\ndevelopment in selected tribal and backward districts. \\nRural Infrastructure Development Fund \\n\\n100. This year, I propose to enhance the allocation under Rural Infrastructure \\nDevelopment Fund (RIDF) to ` 20,000 crore. Further in view of the warehousing \\nshortage in the country, I propose to earmark an amount of ` 5,000 crore from \\nthe above allocation exclusively for creating warehousing facilities under RIDF. \\nEducation \\n\\n101. The Right to Education (RTE) Act is being implemented with effect from \\nApril 1, 2010 through the Sarva Shiksha Abhiyan (SSA). For 2012-13, I have \\nprovided `25,555 crore for RTE-SSA. This is an increase of 21.7 per cent over \\n2011-12. \\n102. In the Twelfth Plan, 6,000 schools have been proposed to be set up at \\nblock level as model schools to benchmark excellence. Of these, 2500 will be \\nset up under Public Private Partnership. \\n103. The Rashtriya Madhyamik Shiksha Abhiyan (RMSA) was launched in \\nMarch, 2009 to enhance access to quality secondary education. In 2012-13, \\nI have allocated `3,124 crore for RMSA which is nearly 29 per cent higher than \\nthe allocation in 2011-12. \\nhttp://indiabudget.nic.in \\n\\n\\n\\x0c\\n18 \\n\\n104. A scheme for education loans is being implemented by banks. To ensure \\nbetter flow of credit to deserving students, I propose to set up a Credit Guarantee \\nFund for this purpose. \\nHealth \\n\\n105. They say persistence pays. I am happy to inform Hon\\x92ble Members that \\nno new case of polio was reported in the last one year. By modernising existing \\nunits and setting up a new integrated vaccine unit near Chennai, the Government \\nwill achieve vaccine security and keep the pressure on disease eradication and \\nprevention. \\n106. National Rural Health Mission (NRHM) is being implemented through \\n\\x91Accredited Social Health Activist\\x92- \\x91ASHA\\x92. The scope of ASHA\\x92s activities is \\nbeing enlarged to include prevention of Iodine Deficiency Disorders, ensure 100 \\nper cent immunisation and better spacing of children. At the community level, a \\nmore active role is envisaged for ASHA as the convenor of the Village Health \\nand Sanitation Committee, as also to support the initiative on malnutrition. Since \\nASHAs receive activity-wise, performance-based payments, this will also enhance \\ntheir remuneration. I propose to increase the allocation to NRHM from `18,115 \\ncrore in 2011-12 to `20,822 crore in 2012-13. \\n107. National Urban Health Mission is being launched to encompass the \\nprimary healthcare needs of people in the urban areas. The Pradhan Mantri \\nSwasthya Suraksha Yojana (PMSSY) aimed at setting up of AIIMS-like \\ninstitutions and upgradation of existing Government medical colleges is being \\nexpanded to cover upgradation of 7 more Government medical colleges. It will \\nenhance the availability of affordable tertiary health care. \\nEmployment and Skill Development \\n\\n108. The Mahatma Gandhi National Rural Employment Guarantee Scheme \\n(MGNREGS) has had a positive impact on livelihood security. For the first time, \\nthere is an effective floor wage rate for rural workers. Distress migration has \\ncome down. Community assets have been created. Productivity of barren and \\nfallow lands has gone up. The need for improving quality of assets and bringing \\nabout greater synergy between MG-NREGA and agriculture and allied rural \\nlivelihoods is being addressed. \\n109. The Swarnjayanti Gram Swarozgar Yojana (SGSY) has been restructured \\ninto National Rural Livelihood Mission (NRLM) to provide self-employment \\nopportunities. A sub-component, Mahila Kisan Sashaktikaran Pariyojana, under \\nNRLM seeks to provide better targeting of women farmers. For NRLM, I propose \\nto increase the allocation by over 34 per cent from `2,914 crore in 2011-12 to \\n`3,915 crore in 2012-13. \\nhttp://indiabudget.nic.in \\n\\n\\n\\x0c\\n19 \\n\\n110. In last year\\x92s Budget I had announced creation of a \\x91Women\\x92s SHG\\x92s \\nDevelopment Fund\\x92. This has been set up in NABARD. In 2012-13, I propose to \\nprovide ` 200 crore to enlarge the corpus to ` 300 crore. This Fund will also \\nsupport the objectives of Aajeevika i.e. the National Rural Livelihood Mission. \\nIt will empower women SHGs to access bank credit. I propose to provide interest \\nsubvention to Women SHGs to avail loans up to `3 lakh at 7 per cent per annum. \\nWomen SHGs that repay loans in time will get additional 3 per cent subvention, \\nreducing the effective rate to 4 per cent. The initiative, in the first phase, would \\nfocus on selected 600 Blocks of 150 districts, including the Left Wing Extremism \\naffected districts. \\n111. It is proposed to establish a Bharat Livelihoods Foundation of India \\nthrough Aajeevika. The Foundation would support and scale up civil society \\ninitiatives and interventions particularly in the tribal regions covering around \\n170 districts. Private trusts and philanthropic organisations would be encouraged \\nto partner with the autonomous body that will be managed professionally. \\n112. To encourage micro enterprises, a credit linked subsidy programme \\nnamely Prime Minister\\x92s Employment Generation Programme (PMEGP) is being \\nimplemented through KVIC. The allocation for this programme has been \\nincreased by 23 per cent from `1,037 crore in 2011-12 to `1,276 crore in \\n2012-13. \\nSkill Development \\n\\n113. In 2011-12 National Skill Development Corporation (NSDC) approved \\n26 new projects, thereby doubling the number of projects sanctioned since 2009 \\nto 52, with a total funding commitment of ` 1,205 crore. At the end of 10 years, \\nthese projects are expected to train 6.2 crore persons and augment vocational \\ntraining capacity by 1.25 crore per year in the private sector. \\n114. The NSDC partners have opened 496 permanent and 2429 mobile centres \\nin 220 districts across 24 states. More than 89,500 persons have been trained \\nand almost 80 per cent employed. Under NSDC, 10 Sector Skill Councils have \\nbeen sanctioned. Of these, 3 Skill Councils for Automobile, Security and Retail \\nsectors have become operational. For 2012-13, I propose to allocate ` 1000 crore \\nto National Skill Development Fund (NSDF). \\n115. In order to improve the flow of institutional credit for skill development, \\nI propose to set up separate Credit Guarantee Fund. This will benefit youth in \\nacquiring market oriented skills. \\n116. A new scheme titled \\x93Himayat\\x94 was introduced in Jammu and Kashmir \\nfrom 2011-12. It aims to provide skill training to one lakh youth in the next five \\nyears. The entire cost of this programme is being borne by the Centre. \\nhttp://indiabudget.nic.in \\n\\n\\n\\x0c\\n20 \\n\\nSocial security and the needs of weaker sections \\n\\n117. I am raising the allocation under the National Social Assistance \\nProgramme (NSAP) by 37 per cent from ` 6,158 crore in 2011-12 to ` 8,447 \\ncrore in 2012-13. Under the ongoing Indira Gandhi National Widow Pension \\nScheme and Indira Gandhi National Disability Pension Scheme for BPL \\nbeneficiaries, the monthly pension amount per person is being raised from ` 200 \\nto ` 300. \\n118. On the death of the primary breadwinner of a BPL family, in the age \\ngroup 18 to 64 years, a lumpsum grant of `10,000 is presently provided under \\nthe National Family Benefit scheme. I propose to double this amount to ` 20,000 \\nand expect a matching contribution by the State Governments. \\n119. In order to promote voluntary savings towards pensions, a co-contributory \\nscheme SWAVALAMBAN was started in September, 2010. Over 5 lakh \\nsubscribers have been enrolled by February 2012. In order to enhance access to \\nthis scheme, LIC has been appointed as an Aggregator and all Public Sector \\nBanks have also been appointed as Points of Presence (PoP) and Aggregators. \\nInstitutions that are being given grants \\n\\n120. The driving force of a modern nation is research and the creation of new \\nknowledge. With this in mind I propose to provide: \\n\\x95 ` 25 crore to the Institute of Rural Management, Anand; \\n\\x95 ` 50 crore to establish a world-class centre for water quality with \\nfocus on arsenic contamination in Kolkata; \\n\\x95 ` 100 crore to Kerala Agricultural University; \\n\\x95 ` 50 crore for University of Agricultural Sciences Dharwad, \\nKarnataka; \\n\\x95 ` 50 crore to Chaudhary Charan Singh Haryana Agricultural \\nUniversity, Hissar; \\n\\x95 ` 50 crore to Orissa University of Agriculture and Technology; \\n\\x95 ` 100 crore to Acharya N. G. Ranga Agricultural University in \\nHyderabad; \\n\\x95 ` 15 crore to National Council for Applied Economic Research; \\n\\x95 ` 10 crore to Rajiv Gandhi University, Department of Economics, \\nItanagar; and \\n\\x95 ` 10 crore to Siddharth Vihar Trust Gulbarga, to establish a Pali \\nlanguage Research Centre. \\nSecurity \\n\\n121. In the Budget for 2012-13, a provision of ` 1,93,407 crore has been made \\nfor Defence Services which include `79,579 crore for capital expenditure. As \\nalways, this allocation is based on present needs and any further requirement \\nwould be met. \\nhttp://indiabudget.nic.in \\n\\n\\n\\x0c\\n21 \\n\\n122. Government is making efforts to increase the availability of residential \\nquarters to forces. In 2012-13, it is envisaged to construct nearly 4,000 residential \\nquarters for Central Armed Police Forces for which ` 1,185 crore is proposed to \\nbe allocated. A provision of ` 3,280 crore for 2012-13 has also been made for \\nconstruction of office buildings including land acquisition and barracks to \\naccommodate 27,000 personnel. \\n123. The scheme to create the National Population Register (NPR) is \\nprogressing well. It is likely to be completed within the next two years. The \\nGovernment is also considering a proposal of issuing Resident Identity Cards \\nbearing the Aadhaar numbers to all residents who are of age 18 years and above \\nto help in the e-governance initiatives. \\nVI. Governance \\nI now address some concerns in governance. \\n\\nUID-Aadhaar \\n\\n124. The enrolments into the Aadhaar system have crossed 20 crore and the \\nAadhaar numbers generated upto date have crossed 14 crore. I propose to allocate \\nadequate funds to complete another 40 crore enrolments starting from \\nApril 1, 2012. The Aadhaar platform is now ready to support the payments of \\nMG-NREGA; old age, widow and disability pensions; and scholarships directly \\nto the beneficiary accounts in selected areas. \\nBlack Money \\n\\n125. Last year I had outlined a five pronged strategy to tackle the malaise of \\ngeneration and circulation of black money and its illegitimate transfer outside \\nIndia. Government has taken a number of proactive steps to implement this \\nstrategy. As a result: \\n\\x95 82 Double Taxation Avoidance Agreements (DTAA) and 17 Tax \\nInformation Exchange Agreements (TIEA) have been finalised and \\ninformation regarding bank accounts and assets held by Indians \\nabroad has started flowing in. In some cases prosecution will be \\ninitiated; \\n\\x95 Dedicated exchange of information cell for speedy exchange of \\ntax information with treaty countries is fully functional in CBDT; \\n\\x95 India became the 33rd signatory of the Multilateral Convention on \\nMutual Administrative Assistance in Tax Matters; and \\n\\x95 Directorate of Income Tax Criminal Investigation has been \\nestablished in CBDT. \\n126. I propose to lay on the table of the House a white paper on Black Money \\nin the current session of Parliament. \\nhttp://indiabudget.nic.in \\n\\n\\n\\x0c\\n22 \\n\\nPublic Procurement Legislation \\n\\n127. Government is committed to the enactment of a Public Procurement \\nlegislation to enhance confidence in public procurement and to ensure \\ntransparency and efficiency in the process. The Bill in this regard is to be \\nintroduced in the Budget session of the Parliament. \\n128. The following legislative measures for strengthening anti-corruption \\nframework are in various stages of enactment: \\n\\x95 Prevention of Money Laundering (Amendment) Bill, 2011 \\nintroduced in Parliament with a view to bring certain provisions of \\nthe Act in line with global standards; \\n\\x95 Benami Transactions (Prohibition) Bill, 2011 is currently being \\nexamined by the Standing Committee on Finance. It would replace \\nthe \\x91Benami Transactions (Prohibition) Act, 1988\\x92; and \\n\\x95 National Drugs and Psychotropic Substances (Amendment) Bill, \\n2011 introduced in Parliament with a view to strengthen legal \\nprovisions for implementation of the national policy on Narcotic \\nDrugs and Psychotropic Substances. \\nVII. Budget Estimates 2012-13 \\nI now turn to the Budget Estimates for 2012-13. \\n\\n129. The Gross Tax Receipts are estimated at ` 10,77,612 crore which is an \\nincrease of 15.6 per cent over the Budget Estimates and 19.5 per cent over the \\nRevised Estimates for 2011-12. As a percentage of GDP, gross taxes are estimated \\nat 10.6 per cent in BE 2012-13 as against 10.4 per cent in BE 2011-12. After \\ndevolution to States, the net tax to Centre in 2012-13 is estimated at ` 7,71,071 \\ncrore. The Non Tax Revenue Receipts for 2012-13 are estimated at ` 1,64,614 \\ncrore and Non-debt Capital Receipts at ` 41,650 crore. The temporary arrangement \\nto use disinvestment proceeds for capital expenditure in social sector schemes is \\nbeing extended for one more year to 2012-13. \\n130. The total expenditure for 2012-13 is budgeted at ` 14,90,925 crore. Of \\nthis, the Plan Expenditure for 2012-13 is ` 5,21,025 crore, which is 18 per cent \\nhigher than the Budget Estimates of 2011-12. This is higher than the 15 per cent \\nincrease projected in the Approach to the Twelfth Plan for 2012-13. I am happy \\nto inform the Hon\\x92ble Members that in the Eleventh Plan, we have been able to \\nmeet 99 per cent of the total plan outlay. \\n131. The Non Plan Expenditure for 2012-13 is budgeted at ` 9,69,900 crore \\nwhich is 8.7 per cent higher than the Revised Estimates for 2011-12 and 18.8 \\nper cent higher than the Budget Estimates for 2011-12. This increase is mainly \\nhttp://indiabudget.nic.in \\n\\n\\n\\x0c\\n23 \\n\\non account of higher provision for major subsidies. While making adequate \\nprovisions for funding the desirable subsidies, as indicated earlier, I am \\ndetermined to contain the increasing subsidy burden through measures including \\nimproved targeting. \\n\\n132. The Plan and Non Plan resources transferred to States and Union \\nTerritories including direct transfers to State and district level implementing \\nagencies are ` 3,65,216 crore in BE 2012-13. This includes ` 18,655 crore of \\ngrant to local bodies as per the recommendations of Thirteenth Finance \\nCommission. \\n133. The year 2011-12 was one of challenges for fiscal management. Due to \\nthe slower economic growth, direct tax collection fell short by ` 32,000 crore of \\nthe Budget Estimates. At the same time, the Government absorbed duty reduction \\nin petroleum sector with annual revenue loss of ` 49,000 crore. The Government \\nhad to incur higher expenditure on petroleum and fertiliser subsidy to insulate \\nthe people from the rising prices. While the outgo on account of subsidies \\nincreased, I have ensured that the entire amount is given in cash and not as bonds \\nin lieu of subsidies. This is in line with the approach that I outlined in my Budget \\nSpeech for 2010-11. \\n134. The combined effect of lower tax and disinvestment receipts and higher \\nexpenditure, mainly on account of subsidies, has pushed the fiscal deficit to 5.9 \\nper cent of GDP in the Revised Estimates for 2011-12. However, I have made a \\ndetermined attempt to come back to the path of fiscal consolidation in the Budget \\nfor 2012-13 by pegging the fiscal deficit at ` 5,13,590 crore which is 5.1 per cent \\nof GDP. After taking into account other items of financing, the net market \\nborrowings through dated securities to finance this deficit is ` 4.79 lakh crore. \\nWith this, the total Debt stock at the end of 2012-13 would work out at 45.5 per \\ncent of GDP as compared to the Thirteenth Finance Commission target of 50.5 \\nper cent of GDP. The Effective Revenue Deficit in BE 2012-13 works out to \\n` 1,85,752 crore which is 1.8 per cent of GDP. \\nhttp://indiabudget.nic.in \\n\\n\\n\\x0c\\n24 \\n\\nPart B \\n\\nVIII. Tax Proposals \\nMadam Speaker, \\n\\nI now come to Part B of my proposals. \\n\\n135. The life of a Finance Minister is not easy. Various players, including \\npolicy makers, politicians, agriculturists and business houses, participate in the \\nmaking of the economy. When everything goes well with the economy, we all \\nshare in the joy. However, when things go wrong, it is the Finance Minister who \\nis called upon to administer the medicine. Economic policy, as in medical \\ntreatment, often requires us to do something, which, in the short run, may be \\npainful, but is good for us in the long run. As Hamlet, the Prince of Denmark, \\nhad said in Shakespeare\\x92s immortal words, \\x93I must be cruel only to be kind.\\x94 \\nWith this reminder, let me now turn to the tax proposals. \\n\\n136. Last year, I had set the compass for movement towards the DTC in Direct \\nTaxes and GST in Indirect Taxes. My tax proposals for fiscal year 2012-13 mark \\nfurther progress in that direction. \\nDirect Taxes \\n\\nI shall now deal with direct taxes. \\n\\n137. Last year I provided relief to individual taxpayers by enhancing the \\nexemption limit as a move towards DTC rates. Although DTC will not be \\neffective from this year, I propose to introduce the DTC rates for personal income \\ntax. I propose to enhance the exemption limit for the general category of \\nindividual taxpayers from `1,80,000 to `2,00,000. This measure will provide \\ntax relief upto `2,000 to every taxpayer of this category. I also propose to raise \\nthe upper limit of the 20 per cent tax slab from `8 lakh to `10 lakh. The proposed \\npersonal income tax slabs are: \\nIncome upto `2 lakh Nil \\nIncome above `2 lakh and upto `5 lakh 10 per cent \\nIncome above `5 lakh and upto `10 lakh 20 per cent \\nIncome above `10 lakh 30 per cent \\n\\nThese changes will provide substantial relief to taxpayers. \\n\\n138. I propose to allow individual taxpayers, a deduction of upto `10,000 \\nfor interest from savings bank accounts. This would help a large number of \\nsmall taxpayers with salary incomes upto `5 lakh and interest from savings \\nbank accounts up to ` 10,000, as they would not be required to file income tax \\nreturns. \\nhttp://indiabudget.nic.in \\n\\n\\n\\x0c\\n25 \\n\\n139. Within the existing limit for deduction allowed for health insurance, \\nI propose to allow a deduction of upto `5,000 for preventive health check-up. \\n140. Senior citizens who do not have any income from business are proposed \\nto be exempted from the payment of advance tax. This will reduce their \\ncompliance burden. \\n141. In the case of corporates, I am not proposing any change in the tax rates. \\nHowever, I propose certain measures to allow corporates to access lower cost \\nfunds and to promote higher level of investments in several sectors. \\n142. In order to provide low cost funds to some stressed infrastructure sectors, \\nthe rate of withholding tax on interest payments on external commercial \\nborrowings is proposed to be reduced from 20 per cent to 5 per cent for three \\nyears. These sectors are: \\n\\x95 power; \\n\\x95 airlines; \\n\\x95 roads and bridges; \\n\\x95 ports and shipyards; \\n\\x95 affordable housing; \\n\\x95 fertilizer; and \\n\\x95 dams \\n143. The restriction on Venture Capital Funds to invest only in nine specified \\nsectors is proposed to be removed. It is further proposed to remove the cascading \\neffect of Dividend Distribution Tax (DDT) in a multi-tier corporate structure. I \\nalso propose to continue to allow repatriation of dividends from foreign \\nsubsidiaries of Indian companies to India at a lower tax rate of 15 per cent as \\nagainst the tax rate of 30 per cent for one more year i.e. upto March 31, 2013. \\n144. Investment linked deduction of capital expenditure incurred in the \\nfollowing businesses is proposed to be provided at the enhanced rate of 150 per \\ncent, as against the current rate of 100 per cent. \\n\\x95 Cold chain facility \\n\\x95 Warehouses for storage of food grains \\n\\x95 Hospitals \\n\\x95 Fertilisers \\n\\x95 Affordable housing \\n145. The following new sectors are proposed to be added for the purposes of \\ninvestment linked deduction: \\n\\x95 bee keeping and production of honey and beeswax \\n\\x95 container freight station and inland container depots \\n\\x95 warehousing for storage of sugar \\nhttp://indiabudget.nic.in \\n\\n\\n\\x0c\\n26 \\n\\n146. To promote investment in research and development, it is proposed to \\nextend the weighted deduction of 200 per cent for R&D expenditure in an \\nin-house facility beyond March 31, 2012 for a further period of five years. \\n147. I also propose to provide weighted deduction of 150 per cent on \\nexpenditure incurred for agri-extension services in order to facilitate growth in \\nthe agriculture sector. \\n148. For the power sector, besides access to low cost funds as outlined above, \\nI also propose extension of the sunset date by one year for power sector \\nundertakings so that they can be set up on or before March 31, 2013 for claiming \\n100 per cent deduction of profits for 10 years. Additional depreciation of 20 per \\ncent in the initial year is proposed to be extended to new assets acquired by \\npower generation companies. \\n149. For SMEs, the turnover limit for compulsory tax audit of accounts as \\nwell as for presumptive taxation is proposed to be raised from `60 lakh to \\n` 1 crore. \\n150. In order to augment funds for SMEs, I propose to exempt capital gains \\ntax on sale of a residential property, if the sale consideration is used for \\nsubscription in equity of a manufacturing SME company for purchase of new \\nplant and machinery. \\n151. Considering the shortage of skilled manpower in the manufacturing sector \\nand to generate employment, I propose to provide weighted deduction at the rate \\nof 150 per cent of expenditure incurred on skill development in manufacturing \\nsector in accordance with specified guidelines. \\n152. In order to reduce transaction costs in the capital markets, I propose \\nreduction in Securities Transaction Tax (STT) by 20 per cent (from 0.125 per \\ncent to 0.1 per cent) on cash delivery transactions. \\n153. In order to moderate the outgo on profit linked deductions, I propose to \\nextend the levy of Alternate Minimum Tax (AMT) on all persons other than \\ncompanies, claiming profit linked deductions. \\n154. I propose to introduce a General Anti Avoidance Rule (GAAR) in order \\nto counter aggressive tax avoidance schemes, while ensuring that it is used only \\nin appropriate cases, by enabling a review by a GAAR panel. \\n155. I propose a series of measures to deter the generation and use of \\nunaccounted money. To this end, I propose \\n\\x95 Introduction of compulsory reporting requirement in case of assets \\nheld abroad. \\n\\x95 Allowing for reopening of assessment upto 16 years in relation to \\nassets held abroad. \\nhttp://indiabudget.nic.in \\n\\n\\n\\x0c\\n27 \\n\\n\\x95 Tax collection at source on purchase in cash of bullion or jewellery \\nin excess of ` 2 lakh. \\n\\x95 Tax deduction at source on transfer of immovable property (other \\nthan agricultural land) above a specified threshold. \\n\\x95 Tax collection at source on trading in coal, lignite and iron ore. \\n\\x95 Increasing the onus of proof on closely held companies for funds \\nreceived from shareholders as well as taxing share premium in \\nexcess of fair market value. \\n\\x95 Taxation of unexplained money, credits, investments, expenditures \\netc., at the highest rate of 30 per cent irrespective of the slab of \\nincome. \\n156. My proposals on Direct Taxes are estimated to result in a net revenue \\nloss of ` 4500 crore for the year. \\nIndirect Taxes \\n\\n157. I shall now turn to indirect taxes. In a slight departure from the previous \\nyears, I shall begin with Service Tax. \\nService Tax \\n\\n158. At the end of June this year, this tax will attain adulthood by completing \\n18 years. It is therefore time to shift gears and accelerate ahead. However, service \\ntax needs to confront two important challenges to sustain the journey. These are: \\n\\x95 The share of services in taxes remains far below its potential. \\nThere is a need to widen the tax base and strengthen its \\nenforcement; \\n\\x95 Service Tax law is complex and sometimes avoidably different \\nfrom Central Excise. We need to bring the two as close as possible \\nin the light of our eventual goal of transition to GST. \\nI have attempted to address both these issues this year. \\n\\n159. Last year, I had initiated a public debate on the desirability of moving \\ntowards taxation of services based on a negative list. In the debate that continued \\nfor the better part of the year, we received overwhelming support for this new \\nconcept. It has been perceived both as sound economics and prudent fiscal \\nmanagement. \\n160. Thus, I propose to tax all services except those in the negative list. The \\nlist comprises 17 heads and has been carefully drawn up, keeping in view the \\nfederal nature of our polity, the best international practices and our socio-economic \\nrequirements. \\nhttp://indiabudget.nic.in \\n\\n\\n\\x0c\\n28 \\n\\n161. The important inclusions in the negative list comprise all services provided \\nby the government or local authorities, except a few specified services where they \\ncompete with private sector. The list also includes pre-school and school education, \\nrecognised education at higher levels and approved vocational education, renting \\nof residential dwellings, entertainment and amusement services and a large part of \\npublic transportation including inland waterways, urban railways and metered cabs. \\n162. Agriculture and animal husbandry enjoy a very important place in our \\nlives. Practically all services required for cultivation, breeding, production, \\nprocessing or marketing up to the stage the produce is sold in the primary markets \\nare covered by the list. \\n163. In addition to the negative list, there is a list of exemptions which include \\nhealth care, services provided by charities, religious persons, sportspersons, \\nperforming artists in folk and classical arts, individual advocates providing \\nservices to non-business entities, independent journalists, and services by way \\nof animal care or car parking. \\n164. To take financial services to the door steps in rural areas, I have also \\nexempted the services of business facilitators and correspondents to banks and \\ninsurance companies. \\n165. Construction services relating to specified infrastructure, canals, irrigation \\nworks, post-harvest infrastructure, residential dwelling, and low-cost mass \\nhousing up to an area of 60 sq. mtr. under the Scheme of Affordable Housing in \\nPartnership are also included in the exemptions. To make the life of those who \\nalready own an apartment a little easier, I propose to raise the exemption for the \\nmonthly charges payable by a member to a housing society from ` 3,000 to \\n`5,000. \\n166. The Year 2012 marks the beginning of the centenary year of Indian cinema. \\nDespite the change in titles from Dada Saheb Phalke\\x92s \\x93Raja Harishchandra\\x94 to \\n\\x93Ra. One\\x94 in recent times, the industry has played a pivotal role in unifying our \\ncountry in the wake of her considerable diversity. To add to their spirit of \\ncelebration, I propose to exempt the industry from service tax on copyrights \\nrelating to recording of cinematographic films. \\n167. Movement towards the negative list will result in reducing nearly 290 \\ndefinitions and descriptions in the Act to 54, and the exemptions from the existing \\n88 to 10, of course merging some of the existing exemptions into a revised \\nnotification. In terms of number of pages, the law will be shorter by nearly 40 \\nper cent. \\n168. As a measure of harmonisation between Central Excise and Service Tax, \\na number of alignments have been made. These include a common simplified \\nregistration form and a common return for Central Excise and Service Tax, to be \\nnamed EST-1. This common return will comprise only one page, which will be \\na significant reduction from the 15 pages of the two returns at present. \\nhttp://indiabudget.nic.in \\n\\n\\n\\x0c\\n29 \\n\\n169. Revision Application Authority and Settlement Commission are being \\nintroduced in Service Tax to help resolve disputes with far greater ease. \\n170. Cascading of taxes has been significantly reduced by permitting utilisation \\nof input tax credits in a number of services such as catering, restaurants, hotel \\naccommodation, pandal and shamiana and transport sectors. \\n171. Place of Supply Rules, that will determine the location where a service \\nshall be deemed to be provided, are being placed in public domain for \\nstakeholders\\x92 comments and shall be notified when the negative list is put into \\neffect. These rules will also provide a possible backdrop to initiate an informed \\ndebate to assess all the issues that may arise in the taxation of inter-state services \\nfor the eventual launch of GST. \\n172. I propose to set up a Study Team to examine the possibility of a common \\ntax code for service tax and central excise which could be adopted to harmonise \\nthe two legislations as much as possible at the right time. \\n173. While the problems faced by exporters of goods with respect to taxes on \\ninput services was addressed earlier this year, disbursement of taxes that go into \\nthe export of services has been an irritant for long. I now announce a new scheme \\nthat will simplify refunds without resorting to voluminous documentation or \\nverification. As an added incentive, such refunds will also be admissible for \\ntaxes on taxable services that have been exempted. \\n174. Rules pertaining to the Point of Taxation are also being rationalised, \\nproviding greater clarity and removing the irritants. Cenvat credits in a number \\nof areas are being restored. There are a number of other proposals both for the \\nfacilitation of business and to check malpractices. I do not wish to take the valuable \\ntime of this House for discussing all these proposals. \\n175. You will notice that most of these measures are guided by the need to \\nmove towards a system that is simple, equitable and progressive but are unlikely \\nto make the exchequer richer in any significant way. Looking at our vast \\ncommitments and to maintain a healthy fiscal situation, I propose to raise the \\nservice tax rate from 10 per cent to 12 per cent, with consequential changes in \\nrates for services that have individual tax rates. \\n176. My proposals from service tax are expected to yield an additional revenue \\nof ` 18,660 crore. Keeping in mind that the share of services in GDP is 59 per \\ncent, you would agree that the proposed increase is not too harsh. \\nI shall now deal with proposals relating to the other indirect taxes. \\n\\n177. In the wake of the global financial crisis in 2008-09, the standard rate of \\nexcise duty for non-petroleum goods was reduced from 14 per cent to 8 per cent \\nin a phased manner. This rate was raised from 8 per cent to 10 per cent in Budget \\nhttp://indiabudget.nic.in \\n\\n\\n\\x0c\\n30 \\n\\n2010-11. Given the imperative for fiscal correction, I propose to now raise the \\nstandard rate from 10 per cent to 12 per cent, the merit rate from 5 per cent to 6 \\nper cent, and the lower merit rate from 1 per cent to 2 per cent. However, the \\nlower merit rate for coal, fertilisers, mobile phones and precious metal jewellery \\nis being retained at 1 per cent. \\n\\n178. Large cars currently attract excise duty depending on their engine capacity \\nand length. In keeping with the increase proposed in the standard rate, I propose \\nto enhance the duty from 22 per cent to 24 per cent. In the case of cars that attract \\na mixed rate of duty of 22 per cent + `15000 per vehicle, I propose to increase \\nthe duty and switch over to an ad valorem rate of 27 per cent. \\n179. No change is proposed in the peak rate of customs duty of 10 per cent on \\nnon-agricultural goods. Barring a few individual items, the rates below the peak \\nare also being retained. \\n180. I shall now take up relief proposals for specific sectors \\x96 especially those \\nunder stress. These have been formulated to stimulate investment and \\nmanufacturing growth. \\nAgriculture & Related Sectors \\n\\n181. Carrying forward the initiatives taken for agriculture and agro-processing \\nin the previous Budgets, I propose: \\n\\x95 to reduce basic customs duty from 7.5 per cent to 2.5 per cent on: \\n. \\nsugarcane planter, root or tuber crop harvesting machine and \\nrotary tiller and weeder; \\n. \\nparts for the manufacture of these; \\n\\x95 to reduce basic customs duty from 7.5 per cent to 5 per cent on \\nspecified coffee plantation and processing machinery; \\n\\x95 to extend project import benefit to green house and protected \\ncultivation for horticulture and floriculture at concessional basic \\ncustoms duty of 5 per cent; \\n\\x95 to reduce basic customs duty on some water soluble fertilisers and \\nliquid fertilisers, other than urea, from 7.5 per cent to 5 per cent \\nand from 5 per cent to 2.5 per cent; \\n\\x95 to extend concessional import duty available for installation of \\nMechanised Handling Systems and Pallet Racking Systems in \\nmandis or warehouses for horticultural produce. \\n182. Imports of equipment for initial setting up or substantial expansion of \\nfertiliser projects are being fully exempted from basic customs duty of 5 per cent \\nfor a period of three years up to March 31, 2015. \\nhttp://indiabudget.nic.in \\n\\n\\n\\x0c\\n31 \\n\\nInfrastructure \\n\\n183. In the realm of infrastructure my proposals address some weaknesses in \\nthe troika of power, coal and railways. \\n184. Domestic producers of thermal power have been under stress because of \\nhigh prices of coal. I propose to ease the situation by providing full exemption \\nfrom basic customs duty and a concessional CVD of 1 per cent to Steam coal for \\na period of two years till March 31, 2014. Full exemption from basic duty is also \\nbeing provided to the following fuels for power generation: \\n\\x95 Natural Gas and Liquified Natural Gas; and \\n\\x95 Uranium concentrate, Sintered Uranium Dioxide in natural and \\npellet form. \\nMining \\n\\n185. Better surveying and prospecting for minerals are essential for improving \\nthe productivity and efficiency of our mining sector. I propose to reduce basic \\ncustoms duty on machinery and instruments for surveying and prospecting from \\n10 per cent or 7.5 per cent to 2.5 per cent. In addition, full exemption from basic \\ncustoms duty is being provided to coal mining projects. \\nRailways \\n\\n186. Over the next five years, Indian Railways are undertaking two major \\nprojects for passenger safety and better service delivery. These are - the installation \\nof Train Protection and Warning System and upgradation of track structure for \\nhigh speed trains. I propose to reduce basic customs duty on equipment required \\nfor their implementation from 10 per cent to 7.5 per cent. \\nRoads \\n\\n187. Full exemption from import duty on specified equipment imported for \\nroad construction by contractors of Ministry of Road Transport and Highways, \\nNHAI and State Governments is being extended to contracts awarded by \\nMetropolitan Development Authorities. \\n188. Tunnel boring machines and parts for their assembly are covered by \\nthis exemption. I propose to allow their import free of duty without end-use \\ncondition. \\nCivil Aviation \\n\\n189. India has potential for establishing itself as a hub for third-party \\nMaintenance, Repair and Overhaul (MRO) of civilian aircraft. To actualize this \\npotential, I propose to fully exempt from basic customs duty parts of aircraft and \\ntesting equipment imported for this purpose. As a measure of support to the \\nairline industry, it is also proposed to fully exempt both new and retreaded aircraft \\ntyres from basic customs duty and excise duty. \\nhttp://indiabudget.nic.in \\n\\n\\n\\x0c\\n32 \\n\\nManufacturing \\n\\n190. My proposals for the manufacturing sector that needs support at this \\njuncture, seek to provide relief through cost reduction of raw materials, inputs, \\ncomponents and capital goods. \\n191. To encourage enrichment of low-grade iron ore, of which we have huge \\nreserves, I propose to reduce basic customs duty on plant and machinery imported \\nfor setting up or substantial expansion of iron ore pellet plants or iron ore \\nbeneficiation plants from 7.5 per cent to 2.5 per cent. My other proposals relating \\nto the steel sector are as under: \\n\\x95 to reduce basic customs duty on: \\n. \\ncoating material for manufacture of electrical steel from 7.5 \\nper cent to 5 per cent \\n. \\nnickel ore and concentrate and nickel oxide/ hydroxide from \\n2.5 per cent or 7.5 per cent to Nil \\n\\x95 to enhance export duty on chromium ore from `3000 per tonne to \\n30 per cent ad valorem \\n\\x95 to enhance basic customs duty on non-alloy, flat-rolled steel from \\n5 per cent to 7.5 per cent. \\n192. Our textile industry, especially the weaving sector, urgently needs to \\nmodernise. I propose to fully exempt automatic shuttle-less looms from basic \\ncustoms duty of 5 per cent. Similarly, full exemption from basic duty is being \\naccorded to automatic silk reeling and processing machinery as well as its parts. \\nIt is also proposed to restrict these exemptions and the existing concessional rate \\nof basic customs duty of 5 per cent only to new textile machinery. Second-hand \\nmachinery would now attract basic duty of 7.5 per cent. Other proposals on \\ntextiles are: \\n\\x95 to reduce basic customs duty on wool waste and wool tops from \\n15 per cent to 5 per cent \\n\\x95 to reduce basic customs duty on Titanium dioxide from 10 per \\ncent to 7.5 per cent \\n\\x95 to extend full exemption from basic customs duty to aramid yarn \\nand fabric used for the manufacture of bullet proof helmets \\n193. Excise duty of 10 per cent is applicable to branded ready-made garments \\nwith abatement of 55 per cent from the Retail Sale Price. Along with increase in \\nduty to 12 per cent, I propose to enhance the abatement to 70 per cent. As a \\nresult, the incidence of duty as a percentage of the Retail Sale Price would come \\ndown from 4.5 per cent to 3.6 per cent. \\n194. Our MSME sector is fertile ground for the production of low-cost medical \\ndevices. In order to provide impetus to this sector, I propose to reduce basic \\nhttp://indiabudget.nic.in \\n\\n\\n\\x0c\\n33 \\n\\ncustoms duty to 2.5 per cent with concessional CVD of 6 per cent on specified \\nparts, components and raw materials for the manufacture of some disposables \\nand instruments. Full exemption from basic customs duty and CVD is also being \\nextended to specified raw materials for the manufacture of coronary stents and \\nheart valves. These concessions would be subject to actual user condition. \\n\\n195. My other proposals to support the manufacturing sector include: \\n\\x95 Full exemption from basic customs duty on \\n. \\nwaste paper, \\n. \\nLCD and LED TV panels, and parts of memory card for \\nmobile phones \\n\\x95 Reduction of basic customs duty on specified raw materials for the \\nmanufacture of adult diapers from 10 per cent or 7.5 per cent to 5 \\nper cent with CVD of 6 per cent and nil special CVD. \\n196. My attention has been drawn to the plight of a few sectors that are highly \\nlabour-intensive and produce items of mass consumption. As a measure of \\nsupport, I propose to enhance basic customs duty on bicycles from 10 per cent to \\n30 per cent and on bicycle parts from 10 per cent to 20 per cent. \\n197. Full exemption from excise duty is currently available to hand-made \\nmatches while others attract the standard rate. It is proposed to reduce excise \\nduty on matches manufactured by semi-mechanised units from 10 per cent to 6 \\nper cent. \\nHealth and Nutrition \\n\\n198. It is proposed to extend concessional basic customs duty of 5 per cent \\nwith full exemption from excise duty/CVD to six specified life-saving drugs/ \\nvaccines. These are used for the treatment or prevention of ailments such as \\nHIV-AIDS, renal cancer, etc. \\n199. Protein deficiency among women and children is one of the most common \\nsources of malnutrition in India. I propose to reduce basic customs duty on Soya \\nprotein concentrate and isolated soya protein from 30 per cent or 15 per cent \\nrespectively to 10 per cent. Simultaneously, excise duty on all processed soya \\nfood products is being reduced to the merit rate of 6 per cent. \\n200. Consumption of iodised salt prevents iodine deficiency and related \\ndiseases. I propose to provide a concessional basic customs duty of 2.5 per cent \\nalong with reduced excise duty of 6 per cent on iodine. \\n201. Probiotics are a cost-effective means of combating bacterial infections. \\nIt is proposed to reduce the basic customs duty on this item from 10 per cent to \\n5 per cent. \\nhttp://indiabudget.nic.in \\n\\n\\n\\x0c\\n34 \\n\\nEnvironment \\n\\n202. In order to fully realise our potential in the realm of solar energy, solar \\nthermal projects need encouragement. I propose to fully exempt plant and \\nequipment etc. for the initial setting up of such projects from special CVD. \\n203. Concessions have already been provided for encouraging the consumption \\nof energy-saving devices. I propose to fully exempt a coating chemical used for \\ncompact fluorescent lamps, from basic customs duty. Excise duty on LED lamps \\nis also being reduced to 6 per cent. \\n204. Specified parts required for the manufacture of hybrid vehicles enjoy \\nfull exemption from basic customs duty and special CVD with concessional \\nexcise duty/ CVD of 6 per cent. This concession is being extended to specified \\nadditional items and lithium ion batteries imported for the manufacture of battery \\npacks for supply to electric or hybrid vehicle manufacturers. \\n205. One of the primary drivers of the current account deficit has been the \\ngrowth of almost 50 per cent in imports of gold and other precious metals in the \\nfirst three quarters of this year. I have been advised to strengthen the steps \\nalready taken to check this trend for better results. I propose to increase basic \\ncustoms duty on standard gold bars; gold coins of purity exceeding 99.5 per cent \\nand platinum from 2 per cent to 4 per cent and on non-standard gold from 5 per \\ncent to 10 per cent. In sync with these, basic duty on gold ore, concentrate and \\ndore bars for refining is being enhanced from 1 per cent to 2 per cent. On the \\nexcise side, duty on refined gold is being increased in the same proportion from \\n1.5 per cent to 3 per cent. \\n206. In order to prevent round-tripping, it is proposed to impose basic customs \\nduty of 2 per cent on cut and polished, coloured gem stones at par with diamonds. \\nAdditional Resource Mobilisation \\n\\n207. I shall now take up my proposals on \\x93demerit\\x94 goods. I propose to \\nincrease basic excise duty on cigarettes of more than 65mm length by adding \\nan ad valorem component of 10 per cent to the existing specific rates. The ad \\nvalorem duty would be chargeable on 50 per cent of the Retail Sale Price \\ndeclared on the pack. \\n208. I also propose to carry out a nominal increase in basic excise duty on \\nhand-rolled bidis from `8 to `10 per thousand and on machine-rolled bidis from \\n`19 to `21 per thousand. The existing exemption available to hand-rolled bidis \\nfor clearances up to 20 lakh bidis per annum is being retained. \\n209. Pan masala, gutkha, chewing tobacco, unmanufactured tobacco and zarda \\nscented tobacco in pouches are leviable to excise duty under the compounded \\nlevy scheme. The rates of duty specified per packing machine for these items are \\nbeing stepped up taking into account improvements in the efficiency of machines \\nused by this industry. \\nhttp://indiabudget.nic.in \\n\\n\\n\\x0c\\n35 \\n\\n210. Crude petroleum oil produced in India attracts a cess of `2,500 per metric \\ntonne under the Oil Industries Development Act. This rate was last revised in \\nBudget 2006-07. As a measure of indexation, I propose to increase the rate of \\ncess to `4,500 per metric tonne. \\n211. Completely Built Units of large cars/ MUVs/ SUVs having engine \\ncapacity above a prescribed threshold and whose value exceeds US dollar 40,000 \\nper vehicle are permitted for import without type approval. Basic customs duty \\non such vehicles is being enhanced from 60 per cent to 75 per cent ad valorem. \\nRationalisation Measures \\n\\n212. Packaged cement, whether manufactured by mini-cement plants or others, \\nattracts differential excise duty depending on the Retail Sale Price per bag. It is \\nproposed to prescribe a unified rate of 12 per cent + `120 PMT for non-mini \\ncement plants and 6 per cent + `120 PMT for mini-cement plants. It is proposed \\nto charge this duty on the Retail Sale Price less abatement of 30 per cent. \\n213. The House would recall that I had re-introduced a levy of excise duty of \\n1 per cent on branded precious metal jewellery in the last Budget. As a measure \\nof rationalisation, I propose to include jewellery, not bearing a brand name, under \\nits ambit. However, to simplify its operation and minimise its impact on small \\nartisans and goldsmiths, I propose: \\n\\x95 to charge this duty on tariff value equal to 30 per cent of the \\ntransaction value; \\n\\x95 to extend small-scale exemption up to annual turnover not \\nexceeding `1.5 crore for units having a turnover below ` 4 crore in \\nthe previous year; \\n\\x95 to compute turnover on the basis of tariff value; and \\n\\x95 to place the onus of registration and payment on the person who \\ngets jewellery manufactured on job-work. \\n214. I propose to fully exempt branded silver jewellery from excise duty. \\n215. Building of commercial vehicle bodies is currently exempt from excise \\nduty. In lieu of this duty, a specific rate of `10,000 is being charged on chassis in \\naddition to the applicable ad valorem duty. This duty structure is regressive. It is \\nproposed to convert the specific component of duty to an ad valorem rate of 3 \\nper cent. \\n216. In the last Budget, excise duty exemption on ships and vessels including \\ndredgers was withdrawn. Accordingly, CVD of 5 per cent became leviable on \\ntheir imports. As the intention was not to levy this duty on the import of foreign-\\ngoing vessels, I propose to exempt such vessels from CVD retrospectively. \\nhttp://indiabudget.nic.in \\n\\n\\n\\x0c\\n36 \\n\\nHowever, to ensure that ships, vessels and dredgers manufactured in India do \\nnot face disability vis-à-vis foreign-going ships converting into coastal vessels, \\nnecessary safeguard is being provided. \\n\\nBaggage Allowance \\n\\n217. Baggage allowance for Indians travelling abroad was last revised in 2004. \\nI propose to increase the duty-free allowance for eligible passengers of Indian \\norigin from `25,000 to `35,000 and for children of up to 10 years from `12,000 \\nto `15,000. \\n218. My proposals relating to Customs and Central excise are estimated to \\nresult in a net revenue gain of ` 27,280 crore for a full year. \\n219. My proposals on Direct Taxes are estimated to result in a net revenue \\nloss of `4500 crore for the year. Proposals relating to Indirect Taxes are estimated \\nto result in a net revenue gain of `45,940 crore, leaving a net gain of `41,440 \\ncrore in the Budget. \\n220. For the Indian economy, this was a challenging year. A number of global \\nand domestic factors militated against the growth that had revived in the last two \\nyears. But India has thrived under challenges and India will do so now. In the \\nmiddle of every crisis, there is also an opportunity. It is an opportunity to rethink, \\nre-assess and make way for new ideas and policies. It is in this spirit that \\nI approached the Budget of this year. The aim is to create an enabling atmosphere \\nfor corporates, farmers, entrepreneurs and workers to take initiatives for robust \\ngrowth. The aim is also to ensure that the benefits of growth reach all sections of \\npopulation. India stands on the brink of a major resurgence. Whether or not \\ntoday\\x92s announcements make tomorrow morning\\x92s headlines matters little, as \\nlong as they help in shaping the headlines that describe India a decade from now. \\nMadam Speaker, with these words, I commend the Budget to the House. \\n\\nhttp://indiabudget.nic.in'"
            ]
          },
          "metadata": {
            "tags": []
          },
          "execution_count": 12
        }
      ]
    },
    {
      "cell_type": "markdown",
      "metadata": {
        "id": "NlTAPa2MbOhR",
        "colab_type": "text"
      },
      "source": [
        "`Cool! Now, we are done with reading the speeches from our text files. Next, I want the name of respective speaker.`"
      ]
    },
    {
      "cell_type": "code",
      "metadata": {
        "id": "kk12tPlxbKOE",
        "colab_type": "code",
        "colab": {
          "base_uri": "https://localhost:8080/",
          "height": 250
        },
        "outputId": "9b948e56-3b6a-4773-bea4-70c302a473cd"
      },
      "source": [
        "#Getting names of Speakers for the respective speech\n",
        "#The name lies in the speech itself in the following line:\n",
        "#Budget  2010-2011\\n\\n \\n\\nSpeech  of\\n\\nPranab Mukherjee\\n\\nMinister of Finance\n",
        "pattern = r'Speech\\s*of\\s*(.*\\s.*)\\s*Minister'\n",
        "found = re.findall(pattern, ' '.join(all_speech_list))\n",
        "speakers = [w.replace('\\n', '').strip() for w in found]\n",
        "print('Names of speakers are as follows:')\n",
        "print(*speakers,sep='\\n') \n",
        "print(\"Total Speakers: \", len(speakers))"
      ],
      "execution_count": 13,
      "outputs": [
        {
          "output_type": "stream",
          "text": [
            "Names of speakers are as follows:\n",
            "Pranab Mukherjee\n",
            "Arun Jaitley\n",
            "Arun Jaitley\n",
            "Piyush Goyal\n",
            "Nirmala Sitharaman\n",
            "Arun Jaitley\n",
            "Arun Jaitley\n",
            "Pranab Mukherjee\n",
            "Arun Jaitley\n",
            "Pranab Mukherjee\n",
            "P. Chidambaram\n",
            "P. Chidambaram\n",
            "Total Speakers:  12\n"
          ],
          "name": "stdout"
        }
      ]
    },
    {
      "cell_type": "markdown",
      "metadata": {
        "id": "rMr_1raQbjyh",
        "colab_type": "text"
      },
      "source": [
        "`Now that I have speech and it's speaker name. I want the respective date of the speech`"
      ]
    },
    {
      "cell_type": "code",
      "metadata": {
        "id": "083S07ccbhBW",
        "colab_type": "code",
        "colab": {
          "base_uri": "https://localhost:8080/",
          "height": 250
        },
        "outputId": "dcf72ccb-b055-46bc-b75f-570107ad8125"
      },
      "source": [
        "#Getting respective speech's date\n",
        "#Budget  2010-2011\\n\\n \\n\\nSpeech  of\\n\\nPranab Mukherjee\\n\\nMinister of Finance\\n\\n \\n\\nFebruary  26,  2010\\n\\n \\n\\nMadam\n",
        "speech_dates = []\n",
        "pattern = r'[A-Z]\\w+\\s*\\d{1,2}\\s*,\\s*\\d{4}'\n",
        "for speech in all_speech_list:\n",
        "    found = re.search(pattern, speech)\n",
        "    if found: \n",
        "        speech_date = speech[found.start():found.end()].replace('\\n','').strip()\n",
        "        speech_dates.append(speech_date)\n",
        "print('Respective Dates:')\n",
        "print(*speech_dates, len(speech_dates), sep='\\n')"
      ],
      "execution_count": 14,
      "outputs": [
        {
          "output_type": "stream",
          "text": [
            "Respective Dates:\n",
            "March 16, 2012\n",
            "July 10, 2014\n",
            "February 28, 2015\n",
            "February 1, 2019\n",
            "July 5, 2019\n",
            "February 1, 2017\n",
            "February 1, 2018\n",
            "February  26,  2010\n",
            "February 29, 2016\n",
            "February 28, 2011\n",
            "February 28, 2013\n",
            "February 17, 2014\n",
            "12\n"
          ],
          "name": "stdout"
        }
      ]
    },
    {
      "cell_type": "markdown",
      "metadata": {
        "id": "H2XAcnTDbxlu",
        "colab_type": "text"
      },
      "source": [
        "`Now, we have everything required for further exploration and the project. I will be creating Dataframe for Speaker Name, Speech Date and Speeches`"
      ]
    },
    {
      "cell_type": "code",
      "metadata": {
        "id": "0WedYbGFbu2m",
        "colab_type": "code",
        "colab": {
          "base_uri": "https://localhost:8080/",
          "height": 407
        },
        "outputId": "8dffde34-d6b8-48bb-d7b5-bd10da4402f3"
      },
      "source": [
        "#Creating Dataframe for Speaker Name, Speech Date and Speeches\n",
        "df = pd.DataFrame({'Speaker_Name':speakers,'Date_Of_Speech':speech_dates,'Speech':all_speech_list})\n",
        "df"
      ],
      "execution_count": 15,
      "outputs": [
        {
          "output_type": "execute_result",
          "data": {
            "text/html": [
              "<div>\n",
              "<style scoped>\n",
              "    .dataframe tbody tr th:only-of-type {\n",
              "        vertical-align: middle;\n",
              "    }\n",
              "\n",
              "    .dataframe tbody tr th {\n",
              "        vertical-align: top;\n",
              "    }\n",
              "\n",
              "    .dataframe thead th {\n",
              "        text-align: right;\n",
              "    }\n",
              "</style>\n",
              "<table border=\"1\" class=\"dataframe\">\n",
              "  <thead>\n",
              "    <tr style=\"text-align: right;\">\n",
              "      <th></th>\n",
              "      <th>Speaker_Name</th>\n",
              "      <th>Date_Of_Speech</th>\n",
              "      <th>Speech</th>\n",
              "    </tr>\n",
              "  </thead>\n",
              "  <tbody>\n",
              "    <tr>\n",
              "      <th>0</th>\n",
              "      <td>Pranab Mukherjee</td>\n",
              "      <td>March 16, 2012</td>\n",
              "      <td>Budget 2012-2013 \\n\\nSpeech of \\n\\nPranab Mukh...</td>\n",
              "    </tr>\n",
              "    <tr>\n",
              "      <th>1</th>\n",
              "      <td>Arun Jaitley</td>\n",
              "      <td>July 10, 2014</td>\n",
              "      <td>Budget 2014-2015 \\n\\nSpeech of \\n\\nArun Jaitle...</td>\n",
              "    </tr>\n",
              "    <tr>\n",
              "      <th>2</th>\n",
              "      <td>Arun Jaitley</td>\n",
              "      <td>February 28, 2015</td>\n",
              "      <td>CONTENTS \\n\\nPART -A \\n\\nPage No. \\nIntroducti...</td>\n",
              "    </tr>\n",
              "    <tr>\n",
              "      <th>3</th>\n",
              "      <td>Piyush Goyal</td>\n",
              "      <td>February 1, 2019</td>\n",
              "      <td>Interim Budget 2019-2020 \\n\\n \\n\\nSpeech of \\n...</td>\n",
              "    </tr>\n",
              "    <tr>\n",
              "      <th>4</th>\n",
              "      <td>Nirmala Sitharaman</td>\n",
              "      <td>July 5, 2019</td>\n",
              "      <td>Budget \\n2019-2020 \\n\\n\\nSpeech \\nof \\nNirmala...</td>\n",
              "    </tr>\n",
              "    <tr>\n",
              "      <th>5</th>\n",
              "      <td>Arun Jaitley</td>\n",
              "      <td>February 1, 2017</td>\n",
              "      <td>CONTENTS \\n\\n \\n\\nPART - A \\n\\n Page No. \\n\\n ...</td>\n",
              "    </tr>\n",
              "    <tr>\n",
              "      <th>6</th>\n",
              "      <td>Arun Jaitley</td>\n",
              "      <td>February 1, 2018</td>\n",
              "      <td>Budget 2018-2019 \\n\\n \\n\\nSpeech of \\n\\nArun J...</td>\n",
              "    </tr>\n",
              "    <tr>\n",
              "      <th>7</th>\n",
              "      <td>Pranab Mukherjee</td>\n",
              "      <td>February  26,  2010</td>\n",
              "      <td>Budget  2010-2011\\n\\n \\n\\nSpeech  of\\n\\nPranab...</td>\n",
              "    </tr>\n",
              "    <tr>\n",
              "      <th>8</th>\n",
              "      <td>Arun Jaitley</td>\n",
              "      <td>February 29, 2016</td>\n",
              "      <td>CONTENTS \\n\\nPART -A \\n\\nPage No. \\n\\nIntroduc...</td>\n",
              "    </tr>\n",
              "    <tr>\n",
              "      <th>9</th>\n",
              "      <td>Pranab Mukherjee</td>\n",
              "      <td>February 28, 2011</td>\n",
              "      <td>Budget 2011-2012 \\n\\nSpeech of \\n\\nPranab Mukh...</td>\n",
              "    </tr>\n",
              "    <tr>\n",
              "      <th>10</th>\n",
              "      <td>P. Chidambaram</td>\n",
              "      <td>February 28, 2013</td>\n",
              "      <td>Budget 2013-2014 \\n\\nSpeech of \\n\\nP. Chidamba...</td>\n",
              "    </tr>\n",
              "    <tr>\n",
              "      <th>11</th>\n",
              "      <td>P. Chidambaram</td>\n",
              "      <td>February 17, 2014</td>\n",
              "      <td>Interim Budget 2014-2015 \\n\\nSpeech of \\n\\nP. ...</td>\n",
              "    </tr>\n",
              "  </tbody>\n",
              "</table>\n",
              "</div>"
            ],
            "text/plain": [
              "          Speaker_Name  ...                                             Speech\n",
              "0     Pranab Mukherjee  ...  Budget 2012-2013 \\n\\nSpeech of \\n\\nPranab Mukh...\n",
              "1         Arun Jaitley  ...  Budget 2014-2015 \\n\\nSpeech of \\n\\nArun Jaitle...\n",
              "2         Arun Jaitley  ...  CONTENTS \\n\\nPART -A \\n\\nPage No. \\nIntroducti...\n",
              "3         Piyush Goyal  ...  Interim Budget 2019-2020 \\n\\n \\n\\nSpeech of \\n...\n",
              "4   Nirmala Sitharaman  ...  Budget \\n2019-2020 \\n\\n\\nSpeech \\nof \\nNirmala...\n",
              "5         Arun Jaitley  ...  CONTENTS \\n\\n \\n\\nPART - A \\n\\n Page No. \\n\\n ...\n",
              "6         Arun Jaitley  ...  Budget 2018-2019 \\n\\n \\n\\nSpeech of \\n\\nArun J...\n",
              "7     Pranab Mukherjee  ...  Budget  2010-2011\\n\\n \\n\\nSpeech  of\\n\\nPranab...\n",
              "8         Arun Jaitley  ...  CONTENTS \\n\\nPART -A \\n\\nPage No. \\n\\nIntroduc...\n",
              "9     Pranab Mukherjee  ...  Budget 2011-2012 \\n\\nSpeech of \\n\\nPranab Mukh...\n",
              "10      P. Chidambaram  ...  Budget 2013-2014 \\n\\nSpeech of \\n\\nP. Chidamba...\n",
              "11      P. Chidambaram  ...  Interim Budget 2014-2015 \\n\\nSpeech of \\n\\nP. ...\n",
              "\n",
              "[12 rows x 3 columns]"
            ]
          },
          "metadata": {
            "tags": []
          },
          "execution_count": 15
        }
      ]
    },
    {
      "cell_type": "code",
      "metadata": {
        "id": "R-4qj0GhcAu_",
        "colab_type": "code",
        "colab": {}
      },
      "source": [
        "df.to_pickle('/content/drive/My Drive/Capstone Project - NLP/Harsh/Project_Checkpoints/speech_corpus.pkl')"
      ],
      "execution_count": 0,
      "outputs": []
    }
  ]
}