{
  "nbformat": 4,
  "nbformat_minor": 0,
  "metadata": {
    "colab": {
      "name": "Classification_Checkpoint.ipynb",
      "provenance": [],
      "mount_file_id": "1vanpOgVkLvhJjoZtRicFNnJxjRiv9PTv",
      "authorship_tag": "ABX9TyPPiwz6IF4287nPVz1G2wiY",
      "include_colab_link": true
    },
    "kernelspec": {
      "name": "python3",
      "display_name": "Python 3"
    }
  },
  "cells": [
    {
      "cell_type": "markdown",
      "metadata": {
        "id": "view-in-github",
        "colab_type": "text"
      },
      "source": [
        "<a href=\"https://colab.research.google.com/github/solharsh/Capstone_Sentiment_Analysis/blob/master/Classification_Checkpoint.ipynb\" target=\"_parent\"><img src=\"https://colab.research.google.com/assets/colab-badge.svg\" alt=\"Open In Colab\"/></a>"
      ]
    },
    {
      "cell_type": "code",
      "metadata": {
        "id": "wPH92TWR5s3o",
        "colab_type": "code",
        "colab": {
          "base_uri": "https://localhost:8080/",
          "height": 67
        },
        "outputId": "ef62ece4-fd8c-482e-8567-c07299b34798"
      },
      "source": [
        "import nltk\n",
        "nltk.download('stopwords')"
      ],
      "execution_count": 4,
      "outputs": [
        {
          "output_type": "stream",
          "text": [
            "[nltk_data] Downloading package stopwords to /root/nltk_data...\n",
            "[nltk_data]   Package stopwords is already up-to-date!\n"
          ],
          "name": "stdout"
        },
        {
          "output_type": "execute_result",
          "data": {
            "text/plain": [
              "True"
            ]
          },
          "metadata": {
            "tags": []
          },
          "execution_count": 4
        }
      ]
    },
    {
      "cell_type": "code",
      "metadata": {
        "id": "grjdoY1c3giZ",
        "colab_type": "code",
        "colab": {
          "base_uri": "https://localhost:8080/",
          "height": 33
        },
        "outputId": "f56b4846-9e77-4551-f5a1-6fdadcaa3e5d"
      },
      "source": [
        "import numpy as np\n",
        "import pandas as pd\n",
        "import tensorflow as tf\n",
        "from tensorflow.keras.layers import Dense, Input\n",
        "from tensorflow.keras.optimizers import Adam\n",
        "from tensorflow.keras.models import Model\n",
        "from tensorflow.keras.callbacks import ModelCheckpoint\n",
        "import tensorflow_hub as hub\n",
        "#import tokenization\n",
        "import seaborn as sns\n",
        "import matplotlib.pyplot as plt\n",
        "import re\n",
        "\n",
        "import pandas as pd\n",
        "import matplotlib.pyplot as plt\n",
        "import seaborn as sns\n",
        "import numpy as np\n",
        "from nltk.corpus import stopwords\n",
        "from nltk.util import ngrams\n",
        "from sklearn.feature_extraction.text import CountVectorizer\n",
        "from collections import defaultdict\n",
        "from collections import  Counter\n",
        "plt.style.use('ggplot')\n",
        "stop=set(stopwords.words('english'))\n",
        "import re\n",
        "from nltk.tokenize import word_tokenize\n",
        "import gensim\n",
        "import string\n",
        "from keras.preprocessing.text import Tokenizer\n",
        "from keras.preprocessing.sequence import pad_sequences\n",
        "from tqdm import tqdm\n",
        "from keras.models import Sequential\n",
        "from keras.layers import Embedding,LSTM,Dense,SpatialDropout1D\n",
        "from keras.initializers import Constant\n",
        "from sklearn.model_selection import train_test_split\n",
        "from keras.optimizers import Adam"
      ],
      "execution_count": 5,
      "outputs": [
        {
          "output_type": "stream",
          "text": [
            "Using TensorFlow backend.\n"
          ],
          "name": "stderr"
        }
      ]
    },
    {
      "cell_type": "code",
      "metadata": {
        "id": "wB2cWEp33ovG",
        "colab_type": "code",
        "colab": {}
      },
      "source": [
        "import pickle\n",
        "DATA_PATH = \"/content/drive/My Drive/Capstone Project - NLP\"\n",
        "infile = open(DATA_PATH+'/df.pkl','rb')\n",
        "df = pickle.load(infile)"
      ],
      "execution_count": 0,
      "outputs": []
    },
    {
      "cell_type": "code",
      "metadata": {
        "id": "dGW7B28K6JcO",
        "colab_type": "code",
        "colab": {
          "base_uri": "https://localhost:8080/",
          "height": 281
        },
        "outputId": "f29b077b-9739-43f7-c50c-be263d2f4be8"
      },
      "source": [
        "df.head()"
      ],
      "execution_count": 8,
      "outputs": [
        {
          "output_type": "execute_result",
          "data": {
            "text/html": [
              "<div>\n",
              "<style scoped>\n",
              "    .dataframe tbody tr th:only-of-type {\n",
              "        vertical-align: middle;\n",
              "    }\n",
              "\n",
              "    .dataframe tbody tr th {\n",
              "        vertical-align: top;\n",
              "    }\n",
              "\n",
              "    .dataframe thead th {\n",
              "        text-align: right;\n",
              "    }\n",
              "</style>\n",
              "<table border=\"1\" class=\"dataframe\">\n",
              "  <thead>\n",
              "    <tr style=\"text-align: right;\">\n",
              "      <th></th>\n",
              "      <th>Name</th>\n",
              "      <th>Date</th>\n",
              "      <th>Speech</th>\n",
              "      <th>Clean</th>\n",
              "      <th>Clean_english</th>\n",
              "    </tr>\n",
              "  </thead>\n",
              "  <tbody>\n",
              "    <tr>\n",
              "      <th>0</th>\n",
              "      <td>Pranab Mukherjee</td>\n",
              "      <td>February  26,  2010</td>\n",
              "      <td>Budget  2010-2011 Speech  ofPranab MukherjeeMi...</td>\n",
              "      <td>rise Union</td>\n",
              "      <td>rise Union</td>\n",
              "    </tr>\n",
              "    <tr>\n",
              "      <th>1</th>\n",
              "      <td>Pranab Mukherjee</td>\n",
              "      <td>February  26,  2010</td>\n",
              "      <td>In 2009, when I presented the interim Budg...</td>\n",
              "      <td>interim regular economy grave uncertainties</td>\n",
              "      <td>interim regular economy grave</td>\n",
              "    </tr>\n",
              "    <tr>\n",
              "      <th>2</th>\n",
              "      <td>Pranab Mukherjee</td>\n",
              "      <td>February  26,  2010</td>\n",
              "      <td>Growth had started decelerating and the busin...</td>\n",
              "      <td>Growth started decelerating business sentiment...</td>\n",
              "      <td>Growth business sentiment weak</td>\n",
              "    </tr>\n",
              "    <tr>\n",
              "      <th>3</th>\n",
              "      <td>Pranab Mukherjee</td>\n",
              "      <td>February  26,  2010</td>\n",
              "      <td>The economy's capacity to sustain high growth...</td>\n",
              "      <td>economy capacity sustain high growth threat wi...</td>\n",
              "      <td>economy capacity sustain high growth threat wi...</td>\n",
              "    </tr>\n",
              "    <tr>\n",
              "      <th>5</th>\n",
              "      <td>Pranab Mukherjee</td>\n",
              "      <td>February  26,  2010</td>\n",
              "      <td>It was not clear to us, as also to the polic...</td>\n",
              "      <td>policy makers countries crisis eventually unfold</td>\n",
              "      <td>policy crisis eventually unfold</td>\n",
              "    </tr>\n",
              "  </tbody>\n",
              "</table>\n",
              "</div>"
            ],
            "text/plain": [
              "               Name  ...                                      Clean_english\n",
              "0  Pranab Mukherjee  ...                                         rise Union\n",
              "1  Pranab Mukherjee  ...                      interim regular economy grave\n",
              "2  Pranab Mukherjee  ...                     Growth business sentiment weak\n",
              "3  Pranab Mukherjee  ...  economy capacity sustain high growth threat wi...\n",
              "5  Pranab Mukherjee  ...                    policy crisis eventually unfold\n",
              "\n",
              "[5 rows x 5 columns]"
            ]
          },
          "metadata": {
            "tags": []
          },
          "execution_count": 8
        }
      ]
    },
    {
      "cell_type": "code",
      "metadata": {
        "id": "DFae7Y_T8rMS",
        "colab_type": "code",
        "colab": {
          "base_uri": "https://localhost:8080/",
          "height": 117
        },
        "outputId": "b13399f1-e025-4c3e-bb60-cf8380cb2c80"
      },
      "source": [
        "pip install vaderSentiment"
      ],
      "execution_count": 55,
      "outputs": [
        {
          "output_type": "stream",
          "text": [
            "Requirement already satisfied: vaderSentiment in /usr/local/lib/python3.6/dist-packages (3.3.2)\n",
            "Requirement already satisfied: requests in /usr/local/lib/python3.6/dist-packages (from vaderSentiment) (2.23.0)\n",
            "Requirement already satisfied: certifi>=2017.4.17 in /usr/local/lib/python3.6/dist-packages (from requests->vaderSentiment) (2020.4.5.1)\n",
            "Requirement already satisfied: urllib3!=1.25.0,!=1.25.1,<1.26,>=1.21.1 in /usr/local/lib/python3.6/dist-packages (from requests->vaderSentiment) (1.24.3)\n",
            "Requirement already satisfied: idna<3,>=2.5 in /usr/local/lib/python3.6/dist-packages (from requests->vaderSentiment) (2.9)\n",
            "Requirement already satisfied: chardet<4,>=3.0.2 in /usr/local/lib/python3.6/dist-packages (from requests->vaderSentiment) (3.0.4)\n"
          ],
          "name": "stdout"
        }
      ]
    },
    {
      "cell_type": "code",
      "metadata": {
        "id": "vsbW3B7U8wxY",
        "colab_type": "code",
        "colab": {}
      },
      "source": [
        "from vaderSentiment.vaderSentiment import SentimentIntensityAnalyzer\n",
        "analyser = SentimentIntensityAnalyzer()\n",
        "\n",
        "sentiment=[]\n",
        "for sentence in df.Clean_english:\n",
        "  sentiment.append(analyser.polarity_scores(sentence)['compound'])\n",
        "\n",
        "df['sentiment_vadar']=sentiment"
      ],
      "execution_count": 0,
      "outputs": []
    },
    {
      "cell_type": "code",
      "metadata": {
        "id": "CHqCPVWW8z0Q",
        "colab_type": "code",
        "colab": {
          "base_uri": "https://localhost:8080/",
          "height": 573
        },
        "outputId": "3b11018a-18d0-4d68-abdd-272be9b06f4f"
      },
      "source": [
        "df"
      ],
      "execution_count": 58,
      "outputs": [
        {
          "output_type": "execute_result",
          "data": {
            "text/html": [
              "<div>\n",
              "<style scoped>\n",
              "    .dataframe tbody tr th:only-of-type {\n",
              "        vertical-align: middle;\n",
              "    }\n",
              "\n",
              "    .dataframe tbody tr th {\n",
              "        vertical-align: top;\n",
              "    }\n",
              "\n",
              "    .dataframe thead th {\n",
              "        text-align: right;\n",
              "    }\n",
              "</style>\n",
              "<table border=\"1\" class=\"dataframe\">\n",
              "  <thead>\n",
              "    <tr style=\"text-align: right;\">\n",
              "      <th></th>\n",
              "      <th>Name</th>\n",
              "      <th>Date</th>\n",
              "      <th>Speech</th>\n",
              "      <th>Clean</th>\n",
              "      <th>Clean_english</th>\n",
              "      <th>sentiment_vadar</th>\n",
              "    </tr>\n",
              "  </thead>\n",
              "  <tbody>\n",
              "    <tr>\n",
              "      <th>0</th>\n",
              "      <td>Pranab Mukherjee</td>\n",
              "      <td>February  26,  2010</td>\n",
              "      <td>Budget  2010-2011 Speech  ofPranab MukherjeeMi...</td>\n",
              "      <td>rise Union</td>\n",
              "      <td>rise Union</td>\n",
              "      <td>0.0000</td>\n",
              "    </tr>\n",
              "    <tr>\n",
              "      <th>1</th>\n",
              "      <td>Pranab Mukherjee</td>\n",
              "      <td>February  26,  2010</td>\n",
              "      <td>In 2009, when I presented the interim Budg...</td>\n",
              "      <td>interim regular economy grave uncertainties</td>\n",
              "      <td>interim regular economy grave</td>\n",
              "      <td>-0.3818</td>\n",
              "    </tr>\n",
              "    <tr>\n",
              "      <th>2</th>\n",
              "      <td>Pranab Mukherjee</td>\n",
              "      <td>February  26,  2010</td>\n",
              "      <td>Growth had started decelerating and the busin...</td>\n",
              "      <td>Growth started decelerating business sentiment...</td>\n",
              "      <td>Growth business sentiment weak</td>\n",
              "      <td>-0.0772</td>\n",
              "    </tr>\n",
              "    <tr>\n",
              "      <th>3</th>\n",
              "      <td>Pranab Mukherjee</td>\n",
              "      <td>February  26,  2010</td>\n",
              "      <td>The economy's capacity to sustain high growth...</td>\n",
              "      <td>economy capacity sustain high growth threat wi...</td>\n",
              "      <td>economy capacity sustain high growth threat wi...</td>\n",
              "      <td>-0.2023</td>\n",
              "    </tr>\n",
              "    <tr>\n",
              "      <th>5</th>\n",
              "      <td>Pranab Mukherjee</td>\n",
              "      <td>February  26,  2010</td>\n",
              "      <td>It was not clear to us, as also to the polic...</td>\n",
              "      <td>policy makers countries crisis eventually unfold</td>\n",
              "      <td>policy crisis eventually unfold</td>\n",
              "      <td>-0.6249</td>\n",
              "    </tr>\n",
              "    <tr>\n",
              "      <th>...</th>\n",
              "      <td>...</td>\n",
              "      <td>...</td>\n",
              "      <td>...</td>\n",
              "      <td>...</td>\n",
              "      <td>...</td>\n",
              "      <td>...</td>\n",
              "    </tr>\n",
              "    <tr>\n",
              "      <th>12311</th>\n",
              "      <td>Piyush Goyal</td>\n",
              "      <td>February 1, 2019</td>\n",
              "      <td>Development has become a mass-movement during...</td>\n",
              "      <td>Development mass movement period Government</td>\n",
              "      <td>Development mass movement period Government</td>\n",
              "      <td>0.0000</td>\n",
              "    </tr>\n",
              "    <tr>\n",
              "      <th>12313</th>\n",
              "      <td>Piyush Goyal</td>\n",
              "      <td>February 1, 2019</td>\n",
              "      <td>We will transform India into a leading nation...</td>\n",
              "      <td>transform leading nation world help people</td>\n",
              "      <td>transform leading nation world help people</td>\n",
              "      <td>0.4019</td>\n",
              "    </tr>\n",
              "    <tr>\n",
              "      <th>12314</th>\n",
              "      <td>Piyush Goyal</td>\n",
              "      <td>February 1, 2019</td>\n",
              "      <td>We, along with them have laid the foundation</td>\n",
              "      <td>laid foundation</td>\n",
              "      <td>laid foundation</td>\n",
              "      <td>0.0000</td>\n",
              "    </tr>\n",
              "    <tr>\n",
              "      <th>12315</th>\n",
              "      <td>Piyush Goyal</td>\n",
              "      <td>February 1, 2019</td>\n",
              "      <td>A grand edifice will be erected with their su...</td>\n",
              "      <td>grand edifice erected support</td>\n",
              "      <td>grand edifice support</td>\n",
              "      <td>0.6908</td>\n",
              "    </tr>\n",
              "    <tr>\n",
              "      <th>12316</th>\n",
              "      <td>Piyush Goyal</td>\n",
              "      <td>February 1, 2019</td>\n",
              "      <td>We have given a decisive leadership, whose in...</td>\n",
              "      <td>decisive leadership policy transparent integri...</td>\n",
              "      <td>decisive leadership policy transparent integri...</td>\n",
              "      <td>0.6808</td>\n",
              "    </tr>\n",
              "  </tbody>\n",
              "</table>\n",
              "<p>9065 rows × 6 columns</p>\n",
              "</div>"
            ],
            "text/plain": [
              "                   Name  ... sentiment_vadar\n",
              "0      Pranab Mukherjee  ...          0.0000\n",
              "1      Pranab Mukherjee  ...         -0.3818\n",
              "2      Pranab Mukherjee  ...         -0.0772\n",
              "3      Pranab Mukherjee  ...         -0.2023\n",
              "5      Pranab Mukherjee  ...         -0.6249\n",
              "...                 ...  ...             ...\n",
              "12311     Piyush Goyal   ...          0.0000\n",
              "12313     Piyush Goyal   ...          0.4019\n",
              "12314     Piyush Goyal   ...          0.0000\n",
              "12315     Piyush Goyal   ...          0.6908\n",
              "12316     Piyush Goyal   ...          0.6808\n",
              "\n",
              "[9065 rows x 6 columns]"
            ]
          },
          "metadata": {
            "tags": []
          },
          "execution_count": 58
        }
      ]
    },
    {
      "cell_type": "markdown",
      "metadata": {
        "id": "3wu0aZiH9b7v",
        "colab_type": "text"
      },
      "source": [
        "# Classification"
      ]
    },
    {
      "cell_type": "code",
      "metadata": {
        "id": "5LX-VY8y8-Ci",
        "colab_type": "code",
        "colab": {}
      },
      "source": [
        "df_selected = df[['Clean_english','sentiment_vadar']]"
      ],
      "execution_count": 0,
      "outputs": []
    },
    {
      "cell_type": "code",
      "metadata": {
        "id": "IidemnzQ9AOY",
        "colab_type": "code",
        "colab": {
          "base_uri": "https://localhost:8080/",
          "height": 407
        },
        "outputId": "5b2078c9-0a94-42ce-e99f-f0af7d1d55d4"
      },
      "source": [
        "df_selected"
      ],
      "execution_count": 70,
      "outputs": [
        {
          "output_type": "execute_result",
          "data": {
            "text/html": [
              "<div>\n",
              "<style scoped>\n",
              "    .dataframe tbody tr th:only-of-type {\n",
              "        vertical-align: middle;\n",
              "    }\n",
              "\n",
              "    .dataframe tbody tr th {\n",
              "        vertical-align: top;\n",
              "    }\n",
              "\n",
              "    .dataframe thead th {\n",
              "        text-align: right;\n",
              "    }\n",
              "</style>\n",
              "<table border=\"1\" class=\"dataframe\">\n",
              "  <thead>\n",
              "    <tr style=\"text-align: right;\">\n",
              "      <th></th>\n",
              "      <th>Clean_english</th>\n",
              "      <th>sentiment_vadar</th>\n",
              "    </tr>\n",
              "  </thead>\n",
              "  <tbody>\n",
              "    <tr>\n",
              "      <th>0</th>\n",
              "      <td>rise Union</td>\n",
              "      <td>0.0000</td>\n",
              "    </tr>\n",
              "    <tr>\n",
              "      <th>1</th>\n",
              "      <td>interim regular economy grave</td>\n",
              "      <td>-0.3818</td>\n",
              "    </tr>\n",
              "    <tr>\n",
              "      <th>2</th>\n",
              "      <td>Growth business sentiment weak</td>\n",
              "      <td>-0.0772</td>\n",
              "    </tr>\n",
              "    <tr>\n",
              "      <th>3</th>\n",
              "      <td>economy capacity sustain high growth threat wi...</td>\n",
              "      <td>-0.2023</td>\n",
              "    </tr>\n",
              "    <tr>\n",
              "      <th>5</th>\n",
              "      <td>policy crisis eventually unfold</td>\n",
              "      <td>-0.6249</td>\n",
              "    </tr>\n",
              "    <tr>\n",
              "      <th>...</th>\n",
              "      <td>...</td>\n",
              "      <td>...</td>\n",
              "    </tr>\n",
              "    <tr>\n",
              "      <th>12311</th>\n",
              "      <td>Development mass movement period Government</td>\n",
              "      <td>0.0000</td>\n",
              "    </tr>\n",
              "    <tr>\n",
              "      <th>12313</th>\n",
              "      <td>transform leading nation world help people</td>\n",
              "      <td>0.4019</td>\n",
              "    </tr>\n",
              "    <tr>\n",
              "      <th>12314</th>\n",
              "      <td>laid foundation</td>\n",
              "      <td>0.0000</td>\n",
              "    </tr>\n",
              "    <tr>\n",
              "      <th>12315</th>\n",
              "      <td>grand edifice support</td>\n",
              "      <td>0.6908</td>\n",
              "    </tr>\n",
              "    <tr>\n",
              "      <th>12316</th>\n",
              "      <td>decisive leadership policy transparent integri...</td>\n",
              "      <td>0.6808</td>\n",
              "    </tr>\n",
              "  </tbody>\n",
              "</table>\n",
              "<p>9065 rows × 2 columns</p>\n",
              "</div>"
            ],
            "text/plain": [
              "                                           Clean_english  sentiment_vadar\n",
              "0                                             rise Union           0.0000\n",
              "1                          interim regular economy grave          -0.3818\n",
              "2                         Growth business sentiment weak          -0.0772\n",
              "3      economy capacity sustain high growth threat wi...          -0.2023\n",
              "5                        policy crisis eventually unfold          -0.6249\n",
              "...                                                  ...              ...\n",
              "12311        Development mass movement period Government           0.0000\n",
              "12313         transform leading nation world help people           0.4019\n",
              "12314                                    laid foundation           0.0000\n",
              "12315                              grand edifice support           0.6908\n",
              "12316  decisive leadership policy transparent integri...           0.6808\n",
              "\n",
              "[9065 rows x 2 columns]"
            ]
          },
          "metadata": {
            "tags": []
          },
          "execution_count": 70
        }
      ]
    },
    {
      "cell_type": "code",
      "metadata": {
        "id": "B5fUPKy49ob0",
        "colab_type": "code",
        "colab": {
          "base_uri": "https://localhost:8080/",
          "height": 117
        },
        "outputId": "98b438b3-c246-4ab3-b09b-99aa76b497d2"
      },
      "source": [
        "df_selected[\"sentiment_vadar\"] = df_selected[\"sentiment_vadar\"].apply(lambda x: 1 if x > 0 else 0)"
      ],
      "execution_count": 71,
      "outputs": [
        {
          "output_type": "stream",
          "text": [
            "/usr/local/lib/python3.6/dist-packages/ipykernel_launcher.py:1: SettingWithCopyWarning: \n",
            "A value is trying to be set on a copy of a slice from a DataFrame.\n",
            "Try using .loc[row_indexer,col_indexer] = value instead\n",
            "\n",
            "See the caveats in the documentation: https://pandas.pydata.org/pandas-docs/stable/user_guide/indexing.html#returning-a-view-versus-a-copy\n",
            "  \"\"\"Entry point for launching an IPython kernel.\n"
          ],
          "name": "stderr"
        }
      ]
    },
    {
      "cell_type": "code",
      "metadata": {
        "id": "GMty1t2rABN9",
        "colab_type": "code",
        "colab": {
          "base_uri": "https://localhost:8080/",
          "height": 407
        },
        "outputId": "7e38ff9c-75eb-4c8b-94b6-a6cc5b82cbf2"
      },
      "source": [
        "df_selected"
      ],
      "execution_count": 72,
      "outputs": [
        {
          "output_type": "execute_result",
          "data": {
            "text/html": [
              "<div>\n",
              "<style scoped>\n",
              "    .dataframe tbody tr th:only-of-type {\n",
              "        vertical-align: middle;\n",
              "    }\n",
              "\n",
              "    .dataframe tbody tr th {\n",
              "        vertical-align: top;\n",
              "    }\n",
              "\n",
              "    .dataframe thead th {\n",
              "        text-align: right;\n",
              "    }\n",
              "</style>\n",
              "<table border=\"1\" class=\"dataframe\">\n",
              "  <thead>\n",
              "    <tr style=\"text-align: right;\">\n",
              "      <th></th>\n",
              "      <th>Clean_english</th>\n",
              "      <th>sentiment_vadar</th>\n",
              "    </tr>\n",
              "  </thead>\n",
              "  <tbody>\n",
              "    <tr>\n",
              "      <th>0</th>\n",
              "      <td>rise Union</td>\n",
              "      <td>0</td>\n",
              "    </tr>\n",
              "    <tr>\n",
              "      <th>1</th>\n",
              "      <td>interim regular economy grave</td>\n",
              "      <td>0</td>\n",
              "    </tr>\n",
              "    <tr>\n",
              "      <th>2</th>\n",
              "      <td>Growth business sentiment weak</td>\n",
              "      <td>0</td>\n",
              "    </tr>\n",
              "    <tr>\n",
              "      <th>3</th>\n",
              "      <td>economy capacity sustain high growth threat wi...</td>\n",
              "      <td>0</td>\n",
              "    </tr>\n",
              "    <tr>\n",
              "      <th>5</th>\n",
              "      <td>policy crisis eventually unfold</td>\n",
              "      <td>0</td>\n",
              "    </tr>\n",
              "    <tr>\n",
              "      <th>...</th>\n",
              "      <td>...</td>\n",
              "      <td>...</td>\n",
              "    </tr>\n",
              "    <tr>\n",
              "      <th>12311</th>\n",
              "      <td>Development mass movement period Government</td>\n",
              "      <td>0</td>\n",
              "    </tr>\n",
              "    <tr>\n",
              "      <th>12313</th>\n",
              "      <td>transform leading nation world help people</td>\n",
              "      <td>1</td>\n",
              "    </tr>\n",
              "    <tr>\n",
              "      <th>12314</th>\n",
              "      <td>laid foundation</td>\n",
              "      <td>0</td>\n",
              "    </tr>\n",
              "    <tr>\n",
              "      <th>12315</th>\n",
              "      <td>grand edifice support</td>\n",
              "      <td>1</td>\n",
              "    </tr>\n",
              "    <tr>\n",
              "      <th>12316</th>\n",
              "      <td>decisive leadership policy transparent integri...</td>\n",
              "      <td>1</td>\n",
              "    </tr>\n",
              "  </tbody>\n",
              "</table>\n",
              "<p>9065 rows × 2 columns</p>\n",
              "</div>"
            ],
            "text/plain": [
              "                                           Clean_english  sentiment_vadar\n",
              "0                                             rise Union                0\n",
              "1                          interim regular economy grave                0\n",
              "2                         Growth business sentiment weak                0\n",
              "3      economy capacity sustain high growth threat wi...                0\n",
              "5                        policy crisis eventually unfold                0\n",
              "...                                                  ...              ...\n",
              "12311        Development mass movement period Government                0\n",
              "12313         transform leading nation world help people                1\n",
              "12314                                    laid foundation                0\n",
              "12315                              grand edifice support                1\n",
              "12316  decisive leadership policy transparent integri...                1\n",
              "\n",
              "[9065 rows x 2 columns]"
            ]
          },
          "metadata": {
            "tags": []
          },
          "execution_count": 72
        }
      ]
    },
    {
      "cell_type": "code",
      "metadata": {
        "id": "_3UJvnacXBMI",
        "colab_type": "code",
        "colab": {
          "base_uri": "https://localhost:8080/",
          "height": 265
        },
        "outputId": "8fcf1cfb-37fa-42da-9a42-bbf41e9ef217"
      },
      "source": [
        "%matplotlib inline\n",
        "import matplotlib.pyplot as plt\n",
        "\n",
        "df_selected[\"sentiment_vadar\"].plot.hist()\n",
        "plt.show()"
      ],
      "execution_count": 79,
      "outputs": [
        {
          "output_type": "display_data",
          "data": {
            "image/png": "[encoded data removed]",
            "text/plain": [
              "<Figure size 432x288 with 1 Axes>"
            ]
          },
          "metadata": {
            "tags": [],
            "needs_background": "light"
          }
        }
      ]
    },
    {
      "cell_type": "code",
      "metadata": {
        "id": "QDRJqBgjHqJi",
        "colab_type": "code",
        "colab": {}
      },
      "source": [
        "from sklearn.model_selection import train_test_split\n",
        "\n",
        "# Input: \"reviewText\", \"rating\" and \"time\"\n",
        "# Target: \"log_votes\"\n",
        "X_train, X_val, y_train, y_val = train_test_split(df_selected[[\"Clean_english\"]],\n",
        "                                                  df_selected[\"sentiment_vadar\"].tolist(),\n",
        "                                                  test_size=0.10,\n",
        "                                                  shuffle=True\n",
        "                                                 )"
      ],
      "execution_count": 0,
      "outputs": []
    },
    {
      "cell_type": "code",
      "metadata": {
        "id": "CdZX4iWtTAdX",
        "colab_type": "code",
        "colab": {}
      },
      "source": [
        "from sklearn.feature_extraction.text import CountVectorizer, TfidfVectorizer\n",
        "\n",
        "# Initialize the binary count vectorizer\n",
        "tfidf_vectorizer = CountVectorizer(binary=True,\n",
        "                                   max_features=50    # Limit the vocabulary size\n",
        "                                  )\n",
        "# Fit and transform\n",
        "X_train_text_vectors = tfidf_vectorizer.fit_transform(X_train[\"Clean_english\"].tolist())\n",
        "# Only transform\n",
        "X_val_text_vectors = tfidf_vectorizer.transform(X_val[\"Clean_english\"].tolist())"
      ],
      "execution_count": 0,
      "outputs": []
    },
    {
      "cell_type": "code",
      "metadata": {
        "id": "op-l8OouTIoM",
        "colab_type": "code",
        "colab": {
          "base_uri": "https://localhost:8080/",
          "height": 53
        },
        "outputId": "d8eade27-02d3-4627-da25-0d95594b0d6f"
      },
      "source": [
        "print(tfidf_vectorizer.vocabulary_)"
      ],
      "execution_count": 82,
      "outputs": [
        {
          "output_type": "stream",
          "text": [
            "{'scheme': 43, 'additional': 0, 'system': 48, 'foreign': 20, 'propose': 38, 'crore': 7, 'current': 8, 'cent': 3, 'rate': 41, 'plan': 36, 'exemption': 16, 'education': 14, 'development': 11, 'government': 23, 'set': 47, 'sector': 45, 'policy': 37, 'public': 40, 'expenditure': 17, 'people': 35, 'growth': 24, 'tax': 49, 'rural': 42, 'service': 46, 'economy': 13, 'investment': 30, 'country': 5, 'provide': 39, 'capital': 2, 'duty': 12, 'increase': 28, 'order': 34, 'infrastructure': 29, 'income': 27, 'higher': 26, 'credit': 6, 'central': 4, 'basic': 1, 'excise': 15, 'national': 31, 'financial': 18, 'deduction': 10, 'fiscal': 19, 'custom': 9, 'number': 33, 'health': 25, 'section': 44, 'good': 22, 'need': 32, 'fund': 21}\n"
          ],
          "name": "stdout"
        }
      ]
    },
    {
      "cell_type": "code",
      "metadata": {
        "id": "C_6TL0ZDTTWQ",
        "colab_type": "code",
        "colab": {
          "base_uri": "https://localhost:8080/",
          "height": 33
        },
        "outputId": "ed869c9e-3ddc-4308-ce8b-22748ffc163f"
      },
      "source": [
        "from sklearn.linear_model import LogisticRegression\n",
        "from sklearn.metrics import classification_report, confusion_matrix\n",
        "from sklearn.metrics import make_scorer, accuracy_score, f1_score\n",
        "# To improve the performance of LogisticRegression we can tune its parameters, for example:\n",
        "# * regularization type: penalty = {l1, l2, elasticnet}\n",
        "# * regularization strength: C = {smaller values specify stronger regularization} \n",
        "#    !!! LogisticRegression regularized cost function: C*Cost(w) + penalty(w), \n",
        "# where w is the weights vector !!!\n",
        "# * addressing class imbalance: \n",
        "# class_weight = {balanced or {class label:weight, class label:weight}, ...}\n",
        "lrClassifier = LogisticRegression(penalty = 'l2',\n",
        "                                  C = 0.1,\n",
        "                                  class_weight = 'balanced')\n",
        "lrClassifier.fit(X_train_text_vectors, y_train)\n",
        "lrClassifier_val_predictions = lrClassifier.predict(X_val_text_vectors)\n",
        " \n",
        "print(\"LogisticRegression on Validation: Accuracy Score: %f, F1-score: %f\" % \\\n",
        "      (accuracy_score(y_val, lrClassifier_val_predictions), f1_score(y_val, lrClassifier_val_predictions)))"
      ],
      "execution_count": 84,
      "outputs": [
        {
          "output_type": "stream",
          "text": [
            "LogisticRegression on Validation: Accuracy Score: 0.656009, F1-score: 0.543860\n"
          ],
          "name": "stdout"
        }
      ]
    },
    {
      "cell_type": "code",
      "metadata": {
        "id": "Zo9dgzbVXyKw",
        "colab_type": "code",
        "colab": {}
      },
      "source": [
        "%matplotlib inline \n",
        "import matplotlib.pyplot as plt\n",
        "from sklearn.metrics import precision_recall_curve\n",
        " \n",
        "# Calculate the precision and recall using different values for the classification threshold\n",
        "val_predictions_probs = lrClassifier.predict_proba(X_val_text_vectors)\n",
        "precisions, recalls, thresholds = precision_recall_curve(y_val, val_predictions_probs[:, 1])"
      ],
      "execution_count": 0,
      "outputs": []
    },
    {
      "cell_type": "code",
      "metadata": {
        "id": "yKIZklgXZIGd",
        "colab_type": "code",
        "colab": {
          "base_uri": "https://localhost:8080/",
          "height": 316
        },
        "outputId": "0a85552e-b51a-4953-9e6b-ebe7a23bc6d7"
      },
      "source": [
        "%matplotlib inline \n",
        "import numpy as np\n",
        "import matplotlib.pyplot as plt\n",
        "# Calculate the F1 score using different values for the classification threshold, \n",
        "# and pick the threshold that resulted in the highest F1 score.\n",
        "highest_f1 = 0\n",
        "threshold_highest_f1 = 0\n",
        "f1_scores = []\n",
        "for id, threshold in enumerate(thresholds):\n",
        "\n",
        "    f1_score = 2*precisions[id]*recalls[id]/(precisions[id]+recalls[id])\n",
        "    f1_scores.append(f1_score)\n",
        "    if(f1_score > highest_f1):\n",
        "        highest_f1 = f1_score\n",
        "        threshold_highest_f1 = threshold\n",
        "print(\"Highest F1 score on Validation:\", highest_f1, \\\n",
        "      \", Threshold for the highest F1 score:\", threshold_highest_f1)\n",
        "# Let's plot the F1 score versus different choices of thresholds\n",
        "plt.plot([0.5, 0.5], [np.min(f1_scores), np.max(f1_scores)], linestyle='--')\n",
        "plt.plot(thresholds, f1_scores, marker='.')\n",
        "plt.title('F1 Score versus different choices of thresholds')\n",
        "plt.xlabel('Threshold')\n",
        "plt.ylabel('F1 Score')\n",
        "plt.show()"
      ],
      "execution_count": 86,
      "outputs": [
        {
          "output_type": "stream",
          "text": [
            "Highest F1 score on Validation: 0.6130081300813008 , Threshold for the highest F1 score: 0.37092966705695507\n"
          ],
          "name": "stdout"
        },
        {
          "output_type": "display_data",
          "data": {
            "image/png": "[encoded data removed]",
            "text/plain": [
              "<Figure size 432x288 with 1 Axes>"
            ]
          },
          "metadata": {
            "tags": [],
            "needs_background": "light"
          }
        }
      ]
    },
    {
      "cell_type": "markdown",
      "metadata": {
        "id": "rPeqdonsZkBR",
        "colab_type": "text"
      },
      "source": [
        "# K Nearest Neighbors Model"
      ]
    },
    {
      "cell_type": "code",
      "metadata": {
        "id": "25OvZ4EcZJ9l",
        "colab_type": "code",
        "colab": {}
      },
      "source": [
        "#Let's get our binary vectors for the text field\n",
        "\n",
        "from sklearn.feature_extraction.text import CountVectorizer, TfidfVectorizer\n",
        " \n",
        "# Initialize the binary count vectorizer\n",
        "tfidf_vectorizer = CountVectorizer(binary=True,\n",
        "                                   max_features=200    # Limit the vocabulary size\n",
        "                                  )\n",
        "# Fit and transform\n",
        "X_train_text_vectors = tfidf_vectorizer.fit_transform(X_train[\"Clean_english\"].tolist())\n",
        "# Only transform\n",
        "X_val_text_vectors = tfidf_vectorizer.transform(X_val[\"Clean_english\"].tolist())"
      ],
      "execution_count": 0,
      "outputs": []
    },
    {
      "cell_type": "code",
      "metadata": {
        "id": "G0suBCrBZu_8",
        "colab_type": "code",
        "colab": {
          "base_uri": "https://localhost:8080/",
          "height": 53
        },
        "outputId": "401a57f8-a959-4852-af25-5e732584d6aa"
      },
      "source": [
        "print(tfidf_vectorizer.vocabulary_)"
      ],
      "execution_count": 88,
      "outputs": [
        {
          "output_type": "stream",
          "text": [
            "{'scheme': 164, 'encourage': 60, 'energy': 62, 'additional': 3, 'major': 113, 'include': 94, 'use': 191, 'technology': 186, 'system': 181, 'foreign': 77, 'level': 108, 'propose': 148, 'crore': 41, 'current': 42, 'coal': 28, 'power': 141, 'come': 29, 'cent': 24, 'effective': 57, 'rate': 155, 'making': 114, 'plan': 138, 'exemption': 68, 'limit': 111, 'education': 55, 'promote': 147, 'development': 48, 'sum': 179, 'purpose': 153, 'gain': 80, 'government': 83, 'set': 170, 'create': 38, 'sector': 166, 'policy': 139, 'providing': 150, 'banking': 12, 'public': 152, 'expenditure': 69, 'people': 134, 'creation': 39, 'economic': 53, 'growth': 85, 'net': 127, 'tax': 184, 'revenue': 161, 'rural': 163, 'digital': 49, 'employment': 58, 'value': 192, 'service': 169, 'place': 137, 'oil': 130, 'economy': 54, 'investment': 106, 'market': 118, 'world': 198, 'asset': 9, 'country': 37, 'taxation': 185, 'ministry': 121, 'provide': 149, 'information': 100, 'amend': 8, 'certain': 26, 'company': 32, 'start': 176, 'micro': 120, 'water': 194, 'management': 115, 'capital': 21, 'inflation': 99, 'total': 188, 'duty': 52, 'increase': 96, 'way': 195, 'percent': 135, 'benefit': 16, 'large': 107, 'order': 131, 'infrastructure': 101, 'income': 95, 'higher': 89, 'class': 27, 'domestic': 51, 'bring': 18, 'international': 105, 'bill': 17, 'view': 193, 'global': 81, 'initiative': 102, 'available': 10, 'facility': 72, 'agricultural': 5, 'credit': 40, 'central': 25, 'housing': 90, 'nil': 128, 'reduced': 157, 'cost': 36, 'process': 144, 'small': 173, 'addition': 2, 'greater': 84, 'medium': 119, 'payment': 132, 'basic': 14, 'excise': 66, 'cash': 23, 'skill': 172, 'taken': 182, 'interest': 104, 'levy': 109, 'national': 124, 'pension': 133, 'yojana': 199, 'period': 136, 'term': 187, 'price': 142, 'support': 180, 'extend': 70, 'state': 177, 'capacity': 20, 'case': 22, 'manufacture': 116, 'subject': 178, 'help': 87, 'financial': 73, 'private': 143, 'construction': 34, 'march': 117, 'deduction': 45, 'fiscal': 74, 'deficit': 46, 'focus': 75, 'exempt': 67, 'custom': 43, 'work': 197, 'production': 145, 'number': 129, 'department': 47, 'poor': 140, 'health': 86, 'mission': 122, 'allocation': 7, 'ensure': 64, 'high': 88, 'respect': 159, 'transport': 190, 'access': 0, 'free': 78, 'transfer': 189, 'address': 4, 'section': 165, 'return': 160, 'special': 175, 'business': 19, 'reduce': 156, 'based': 13, 'quality': 154, 'extended': 71, 'good': 82, 'need': 126, 'fund': 79, 'be': 15, 'project': 146, 'money': 123, 'welfare': 196, 'setting': 171, 'enhance': 63, 'important': 92, 'effect': 56, 'life': 110, 'relief': 158, 'bank': 11, 'industry': 98, 'road': 162, 'end': 61, 'security': 167, 'direct': 50, 'long': 112, 'improve': 93, 'agriculture': 6, 'social': 174, 'implementation': 91, 'account': 1, 'provision': 151, 'concessional': 33, 'food': 76, 'target': 183, 'customs': 44, 'enable': 59, 'commission': 30, 'self': 168, 'indirect': 97, 'continue': 35, 'equity': 65, 'necessary': 125, 'committee': 31, 'insurance': 103}\n"
          ],
          "name": "stdout"
        }
      ]
    },
    {
      "cell_type": "code",
      "metadata": {
        "id": "BFRWeCNYZwKB",
        "colab_type": "code",
        "colab": {}
      },
      "source": [
        "import numpy as np\n",
        "from sklearn.neighbors import KNeighborsClassifier\n",
        "from sklearn.metrics import f1_score"
      ],
      "execution_count": 0,
      "outputs": []
    },
    {
      "cell_type": "code",
      "metadata": {
        "id": "f40QPrbuZxes",
        "colab_type": "code",
        "colab": {
          "base_uri": "https://localhost:8080/",
          "height": 100
        },
        "outputId": "6d59720c-a7e1-45a9-951e-fdca5ea74fa0"
      },
      "source": [
        "K_values = [3, 5, 10, 20, 30]\n",
        " \n",
        "for K in K_values:\n",
        "    knnClassifier = KNeighborsClassifier(n_neighbors=K)\n",
        "    knnClassifier.fit(X_train_text_vectors, y_train)\n",
        "    val_predictions = knnClassifier.predict(X_val_text_vectors)\n",
        "    print(\"F1 Score for K:\", K, \"is\", f1_score(y_val, val_predictions))"
      ],
      "execution_count": 93,
      "outputs": [
        {
          "output_type": "stream",
          "text": [
            "F1 Score for K: 3 is 0.5582922824302134\n",
            "F1 Score for K: 5 is 0.5304054054054054\n",
            "F1 Score for K: 10 is 0.4499054820415879\n",
            "F1 Score for K: 20 is 0.3445378151260504\n",
            "F1 Score for K: 30 is 0.2975929978118162\n"
          ],
          "name": "stdout"
        }
      ]
    },
    {
      "cell_type": "code",
      "metadata": {
        "id": "nlLnkcLuaRWr",
        "colab_type": "code",
        "colab": {}
      },
      "source": [
        ""
      ],
      "execution_count": 0,
      "outputs": []
    }
  ]
}