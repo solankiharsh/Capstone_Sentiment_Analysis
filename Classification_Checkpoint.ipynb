{
  "nbformat": 4,
  "nbformat_minor": 0,
  "metadata": {
    "colab": {
      "name": "Classification_Checkpoint.ipynb",
      "provenance": [],
      "mount_file_id": "1vanpOgVkLvhJjoZtRicFNnJxjRiv9PTv",
      "authorship_tag": "ABX9TyOF2z3eSgCbJdTNI6bFuqax",
      "include_colab_link": true
    },
    "kernelspec": {
      "name": "python3",
      "display_name": "Python 3"
    },
    "accelerator": "GPU"
  },
  "cells": [
    {
      "cell_type": "markdown",
      "metadata": {
        "id": "view-in-github",
        "colab_type": "text"
      },
      "source": [
        "<a href=\"https://colab.research.google.com/github/solharsh/Capstone_Sentiment_Analysis/blob/master/Classification_Checkpoint.ipynb\" target=\"_parent\"><img src=\"https://colab.research.google.com/assets/colab-badge.svg\" alt=\"Open In Colab\"/></a>"
      ]
    },
    {
      "cell_type": "code",
      "metadata": {
        "id": "wPH92TWR5s3o",
        "colab_type": "code",
        "colab": {
          "base_uri": "https://localhost:8080/",
          "height": 67
        },
        "outputId": "ef62ece4-fd8c-482e-8567-c07299b34798"
      },
      "source": [
        "import nltk\n",
        "nltk.download('stopwords')"
      ],
      "execution_count": 4,
      "outputs": [
        {
          "output_type": "stream",
          "text": [
            "[nltk_data] Downloading package stopwords to /root/nltk_data...\n",
            "[nltk_data]   Package stopwords is already up-to-date!\n"
          ],
          "name": "stdout"
        },
        {
          "output_type": "execute_result",
          "data": {
            "text/plain": [
              "True"
            ]
          },
          "metadata": {
            "tags": []
          },
          "execution_count": 4
        }
      ]
    },
    {
      "cell_type": "code",
      "metadata": {
        "id": "grjdoY1c3giZ",
        "colab_type": "code",
        "colab": {
          "base_uri": "https://localhost:8080/",
          "height": 33
        },
        "outputId": "f56b4846-9e77-4551-f5a1-6fdadcaa3e5d"
      },
      "source": [
        "import numpy as np\n",
        "import pandas as pd\n",
        "import tensorflow as tf\n",
        "from tensorflow.keras.layers import Dense, Input\n",
        "from tensorflow.keras.optimizers import Adam\n",
        "from tensorflow.keras.models import Model\n",
        "from tensorflow.keras.callbacks import ModelCheckpoint\n",
        "import tensorflow_hub as hub\n",
        "#import tokenization\n",
        "import seaborn as sns\n",
        "import matplotlib.pyplot as plt\n",
        "import re\n",
        "\n",
        "import pandas as pd\n",
        "import matplotlib.pyplot as plt\n",
        "import seaborn as sns\n",
        "import numpy as np\n",
        "from nltk.corpus import stopwords\n",
        "from nltk.util import ngrams\n",
        "from sklearn.feature_extraction.text import CountVectorizer\n",
        "from collections import defaultdict\n",
        "from collections import  Counter\n",
        "plt.style.use('ggplot')\n",
        "stop=set(stopwords.words('english'))\n",
        "import re\n",
        "from nltk.tokenize import word_tokenize\n",
        "import gensim\n",
        "import string\n",
        "from keras.preprocessing.text import Tokenizer\n",
        "from keras.preprocessing.sequence import pad_sequences\n",
        "from tqdm import tqdm\n",
        "from keras.models import Sequential\n",
        "from keras.layers import Embedding,LSTM,Dense,SpatialDropout1D\n",
        "from keras.initializers import Constant\n",
        "from sklearn.model_selection import train_test_split\n",
        "from keras.optimizers import Adam"
      ],
      "execution_count": 5,
      "outputs": [
        {
          "output_type": "stream",
          "text": [
            "Using TensorFlow backend.\n"
          ],
          "name": "stderr"
        }
      ]
    },
    {
      "cell_type": "code",
      "metadata": {
        "id": "wB2cWEp33ovG",
        "colab_type": "code",
        "colab": {}
      },
      "source": [
        "import pickle\n",
        "DATA_PATH = \"/content/drive/My Drive/Capstone Project - NLP\"\n",
        "infile = open(DATA_PATH+'/df.pkl','rb')\n",
        "df = pickle.load(infile)"
      ],
      "execution_count": 0,
      "outputs": []
    },
    {
      "cell_type": "code",
      "metadata": {
        "id": "dGW7B28K6JcO",
        "colab_type": "code",
        "colab": {
          "base_uri": "https://localhost:8080/",
          "height": 281
        },
        "outputId": "f1737d93-6cea-46f2-bbd5-a92937b22d55"
      },
      "source": [
        "df.head()"
      ],
      "execution_count": 29,
      "outputs": [
        {
          "output_type": "execute_result",
          "data": {
            "text/html": [
              "<div>\n",
              "<style scoped>\n",
              "    .dataframe tbody tr th:only-of-type {\n",
              "        vertical-align: middle;\n",
              "    }\n",
              "\n",
              "    .dataframe tbody tr th {\n",
              "        vertical-align: top;\n",
              "    }\n",
              "\n",
              "    .dataframe thead th {\n",
              "        text-align: right;\n",
              "    }\n",
              "</style>\n",
              "<table border=\"1\" class=\"dataframe\">\n",
              "  <thead>\n",
              "    <tr style=\"text-align: right;\">\n",
              "      <th></th>\n",
              "      <th>Name</th>\n",
              "      <th>Date</th>\n",
              "      <th>Speech</th>\n",
              "      <th>Clean</th>\n",
              "      <th>Clean_english</th>\n",
              "    </tr>\n",
              "  </thead>\n",
              "  <tbody>\n",
              "    <tr>\n",
              "      <th>0</th>\n",
              "      <td>Pranab Mukherjee</td>\n",
              "      <td>February  26,  2010</td>\n",
              "      <td>Budget  2010-2011 Speech  ofPranab MukherjeeMi...</td>\n",
              "      <td>rise Union</td>\n",
              "      <td>rise Union</td>\n",
              "    </tr>\n",
              "    <tr>\n",
              "      <th>1</th>\n",
              "      <td>Pranab Mukherjee</td>\n",
              "      <td>February  26,  2010</td>\n",
              "      <td>In 2009, when I presented the interim Budg...</td>\n",
              "      <td>interim regular economy grave uncertainties</td>\n",
              "      <td>interim regular economy grave</td>\n",
              "    </tr>\n",
              "    <tr>\n",
              "      <th>2</th>\n",
              "      <td>Pranab Mukherjee</td>\n",
              "      <td>February  26,  2010</td>\n",
              "      <td>Growth had started decelerating and the busin...</td>\n",
              "      <td>Growth started decelerating business sentiment...</td>\n",
              "      <td>Growth business sentiment weak</td>\n",
              "    </tr>\n",
              "    <tr>\n",
              "      <th>3</th>\n",
              "      <td>Pranab Mukherjee</td>\n",
              "      <td>February  26,  2010</td>\n",
              "      <td>The economy's capacity to sustain high growth...</td>\n",
              "      <td>economy capacity sustain high growth threat wi...</td>\n",
              "      <td>economy capacity sustain high growth threat wi...</td>\n",
              "    </tr>\n",
              "    <tr>\n",
              "      <th>5</th>\n",
              "      <td>Pranab Mukherjee</td>\n",
              "      <td>February  26,  2010</td>\n",
              "      <td>It was not clear to us, as also to the polic...</td>\n",
              "      <td>policy makers countries crisis eventually unfold</td>\n",
              "      <td>policy crisis eventually unfold</td>\n",
              "    </tr>\n",
              "  </tbody>\n",
              "</table>\n",
              "</div>"
            ],
            "text/plain": [
              "               Name  ...                                      Clean_english\n",
              "0  Pranab Mukherjee  ...                                         rise Union\n",
              "1  Pranab Mukherjee  ...                      interim regular economy grave\n",
              "2  Pranab Mukherjee  ...                     Growth business sentiment weak\n",
              "3  Pranab Mukherjee  ...  economy capacity sustain high growth threat wi...\n",
              "5  Pranab Mukherjee  ...                    policy crisis eventually unfold\n",
              "\n",
              "[5 rows x 5 columns]"
            ]
          },
          "metadata": {
            "tags": []
          },
          "execution_count": 29
        }
      ]
    },
    {
      "cell_type": "code",
      "metadata": {
        "id": "DFae7Y_T8rMS",
        "colab_type": "code",
        "colab": {
          "base_uri": "https://localhost:8080/",
          "height": 203
        },
        "outputId": "8c9b17f1-7d45-4bf9-d230-fe32e26d5dab"
      },
      "source": [
        "pip install vaderSentiment"
      ],
      "execution_count": 30,
      "outputs": [
        {
          "output_type": "stream",
          "text": [
            "Collecting vaderSentiment\n",
            "\u001b[?25l  Downloading https://files.pythonhosted.org/packages/76/fc/310e16254683c1ed35eeb97386986d6c00bc29df17ce280aed64d55537e9/vaderSentiment-3.3.2-py2.py3-none-any.whl (125kB)\n",
            "\r\u001b[K     |██▋                             | 10kB 25.3MB/s eta 0:00:01\r\u001b[K     |█████▏                          | 20kB 5.7MB/s eta 0:00:01\r\u001b[K     |███████▉                        | 30kB 6.9MB/s eta 0:00:01\r\u001b[K     |██████████▍                     | 40kB 7.5MB/s eta 0:00:01\r\u001b[K     |█████████████                   | 51kB 6.5MB/s eta 0:00:01\r\u001b[K     |███████████████▋                | 61kB 7.7MB/s eta 0:00:01\r\u001b[K     |██████████████████▏             | 71kB 8.1MB/s eta 0:00:01\r\u001b[K     |████████████████████▉           | 81kB 8.4MB/s eta 0:00:01\r\u001b[K     |███████████████████████▍        | 92kB 8.6MB/s eta 0:00:01\r\u001b[K     |██████████████████████████      | 102kB 8.3MB/s eta 0:00:01\r\u001b[K     |████████████████████████████▋   | 112kB 8.3MB/s eta 0:00:01\r\u001b[K     |███████████████████████████████▏| 122kB 8.3MB/s eta 0:00:01\r\u001b[K     |████████████████████████████████| 133kB 8.3MB/s \n",
            "\u001b[?25hRequirement already satisfied: requests in /usr/local/lib/python3.6/dist-packages (from vaderSentiment) (2.23.0)\n",
            "Requirement already satisfied: urllib3!=1.25.0,!=1.25.1,<1.26,>=1.21.1 in /usr/local/lib/python3.6/dist-packages (from requests->vaderSentiment) (1.24.3)\n",
            "Requirement already satisfied: idna<3,>=2.5 in /usr/local/lib/python3.6/dist-packages (from requests->vaderSentiment) (2.9)\n",
            "Requirement already satisfied: certifi>=2017.4.17 in /usr/local/lib/python3.6/dist-packages (from requests->vaderSentiment) (2020.4.5.1)\n",
            "Requirement already satisfied: chardet<4,>=3.0.2 in /usr/local/lib/python3.6/dist-packages (from requests->vaderSentiment) (3.0.4)\n",
            "Installing collected packages: vaderSentiment\n",
            "Successfully installed vaderSentiment-3.3.2\n"
          ],
          "name": "stdout"
        }
      ]
    },
    {
      "cell_type": "code",
      "metadata": {
        "id": "vsbW3B7U8wxY",
        "colab_type": "code",
        "colab": {}
      },
      "source": [
        "from vaderSentiment.vaderSentiment import SentimentIntensityAnalyzer\n",
        "analyser = SentimentIntensityAnalyzer()\n",
        "\n",
        "sentiment=[]\n",
        "for sentence in df.Clean_english:\n",
        "  sentiment.append(analyser.polarity_scores(sentence)['compound'])\n",
        "\n",
        "df['sentiment_vadar']=sentiment"
      ],
      "execution_count": 0,
      "outputs": []
    },
    {
      "cell_type": "code",
      "metadata": {
        "id": "CHqCPVWW8z0Q",
        "colab_type": "code",
        "colab": {
          "base_uri": "https://localhost:8080/",
          "height": 573
        },
        "outputId": "7790bb3e-7ad5-432e-8755-ffeff8acdaa5"
      },
      "source": [
        "df"
      ],
      "execution_count": 32,
      "outputs": [
        {
          "output_type": "execute_result",
          "data": {
            "text/html": [
              "<div>\n",
              "<style scoped>\n",
              "    .dataframe tbody tr th:only-of-type {\n",
              "        vertical-align: middle;\n",
              "    }\n",
              "\n",
              "    .dataframe tbody tr th {\n",
              "        vertical-align: top;\n",
              "    }\n",
              "\n",
              "    .dataframe thead th {\n",
              "        text-align: right;\n",
              "    }\n",
              "</style>\n",
              "<table border=\"1\" class=\"dataframe\">\n",
              "  <thead>\n",
              "    <tr style=\"text-align: right;\">\n",
              "      <th></th>\n",
              "      <th>Name</th>\n",
              "      <th>Date</th>\n",
              "      <th>Speech</th>\n",
              "      <th>Clean</th>\n",
              "      <th>Clean_english</th>\n",
              "      <th>sentiment_vadar</th>\n",
              "    </tr>\n",
              "  </thead>\n",
              "  <tbody>\n",
              "    <tr>\n",
              "      <th>0</th>\n",
              "      <td>Pranab Mukherjee</td>\n",
              "      <td>February  26,  2010</td>\n",
              "      <td>Budget  2010-2011 Speech  ofPranab MukherjeeMi...</td>\n",
              "      <td>rise Union</td>\n",
              "      <td>rise Union</td>\n",
              "      <td>0.0000</td>\n",
              "    </tr>\n",
              "    <tr>\n",
              "      <th>1</th>\n",
              "      <td>Pranab Mukherjee</td>\n",
              "      <td>February  26,  2010</td>\n",
              "      <td>In 2009, when I presented the interim Budg...</td>\n",
              "      <td>interim regular economy grave uncertainties</td>\n",
              "      <td>interim regular economy grave</td>\n",
              "      <td>-0.3818</td>\n",
              "    </tr>\n",
              "    <tr>\n",
              "      <th>2</th>\n",
              "      <td>Pranab Mukherjee</td>\n",
              "      <td>February  26,  2010</td>\n",
              "      <td>Growth had started decelerating and the busin...</td>\n",
              "      <td>Growth started decelerating business sentiment...</td>\n",
              "      <td>Growth business sentiment weak</td>\n",
              "      <td>-0.0772</td>\n",
              "    </tr>\n",
              "    <tr>\n",
              "      <th>3</th>\n",
              "      <td>Pranab Mukherjee</td>\n",
              "      <td>February  26,  2010</td>\n",
              "      <td>The economy's capacity to sustain high growth...</td>\n",
              "      <td>economy capacity sustain high growth threat wi...</td>\n",
              "      <td>economy capacity sustain high growth threat wi...</td>\n",
              "      <td>-0.2023</td>\n",
              "    </tr>\n",
              "    <tr>\n",
              "      <th>5</th>\n",
              "      <td>Pranab Mukherjee</td>\n",
              "      <td>February  26,  2010</td>\n",
              "      <td>It was not clear to us, as also to the polic...</td>\n",
              "      <td>policy makers countries crisis eventually unfold</td>\n",
              "      <td>policy crisis eventually unfold</td>\n",
              "      <td>-0.6249</td>\n",
              "    </tr>\n",
              "    <tr>\n",
              "      <th>...</th>\n",
              "      <td>...</td>\n",
              "      <td>...</td>\n",
              "      <td>...</td>\n",
              "      <td>...</td>\n",
              "      <td>...</td>\n",
              "      <td>...</td>\n",
              "    </tr>\n",
              "    <tr>\n",
              "      <th>12311</th>\n",
              "      <td>Piyush Goyal</td>\n",
              "      <td>February 1, 2019</td>\n",
              "      <td>Development has become a mass-movement during...</td>\n",
              "      <td>Development mass movement period Government</td>\n",
              "      <td>Development mass movement period Government</td>\n",
              "      <td>0.0000</td>\n",
              "    </tr>\n",
              "    <tr>\n",
              "      <th>12313</th>\n",
              "      <td>Piyush Goyal</td>\n",
              "      <td>February 1, 2019</td>\n",
              "      <td>We will transform India into a leading nation...</td>\n",
              "      <td>transform leading nation world help people</td>\n",
              "      <td>transform leading nation world help people</td>\n",
              "      <td>0.4019</td>\n",
              "    </tr>\n",
              "    <tr>\n",
              "      <th>12314</th>\n",
              "      <td>Piyush Goyal</td>\n",
              "      <td>February 1, 2019</td>\n",
              "      <td>We, along with them have laid the foundation</td>\n",
              "      <td>laid foundation</td>\n",
              "      <td>laid foundation</td>\n",
              "      <td>0.0000</td>\n",
              "    </tr>\n",
              "    <tr>\n",
              "      <th>12315</th>\n",
              "      <td>Piyush Goyal</td>\n",
              "      <td>February 1, 2019</td>\n",
              "      <td>A grand edifice will be erected with their su...</td>\n",
              "      <td>grand edifice erected support</td>\n",
              "      <td>grand edifice support</td>\n",
              "      <td>0.6908</td>\n",
              "    </tr>\n",
              "    <tr>\n",
              "      <th>12316</th>\n",
              "      <td>Piyush Goyal</td>\n",
              "      <td>February 1, 2019</td>\n",
              "      <td>We have given a decisive leadership, whose in...</td>\n",
              "      <td>decisive leadership policy transparent integri...</td>\n",
              "      <td>decisive leadership policy transparent integri...</td>\n",
              "      <td>0.6808</td>\n",
              "    </tr>\n",
              "  </tbody>\n",
              "</table>\n",
              "<p>9065 rows × 6 columns</p>\n",
              "</div>"
            ],
            "text/plain": [
              "                   Name  ... sentiment_vadar\n",
              "0      Pranab Mukherjee  ...          0.0000\n",
              "1      Pranab Mukherjee  ...         -0.3818\n",
              "2      Pranab Mukherjee  ...         -0.0772\n",
              "3      Pranab Mukherjee  ...         -0.2023\n",
              "5      Pranab Mukherjee  ...         -0.6249\n",
              "...                 ...  ...             ...\n",
              "12311     Piyush Goyal   ...          0.0000\n",
              "12313     Piyush Goyal   ...          0.4019\n",
              "12314     Piyush Goyal   ...          0.0000\n",
              "12315     Piyush Goyal   ...          0.6908\n",
              "12316     Piyush Goyal   ...          0.6808\n",
              "\n",
              "[9065 rows x 6 columns]"
            ]
          },
          "metadata": {
            "tags": []
          },
          "execution_count": 32
        }
      ]
    },
    {
      "cell_type": "markdown",
      "metadata": {
        "id": "3wu0aZiH9b7v",
        "colab_type": "text"
      },
      "source": [
        "# Classification"
      ]
    },
    {
      "cell_type": "code",
      "metadata": {
        "id": "5LX-VY8y8-Ci",
        "colab_type": "code",
        "colab": {}
      },
      "source": [
        "df_selected = df[['Clean_english','sentiment_vadar']]"
      ],
      "execution_count": 0,
      "outputs": []
    },
    {
      "cell_type": "code",
      "metadata": {
        "id": "IidemnzQ9AOY",
        "colab_type": "code",
        "colab": {
          "base_uri": "https://localhost:8080/",
          "height": 407
        },
        "outputId": "072ee4fa-96c5-4553-e711-22e411df97c5"
      },
      "source": [
        "df_selected"
      ],
      "execution_count": 34,
      "outputs": [
        {
          "output_type": "execute_result",
          "data": {
            "text/html": [
              "<div>\n",
              "<style scoped>\n",
              "    .dataframe tbody tr th:only-of-type {\n",
              "        vertical-align: middle;\n",
              "    }\n",
              "\n",
              "    .dataframe tbody tr th {\n",
              "        vertical-align: top;\n",
              "    }\n",
              "\n",
              "    .dataframe thead th {\n",
              "        text-align: right;\n",
              "    }\n",
              "</style>\n",
              "<table border=\"1\" class=\"dataframe\">\n",
              "  <thead>\n",
              "    <tr style=\"text-align: right;\">\n",
              "      <th></th>\n",
              "      <th>Clean_english</th>\n",
              "      <th>sentiment_vadar</th>\n",
              "    </tr>\n",
              "  </thead>\n",
              "  <tbody>\n",
              "    <tr>\n",
              "      <th>0</th>\n",
              "      <td>rise Union</td>\n",
              "      <td>0.0000</td>\n",
              "    </tr>\n",
              "    <tr>\n",
              "      <th>1</th>\n",
              "      <td>interim regular economy grave</td>\n",
              "      <td>-0.3818</td>\n",
              "    </tr>\n",
              "    <tr>\n",
              "      <th>2</th>\n",
              "      <td>Growth business sentiment weak</td>\n",
              "      <td>-0.0772</td>\n",
              "    </tr>\n",
              "    <tr>\n",
              "      <th>3</th>\n",
              "      <td>economy capacity sustain high growth threat wi...</td>\n",
              "      <td>-0.2023</td>\n",
              "    </tr>\n",
              "    <tr>\n",
              "      <th>5</th>\n",
              "      <td>policy crisis eventually unfold</td>\n",
              "      <td>-0.6249</td>\n",
              "    </tr>\n",
              "    <tr>\n",
              "      <th>...</th>\n",
              "      <td>...</td>\n",
              "      <td>...</td>\n",
              "    </tr>\n",
              "    <tr>\n",
              "      <th>12311</th>\n",
              "      <td>Development mass movement period Government</td>\n",
              "      <td>0.0000</td>\n",
              "    </tr>\n",
              "    <tr>\n",
              "      <th>12313</th>\n",
              "      <td>transform leading nation world help people</td>\n",
              "      <td>0.4019</td>\n",
              "    </tr>\n",
              "    <tr>\n",
              "      <th>12314</th>\n",
              "      <td>laid foundation</td>\n",
              "      <td>0.0000</td>\n",
              "    </tr>\n",
              "    <tr>\n",
              "      <th>12315</th>\n",
              "      <td>grand edifice support</td>\n",
              "      <td>0.6908</td>\n",
              "    </tr>\n",
              "    <tr>\n",
              "      <th>12316</th>\n",
              "      <td>decisive leadership policy transparent integri...</td>\n",
              "      <td>0.6808</td>\n",
              "    </tr>\n",
              "  </tbody>\n",
              "</table>\n",
              "<p>9065 rows × 2 columns</p>\n",
              "</div>"
            ],
            "text/plain": [
              "                                           Clean_english  sentiment_vadar\n",
              "0                                             rise Union           0.0000\n",
              "1                          interim regular economy grave          -0.3818\n",
              "2                         Growth business sentiment weak          -0.0772\n",
              "3      economy capacity sustain high growth threat wi...          -0.2023\n",
              "5                        policy crisis eventually unfold          -0.6249\n",
              "...                                                  ...              ...\n",
              "12311        Development mass movement period Government           0.0000\n",
              "12313         transform leading nation world help people           0.4019\n",
              "12314                                    laid foundation           0.0000\n",
              "12315                              grand edifice support           0.6908\n",
              "12316  decisive leadership policy transparent integri...           0.6808\n",
              "\n",
              "[9065 rows x 2 columns]"
            ]
          },
          "metadata": {
            "tags": []
          },
          "execution_count": 34
        }
      ]
    },
    {
      "cell_type": "code",
      "metadata": {
        "id": "B5fUPKy49ob0",
        "colab_type": "code",
        "colab": {
          "base_uri": "https://localhost:8080/",
          "height": 117
        },
        "outputId": "4797b396-b73c-4d8e-93ed-b3513ae64582"
      },
      "source": [
        "df_selected[\"sentiment_vadar\"] = df_selected[\"sentiment_vadar\"].apply(lambda x: 1 if x > 0 else 0)"
      ],
      "execution_count": 35,
      "outputs": [
        {
          "output_type": "stream",
          "text": [
            "/usr/local/lib/python3.6/dist-packages/ipykernel_launcher.py:1: SettingWithCopyWarning: \n",
            "A value is trying to be set on a copy of a slice from a DataFrame.\n",
            "Try using .loc[row_indexer,col_indexer] = value instead\n",
            "\n",
            "See the caveats in the documentation: https://pandas.pydata.org/pandas-docs/stable/user_guide/indexing.html#returning-a-view-versus-a-copy\n",
            "  \"\"\"Entry point for launching an IPython kernel.\n"
          ],
          "name": "stderr"
        }
      ]
    },
    {
      "cell_type": "code",
      "metadata": {
        "id": "GMty1t2rABN9",
        "colab_type": "code",
        "colab": {
          "base_uri": "https://localhost:8080/",
          "height": 407
        },
        "outputId": "2afd5461-5efc-49f1-ff14-029e54fd5e32"
      },
      "source": [
        "df_selected"
      ],
      "execution_count": 36,
      "outputs": [
        {
          "output_type": "execute_result",
          "data": {
            "text/html": [
              "<div>\n",
              "<style scoped>\n",
              "    .dataframe tbody tr th:only-of-type {\n",
              "        vertical-align: middle;\n",
              "    }\n",
              "\n",
              "    .dataframe tbody tr th {\n",
              "        vertical-align: top;\n",
              "    }\n",
              "\n",
              "    .dataframe thead th {\n",
              "        text-align: right;\n",
              "    }\n",
              "</style>\n",
              "<table border=\"1\" class=\"dataframe\">\n",
              "  <thead>\n",
              "    <tr style=\"text-align: right;\">\n",
              "      <th></th>\n",
              "      <th>Clean_english</th>\n",
              "      <th>sentiment_vadar</th>\n",
              "    </tr>\n",
              "  </thead>\n",
              "  <tbody>\n",
              "    <tr>\n",
              "      <th>0</th>\n",
              "      <td>rise Union</td>\n",
              "      <td>0</td>\n",
              "    </tr>\n",
              "    <tr>\n",
              "      <th>1</th>\n",
              "      <td>interim regular economy grave</td>\n",
              "      <td>0</td>\n",
              "    </tr>\n",
              "    <tr>\n",
              "      <th>2</th>\n",
              "      <td>Growth business sentiment weak</td>\n",
              "      <td>0</td>\n",
              "    </tr>\n",
              "    <tr>\n",
              "      <th>3</th>\n",
              "      <td>economy capacity sustain high growth threat wi...</td>\n",
              "      <td>0</td>\n",
              "    </tr>\n",
              "    <tr>\n",
              "      <th>5</th>\n",
              "      <td>policy crisis eventually unfold</td>\n",
              "      <td>0</td>\n",
              "    </tr>\n",
              "    <tr>\n",
              "      <th>...</th>\n",
              "      <td>...</td>\n",
              "      <td>...</td>\n",
              "    </tr>\n",
              "    <tr>\n",
              "      <th>12311</th>\n",
              "      <td>Development mass movement period Government</td>\n",
              "      <td>0</td>\n",
              "    </tr>\n",
              "    <tr>\n",
              "      <th>12313</th>\n",
              "      <td>transform leading nation world help people</td>\n",
              "      <td>1</td>\n",
              "    </tr>\n",
              "    <tr>\n",
              "      <th>12314</th>\n",
              "      <td>laid foundation</td>\n",
              "      <td>0</td>\n",
              "    </tr>\n",
              "    <tr>\n",
              "      <th>12315</th>\n",
              "      <td>grand edifice support</td>\n",
              "      <td>1</td>\n",
              "    </tr>\n",
              "    <tr>\n",
              "      <th>12316</th>\n",
              "      <td>decisive leadership policy transparent integri...</td>\n",
              "      <td>1</td>\n",
              "    </tr>\n",
              "  </tbody>\n",
              "</table>\n",
              "<p>9065 rows × 2 columns</p>\n",
              "</div>"
            ],
            "text/plain": [
              "                                           Clean_english  sentiment_vadar\n",
              "0                                             rise Union                0\n",
              "1                          interim regular economy grave                0\n",
              "2                         Growth business sentiment weak                0\n",
              "3      economy capacity sustain high growth threat wi...                0\n",
              "5                        policy crisis eventually unfold                0\n",
              "...                                                  ...              ...\n",
              "12311        Development mass movement period Government                0\n",
              "12313         transform leading nation world help people                1\n",
              "12314                                    laid foundation                0\n",
              "12315                              grand edifice support                1\n",
              "12316  decisive leadership policy transparent integri...                1\n",
              "\n",
              "[9065 rows x 2 columns]"
            ]
          },
          "metadata": {
            "tags": []
          },
          "execution_count": 36
        }
      ]
    },
    {
      "cell_type": "code",
      "metadata": {
        "id": "_3UJvnacXBMI",
        "colab_type": "code",
        "colab": {
          "base_uri": "https://localhost:8080/",
          "height": 265
        },
        "outputId": "a6b93a03-1bbd-4f31-ebd4-8be1232fe076"
      },
      "source": [
        "%matplotlib inline\n",
        "import matplotlib.pyplot as plt\n",
        "\n",
        "df_selected[\"sentiment_vadar\"].plot.hist()\n",
        "plt.show()"
      ],
      "execution_count": 37,
      "outputs": [
        {
          "output_type": "display_data",
          "data": {
            "image/png": "[encoded data removed]",
            "text/plain": [
              "<Figure size 432x288 with 1 Axes>"
            ]
          },
          "metadata": {
            "tags": [],
            "needs_background": "light"
          }
        }
      ]
    },
    {
      "cell_type": "code",
      "metadata": {
        "id": "QDRJqBgjHqJi",
        "colab_type": "code",
        "colab": {}
      },
      "source": [
        "from sklearn.model_selection import train_test_split\n",
        "\n",
        "# Input: \"reviewText\", \"rating\" and \"time\"\n",
        "# Target: \"log_votes\"\n",
        "X_train, X_val, y_train, y_val = train_test_split(df_selected[[\"Clean_english\"]],\n",
        "                                                  df_selected[\"sentiment_vadar\"].tolist(),\n",
        "                                                  test_size=0.10,\n",
        "                                                  shuffle=True\n",
        "                                                 )"
      ],
      "execution_count": 0,
      "outputs": []
    },
    {
      "cell_type": "code",
      "metadata": {
        "id": "CdZX4iWtTAdX",
        "colab_type": "code",
        "colab": {}
      },
      "source": [
        "from sklearn.feature_extraction.text import CountVectorizer, TfidfVectorizer\n",
        "\n",
        "# Initialize the binary count vectorizer\n",
        "tfidf_vectorizer = CountVectorizer(binary=True,\n",
        "                                   max_features=200    # Limit the vocabulary size\n",
        "                                  )\n",
        "# Fit and transform\n",
        "X_train_text_vectors = tfidf_vectorizer.fit_transform(X_train[\"Clean_english\"].tolist())\n",
        "# Only transform\n",
        "X_val_text_vectors = tfidf_vectorizer.transform(X_val[\"Clean_english\"].tolist())"
      ],
      "execution_count": 0,
      "outputs": []
    },
    {
      "cell_type": "code",
      "metadata": {
        "id": "op-l8OouTIoM",
        "colab_type": "code",
        "colab": {
          "base_uri": "https://localhost:8080/",
          "height": 53
        },
        "outputId": "6cf306a7-b6cb-498d-d3dd-2cf12b64519a"
      },
      "source": [
        "print(tfidf_vectorizer.vocabulary_)"
      ],
      "execution_count": 67,
      "outputs": [
        {
          "output_type": "stream",
          "text": [
            "{'benefit': 17, 'market': 119, 'exemption': 69, 'extended': 72, 'propose': 149, 'corporate': 38, 'income': 96, 'tax': 184, 'extend': 71, 'investment': 107, 'deduction': 47, 'financial': 74, 'sector': 167, 'growth': 86, 'economy': 56, 'needs': 127, 'support': 180, 'provide': 150, 'cost': 39, 'capital': 23, 'goods': 83, 'central': 27, 'scheme': 165, 'infrastructure': 102, 'enable': 61, 'department': 49, 'focus': 76, 'national': 124, 'pension': 134, 'system': 181, 'order': 132, 'effect': 58, 'taken': 182, 'increase': 97, 'limit': 112, 'current': 45, 'payment': 133, 'case': 24, 'government': 84, 'section': 166, 'account': 1, 'skill': 172, 'development': 50, 'continue': 37, 'customs': 46, 'target': 183, 'domestic': 53, 'money': 123, 'major': 114, 'access': 0, 'policy': 140, 'work': 197, 'enhance': 65, 'revenue': 162, 'self': 169, 'cent': 26, 'total': 188, 'respect': 160, 'reduce': 158, 'small': 173, 'bring': 20, 'levy': 110, 'rate': 156, 'agriculture': 6, 'fund': 80, 'crore': 44, 'plan': 139, 'rural': 164, 'use': 191, 'manufacture': 117, 'nil': 129, 'ministry': 121, 'housing': 91, 'state': 177, 'necessary': 125, 'percent': 136, 'excise': 67, 'duty': 54, 'agricultural': 5, 'production': 146, 'credit': 43, 'food': 77, 'place': 138, 'direct': 52, 'indirect': 98, 'view': 193, 'social': 174, 'funds': 81, 'free': 79, 'set': 171, 'people': 135, 'welfare': 196, 'poor': 141, 'subject': 178, 'additional': 3, 'banking': 14, 'business': 21, 'facility': 73, 'term': 187, 'employment': 60, 'based': 15, 'power': 142, 'country': 40, 'certain': 28, 'reduced': 159, 'period': 137, 'interest': 105, 'mission': 122, 'industry': 99, 'international': 106, 'need': 126, 'improve': 94, 'fiscal': 75, 'deficit': 48, 'greater': 85, 'quality': 155, 'expenditure': 70, 'higher': 90, 'cash': 25, 'public': 153, 'bill': 19, 'construction': 36, 'long': 113, 'cess': 29, 'sum': 179, 'implementation': 92, 'providing': 151, 'initiative': 103, 'assets': 9, 'taxation': 185, 'health': 87, 'encourage': 62, 'exempt': 68, 'basic': 16, 'important': 93, 'world': 198, 'class': 30, 'number': 130, 'received': 157, 'committee': 33, 'authority': 11, 'insurance': 104, 'project': 147, 'special': 175, 'management': 116, 'level': 109, 'global': 82, 'foreign': 78, 'amend': 8, 'economic': 55, 'include': 95, 'road': 163, 'high': 89, 'value': 192, 'addition': 2, 'education': 57, 'technology': 186, 'capacity': 22, 'life': 111, 'way': 195, 'better': 18, 'provision': 152, 'help': 88, 'address': 4, 'large': 108, 'service': 170, 'end': 63, 'energy': 64, 'effective': 59, 'purpose': 154, 'water': 194, 'transfer': 189, 'digital': 51, 'making': 115, 'net': 128, 'process': 145, 'oil': 131, 'allocation': 7, 'yojana': 199, 'bank': 13, 'security': 168, 'micro': 120, 'coal': 31, 'price': 143, 'transport': 190, 'promote': 148, 'inflation': 100, 'create': 41, 'private': 144, 'start': 176, 'concessional': 35, 'available': 12, 'return': 161, 'company': 34, 'ensure': 66, 'information': 101, 'commission': 32, 'march': 118, 'assistance': 10, 'creation': 42}\n"
          ],
          "name": "stdout"
        }
      ]
    },
    {
      "cell_type": "code",
      "metadata": {
        "id": "C_6TL0ZDTTWQ",
        "colab_type": "code",
        "colab": {
          "base_uri": "https://localhost:8080/",
          "height": 33
        },
        "outputId": "558f3e76-aee1-460c-dd18-d60ac7f78666"
      },
      "source": [
        "from sklearn.linear_model import LogisticRegression\n",
        "from sklearn.metrics import classification_report, confusion_matrix\n",
        "from sklearn.metrics import make_scorer, accuracy_score, f1_score\n",
        "# To improve the performance of LogisticRegression we can tune its parameters, for example:\n",
        "# * regularization type: penalty = {l1, l2, elasticnet}\n",
        "# * regularization strength: C = {smaller values specify stronger regularization} \n",
        "#    !!! LogisticRegression regularized cost function: C*Cost(w) + penalty(w), \n",
        "# where w is the weights vector !!!\n",
        "# * addressing class imbalance: \n",
        "# class_weight = {balanced or {class label:weight, class label:weight}, ...}\n",
        "lrClassifier = LogisticRegression(penalty = 'l2',\n",
        "                                  C = 0.1,\n",
        "                                  class_weight = 'balanced')\n",
        "lrClassifier.fit(X_train_text_vectors, y_train)\n",
        "lrClassifier_val_predictions = lrClassifier.predict(X_val_text_vectors)\n",
        " \n",
        "print(\"LogisticRegression on Validation: Accuracy Score: %f, F1-score: %f\" % \\\n",
        "      (accuracy_score(y_val, lrClassifier_val_predictions), f1_score(y_val, lrClassifier_val_predictions)))"
      ],
      "execution_count": 68,
      "outputs": [
        {
          "output_type": "stream",
          "text": [
            "LogisticRegression on Validation: Accuracy Score: 0.789416, F1-score: 0.700157\n"
          ],
          "name": "stdout"
        }
      ]
    },
    {
      "cell_type": "code",
      "metadata": {
        "id": "Zo9dgzbVXyKw",
        "colab_type": "code",
        "colab": {}
      },
      "source": [
        "%matplotlib inline \n",
        "import matplotlib.pyplot as plt\n",
        "from sklearn.metrics import precision_recall_curve\n",
        " \n",
        "# Calculate the precision and recall using different values for the classification threshold\n",
        "val_predictions_probs = lrClassifier.predict_proba(X_val_text_vectors)\n",
        "precisions, recalls, thresholds = precision_recall_curve(y_val, val_predictions_probs[:, 1])"
      ],
      "execution_count": 0,
      "outputs": []
    },
    {
      "cell_type": "code",
      "metadata": {
        "id": "yKIZklgXZIGd",
        "colab_type": "code",
        "colab": {
          "base_uri": "https://localhost:8080/",
          "height": 312
        },
        "outputId": "f31e3695-ec86-4c56-9f39-337aed2d7b1f"
      },
      "source": [
        "%matplotlib inline \n",
        "import numpy as np\n",
        "import matplotlib.pyplot as plt\n",
        "# Calculate the F1 score using different values for the classification threshold, \n",
        "# and pick the threshold that resulted in the highest F1 score.\n",
        "highest_f1 = 0\n",
        "threshold_highest_f1 = 0\n",
        "f1_scores = []\n",
        "for id, threshold in enumerate(thresholds):\n",
        "\n",
        "    f1_score = 2*precisions[id]*recalls[id]/(precisions[id]+recalls[id])\n",
        "    f1_scores.append(f1_score)\n",
        "    if(f1_score > highest_f1):\n",
        "        highest_f1 = f1_score\n",
        "        threshold_highest_f1 = threshold\n",
        "print(\"Highest F1 score on Validation:\", highest_f1, \\\n",
        "      \", Threshold for the highest F1 score:\", threshold_highest_f1)\n",
        "# Let's plot the F1 score versus different choices of thresholds\n",
        "plt.plot([0.5, 0.5], [np.min(f1_scores), np.max(f1_scores)], linestyle='--')\n",
        "plt.plot(thresholds, f1_scores, marker='.')\n",
        "plt.title('F1 Score versus different choices of thresholds')\n",
        "plt.xlabel('Threshold')\n",
        "plt.ylabel('F1 Score')\n",
        "plt.show()"
      ],
      "execution_count": 70,
      "outputs": [
        {
          "output_type": "stream",
          "text": [
            "Highest F1 score on Validation: 0.7093596059113302 , Threshold for the highest F1 score: 0.544688858001977\n"
          ],
          "name": "stdout"
        },
        {
          "output_type": "display_data",
          "data": {
            "image/png": "[encoded data removed]",
            "text/plain": [
              "<Figure size 432x288 with 1 Axes>"
            ]
          },
          "metadata": {
            "tags": [],
            "needs_background": "light"
          }
        }
      ]
    },
    {
      "cell_type": "code",
      "metadata": {
        "id": "S7dPM6q-b0vU",
        "colab_type": "code",
        "colab": {
          "base_uri": "https://localhost:8080/",
          "height": 167
        },
        "outputId": "4ffd9da2-7820-41c9-93cf-71a2b49c0df5"
      },
      "source": [
        "# Training the model and checking on Validation data\n",
        "from sklearn.metrics import classification_report\n",
        "from sklearn.linear_model import LogisticRegression\n",
        "\n",
        "lrClassifier = LogisticRegression(penalty = 'l2')\n",
        "\n",
        "lrClassifier.fit(X_train_text_vectors, y_train)\n",
        "lrClassifier_val_predictions = lrClassifier.predict(X_val_text_vectors)\n",
        "print(classification_report(y_val, lrClassifier_val_predictions)) "
      ],
      "execution_count": 71,
      "outputs": [
        {
          "output_type": "stream",
          "text": [
            "              precision    recall  f1-score   support\n",
            "\n",
            "           0       0.76      0.96      0.85       535\n",
            "           1       0.91      0.57      0.70       372\n",
            "\n",
            "    accuracy                           0.80       907\n",
            "   macro avg       0.84      0.77      0.78       907\n",
            "weighted avg       0.83      0.80      0.79       907\n",
            "\n"
          ],
          "name": "stdout"
        }
      ]
    },
    {
      "cell_type": "markdown",
      "metadata": {
        "id": "rPeqdonsZkBR",
        "colab_type": "text"
      },
      "source": [
        "# K Nearest Neighbors Model"
      ]
    },
    {
      "cell_type": "code",
      "metadata": {
        "id": "25OvZ4EcZJ9l",
        "colab_type": "code",
        "colab": {}
      },
      "source": [
        "#Let's get our binary vectors for the text field\n",
        "\n",
        "from sklearn.feature_extraction.text import CountVectorizer, TfidfVectorizer\n",
        " \n",
        "# Initialize the binary count vectorizer\n",
        "tfidf_vectorizer = CountVectorizer(binary=True,\n",
        "                                   max_features=200    # Limit the vocabulary size\n",
        "                                  )\n",
        "# Fit and transform\n",
        "X_train_text_vectors = tfidf_vectorizer.fit_transform(X_train[\"Clean_english\"].tolist())\n",
        "# Only transform\n",
        "X_val_text_vectors = tfidf_vectorizer.transform(X_val[\"Clean_english\"].tolist())"
      ],
      "execution_count": 0,
      "outputs": []
    },
    {
      "cell_type": "code",
      "metadata": {
        "id": "G0suBCrBZu_8",
        "colab_type": "code",
        "colab": {
          "base_uri": "https://localhost:8080/",
          "height": 53
        },
        "outputId": "9253ceef-d272-4a4a-a7ce-91f5756034d6"
      },
      "source": [
        "print(tfidf_vectorizer.vocabulary_)"
      ],
      "execution_count": 73,
      "outputs": [
        {
          "output_type": "stream",
          "text": [
            "{'benefit': 17, 'market': 119, 'exemption': 69, 'extended': 72, 'propose': 149, 'corporate': 38, 'income': 96, 'tax': 184, 'extend': 71, 'investment': 107, 'deduction': 47, 'financial': 74, 'sector': 167, 'growth': 86, 'economy': 56, 'needs': 127, 'support': 180, 'provide': 150, 'cost': 39, 'capital': 23, 'goods': 83, 'central': 27, 'scheme': 165, 'infrastructure': 102, 'enable': 61, 'department': 49, 'focus': 76, 'national': 124, 'pension': 134, 'system': 181, 'order': 132, 'effect': 58, 'taken': 182, 'increase': 97, 'limit': 112, 'current': 45, 'payment': 133, 'case': 24, 'government': 84, 'section': 166, 'account': 1, 'skill': 172, 'development': 50, 'continue': 37, 'customs': 46, 'target': 183, 'domestic': 53, 'money': 123, 'major': 114, 'access': 0, 'policy': 140, 'work': 197, 'enhance': 65, 'revenue': 162, 'self': 169, 'cent': 26, 'total': 188, 'respect': 160, 'reduce': 158, 'small': 173, 'bring': 20, 'levy': 110, 'rate': 156, 'agriculture': 6, 'fund': 80, 'crore': 44, 'plan': 139, 'rural': 164, 'use': 191, 'manufacture': 117, 'nil': 129, 'ministry': 121, 'housing': 91, 'state': 177, 'necessary': 125, 'percent': 136, 'excise': 67, 'duty': 54, 'agricultural': 5, 'production': 146, 'credit': 43, 'food': 77, 'place': 138, 'direct': 52, 'indirect': 98, 'view': 193, 'social': 174, 'funds': 81, 'free': 79, 'set': 171, 'people': 135, 'welfare': 196, 'poor': 141, 'subject': 178, 'additional': 3, 'banking': 14, 'business': 21, 'facility': 73, 'term': 187, 'employment': 60, 'based': 15, 'power': 142, 'country': 40, 'certain': 28, 'reduced': 159, 'period': 137, 'interest': 105, 'mission': 122, 'industry': 99, 'international': 106, 'need': 126, 'improve': 94, 'fiscal': 75, 'deficit': 48, 'greater': 85, 'quality': 155, 'expenditure': 70, 'higher': 90, 'cash': 25, 'public': 153, 'bill': 19, 'construction': 36, 'long': 113, 'cess': 29, 'sum': 179, 'implementation': 92, 'providing': 151, 'initiative': 103, 'assets': 9, 'taxation': 185, 'health': 87, 'encourage': 62, 'exempt': 68, 'basic': 16, 'important': 93, 'world': 198, 'class': 30, 'number': 130, 'received': 157, 'committee': 33, 'authority': 11, 'insurance': 104, 'project': 147, 'special': 175, 'management': 116, 'level': 109, 'global': 82, 'foreign': 78, 'amend': 8, 'economic': 55, 'include': 95, 'road': 163, 'high': 89, 'value': 192, 'addition': 2, 'education': 57, 'technology': 186, 'capacity': 22, 'life': 111, 'way': 195, 'better': 18, 'provision': 152, 'help': 88, 'address': 4, 'large': 108, 'service': 170, 'end': 63, 'energy': 64, 'effective': 59, 'purpose': 154, 'water': 194, 'transfer': 189, 'digital': 51, 'making': 115, 'net': 128, 'process': 145, 'oil': 131, 'allocation': 7, 'yojana': 199, 'bank': 13, 'security': 168, 'micro': 120, 'coal': 31, 'price': 143, 'transport': 190, 'promote': 148, 'inflation': 100, 'create': 41, 'private': 144, 'start': 176, 'concessional': 35, 'available': 12, 'return': 161, 'company': 34, 'ensure': 66, 'information': 101, 'commission': 32, 'march': 118, 'assistance': 10, 'creation': 42}\n"
          ],
          "name": "stdout"
        }
      ]
    },
    {
      "cell_type": "code",
      "metadata": {
        "id": "BFRWeCNYZwKB",
        "colab_type": "code",
        "colab": {}
      },
      "source": [
        "import numpy as np\n",
        "from sklearn.neighbors import KNeighborsClassifier\n",
        "from sklearn.metrics import f1_score"
      ],
      "execution_count": 0,
      "outputs": []
    },
    {
      "cell_type": "code",
      "metadata": {
        "id": "f40QPrbuZxes",
        "colab_type": "code",
        "colab": {
          "base_uri": "https://localhost:8080/",
          "height": 100
        },
        "outputId": "4580de97-1f96-48df-911d-fa9b2c683972"
      },
      "source": [
        "K_values = [3, 5, 10, 20, 30]\n",
        " \n",
        "for K in K_values:\n",
        "    knnClassifier = KNeighborsClassifier(n_neighbors=K)\n",
        "    knnClassifier.fit(X_train_text_vectors, y_train)\n",
        "    val_predictions = knnClassifier.predict(X_val_text_vectors)\n",
        "    print(\"F1 Score for K:\", K, \"is\", f1_score(y_val, val_predictions))"
      ],
      "execution_count": 75,
      "outputs": [
        {
          "output_type": "stream",
          "text": [
            "F1 Score for K: 3 is 0.527363184079602\n",
            "F1 Score for K: 5 is 0.5054151624548736\n",
            "F1 Score for K: 10 is 0.40748440748440745\n",
            "F1 Score for K: 20 is 0.30248306997742663\n",
            "F1 Score for K: 30 is 0.2632794457274827\n"
          ],
          "name": "stdout"
        }
      ]
    },
    {
      "cell_type": "code",
      "metadata": {
        "id": "YT_mSebeESQV",
        "colab_type": "code",
        "colab": {
          "base_uri": "https://localhost:8080/",
          "height": 33
        },
        "outputId": "5f2284d7-b044-4cc7-9652-10d5bbf84887"
      },
      "source": [
        "pip install docx2txt"
      ],
      "execution_count": 76,
      "outputs": [
        {
          "output_type": "stream",
          "text": [
            "Requirement already satisfied: docx2txt in /usr/local/lib/python3.6/dist-packages (0.8)\n"
          ],
          "name": "stdout"
        }
      ]
    },
    {
      "cell_type": "code",
      "metadata": {
        "id": "D_dO1B5EnZxv",
        "colab_type": "code",
        "colab": {}
      },
      "source": [
        "import docx2txt"
      ],
      "execution_count": 0,
      "outputs": []
    },
    {
      "cell_type": "code",
      "metadata": {
        "id": "P6s7k-jvnbqb",
        "colab_type": "code",
        "colab": {}
      },
      "source": [
        "# read in word file\n",
        "df_2020 = docx2txt.process(\"/content/drive/My Drive/NLP/budget_speech.docx\")"
      ],
      "execution_count": 0,
      "outputs": []
    },
    {
      "cell_type": "code",
      "metadata": {
        "id": "3uzwRiivnjpK",
        "colab_type": "code",
        "colab": {}
      },
      "source": [
        "import re\n",
        "df_2020 = re.sub('\\s+', ' ', df_2020)\n",
        "df_2020= df_2020.split(\"2020-2021. Introduction\",1)[1] "
      ],
      "execution_count": 0,
      "outputs": []
    },
    {
      "cell_type": "code",
      "metadata": {
        "id": "egpszSAAnmCQ",
        "colab_type": "code",
        "colab": {
          "base_uri": "https://localhost:8080/",
          "height": 67
        },
        "outputId": "f4617998-0527-4109-d51f-59837bfbe7e7"
      },
      "source": [
        "import nltk\n",
        "nltk.download('punkt')"
      ],
      "execution_count": 80,
      "outputs": [
        {
          "output_type": "stream",
          "text": [
            "[nltk_data] Downloading package punkt to /root/nltk_data...\n",
            "[nltk_data]   Package punkt is already up-to-date!\n"
          ],
          "name": "stdout"
        },
        {
          "output_type": "execute_result",
          "data": {
            "text/plain": [
              "True"
            ]
          },
          "metadata": {
            "tags": []
          },
          "execution_count": 80
        }
      ]
    },
    {
      "cell_type": "code",
      "metadata": {
        "id": "32yY6tOmnoM2",
        "colab_type": "code",
        "colab": {}
      },
      "source": [
        "from nltk.tokenize import sent_tokenize\n",
        "list_2020= sent_tokenize(df_2020)"
      ],
      "execution_count": 0,
      "outputs": []
    },
    {
      "cell_type": "code",
      "metadata": {
        "id": "r11yW6Zunp7d",
        "colab_type": "code",
        "colab": {}
      },
      "source": [
        "import pandas as pd\n",
        "df_2020_selected = pd.DataFrame(list_2020, columns=['Speech'])"
      ],
      "execution_count": 0,
      "outputs": []
    },
    {
      "cell_type": "code",
      "metadata": {
        "id": "azetbPuVnrCf",
        "colab_type": "code",
        "colab": {
          "base_uri": "https://localhost:8080/",
          "height": 407
        },
        "outputId": "a875e2b9-2397-4203-e285-fbbf9ed86acb"
      },
      "source": [
        "df_2020_selected"
      ],
      "execution_count": 83,
      "outputs": [
        {
          "output_type": "execute_result",
          "data": {
            "text/html": [
              "<div>\n",
              "<style scoped>\n",
              "    .dataframe tbody tr th:only-of-type {\n",
              "        vertical-align: middle;\n",
              "    }\n",
              "\n",
              "    .dataframe tbody tr th {\n",
              "        vertical-align: top;\n",
              "    }\n",
              "\n",
              "    .dataframe thead th {\n",
              "        text-align: right;\n",
              "    }\n",
              "</style>\n",
              "<table border=\"1\" class=\"dataframe\">\n",
              "  <thead>\n",
              "    <tr style=\"text-align: right;\">\n",
              "      <th></th>\n",
              "      <th>Speech</th>\n",
              "    </tr>\n",
              "  </thead>\n",
              "  <tbody>\n",
              "    <tr>\n",
              "      <th>0</th>\n",
              "      <td>In May 2019, Prime Minister Modi received a m...</td>\n",
              "    </tr>\n",
              "    <tr>\n",
              "      <th>1</th>\n",
              "      <td>With renewed vigour, under his leadership, we ...</td>\n",
              "    </tr>\n",
              "    <tr>\n",
              "      <th>2</th>\n",
              "      <td>2.</td>\n",
              "    </tr>\n",
              "    <tr>\n",
              "      <th>3</th>\n",
              "      <td>People of India have unequivocally given their...</td>\n",
              "    </tr>\n",
              "    <tr>\n",
              "      <th>4</th>\n",
              "      <td>This is the Budget to boost their incomes and ...</td>\n",
              "    </tr>\n",
              "    <tr>\n",
              "      <th>...</th>\n",
              "      <td>...</td>\n",
              "    </tr>\n",
              "    <tr>\n",
              "      <th>1127</th>\n",
              "      <td>3 The refund of accumulated credit of compensa...</td>\n",
              "    </tr>\n",
              "    <tr>\n",
              "      <th>1128</th>\n",
              "      <td>3/2019- Compensation Cess (Rate) dated 30.9.2019.</td>\n",
              "    </tr>\n",
              "    <tr>\n",
              "      <th>1129</th>\n",
              "      <td>This notification is being given retrospective...</td>\n",
              "    </tr>\n",
              "    <tr>\n",
              "      <th>1130</th>\n",
              "      <td>Accordingly, no refund on account of inverted ...</td>\n",
              "    </tr>\n",
              "    <tr>\n",
              "      <th>1131</th>\n",
              "      <td>For further details of the budget proposals, t...</td>\n",
              "    </tr>\n",
              "  </tbody>\n",
              "</table>\n",
              "<p>1132 rows × 1 columns</p>\n",
              "</div>"
            ],
            "text/plain": [
              "                                                 Speech\n",
              "0      In May 2019, Prime Minister Modi received a m...\n",
              "1     With renewed vigour, under his leadership, we ...\n",
              "2                                                    2.\n",
              "3     People of India have unequivocally given their...\n",
              "4     This is the Budget to boost their incomes and ...\n",
              "...                                                 ...\n",
              "1127  3 The refund of accumulated credit of compensa...\n",
              "1128  3/2019- Compensation Cess (Rate) dated 30.9.2019.\n",
              "1129  This notification is being given retrospective...\n",
              "1130  Accordingly, no refund on account of inverted ...\n",
              "1131  For further details of the budget proposals, t...\n",
              "\n",
              "[1132 rows x 1 columns]"
            ]
          },
          "metadata": {
            "tags": []
          },
          "execution_count": 83
        }
      ]
    },
    {
      "cell_type": "code",
      "metadata": {
        "id": "z6XxmBUXnudc",
        "colab_type": "code",
        "colab": {}
      },
      "source": [
        "k=0\n",
        "desc_list=[]\n",
        "for line in df_2020_selected.Speech:  \n",
        "  text = re.sub('<.*?>', '',line) #This expression removes the <br> which is found at the end of every sentence\n",
        "  text = re.sub(r'[^A-Za-z]+', ' ', text)\n",
        "  text = re.sub(r'[\\d{1,}]+',' ',text)\n",
        "  desc_list.append(re.sub('Borrower added on \\d{2}/\\d{2}/\\d{2} >', '', text)) # This removes the date/year in every sentence\n",
        "  \n",
        "  k=k+1\n",
        "df_2020_selected['Speech_cleaned'] = desc_list"
      ],
      "execution_count": 0,
      "outputs": []
    },
    {
      "cell_type": "code",
      "metadata": {
        "id": "ReYGa6grn0y5",
        "colab_type": "code",
        "colab": {
          "base_uri": "https://localhost:8080/",
          "height": 407
        },
        "outputId": "cf27f9b1-aada-4088-f700-61ed53f34278"
      },
      "source": [
        "df_2020_selected"
      ],
      "execution_count": 85,
      "outputs": [
        {
          "output_type": "execute_result",
          "data": {
            "text/html": [
              "<div>\n",
              "<style scoped>\n",
              "    .dataframe tbody tr th:only-of-type {\n",
              "        vertical-align: middle;\n",
              "    }\n",
              "\n",
              "    .dataframe tbody tr th {\n",
              "        vertical-align: top;\n",
              "    }\n",
              "\n",
              "    .dataframe thead th {\n",
              "        text-align: right;\n",
              "    }\n",
              "</style>\n",
              "<table border=\"1\" class=\"dataframe\">\n",
              "  <thead>\n",
              "    <tr style=\"text-align: right;\">\n",
              "      <th></th>\n",
              "      <th>Speech</th>\n",
              "      <th>Speech_cleaned</th>\n",
              "    </tr>\n",
              "  </thead>\n",
              "  <tbody>\n",
              "    <tr>\n",
              "      <th>0</th>\n",
              "      <td>In May 2019, Prime Minister Modi received a m...</td>\n",
              "      <td>In May Prime Minister Modi received a massive...</td>\n",
              "    </tr>\n",
              "    <tr>\n",
              "      <th>1</th>\n",
              "      <td>With renewed vigour, under his leadership, we ...</td>\n",
              "      <td>With renewed vigour under his leadership we co...</td>\n",
              "    </tr>\n",
              "    <tr>\n",
              "      <th>2</th>\n",
              "      <td>2.</td>\n",
              "      <td></td>\n",
              "    </tr>\n",
              "    <tr>\n",
              "      <th>3</th>\n",
              "      <td>People of India have unequivocally given their...</td>\n",
              "      <td>People of India have unequivocally given their...</td>\n",
              "    </tr>\n",
              "    <tr>\n",
              "      <th>4</th>\n",
              "      <td>This is the Budget to boost their incomes and ...</td>\n",
              "      <td>This is the Budget to boost their incomes and ...</td>\n",
              "    </tr>\n",
              "    <tr>\n",
              "      <th>...</th>\n",
              "      <td>...</td>\n",
              "      <td>...</td>\n",
              "    </tr>\n",
              "    <tr>\n",
              "      <th>1127</th>\n",
              "      <td>3 The refund of accumulated credit of compensa...</td>\n",
              "      <td>The refund of accumulated credit of compensat...</td>\n",
              "    </tr>\n",
              "    <tr>\n",
              "      <th>1128</th>\n",
              "      <td>3/2019- Compensation Cess (Rate) dated 30.9.2019.</td>\n",
              "      <td>Compensation Cess Rate dated</td>\n",
              "    </tr>\n",
              "    <tr>\n",
              "      <th>1129</th>\n",
              "      <td>This notification is being given retrospective...</td>\n",
              "      <td>This notification is being given retrospective...</td>\n",
              "    </tr>\n",
              "    <tr>\n",
              "      <th>1130</th>\n",
              "      <td>Accordingly, no refund on account of inverted ...</td>\n",
              "      <td>Accordingly no refund on account of inverted d...</td>\n",
              "    </tr>\n",
              "    <tr>\n",
              "      <th>1131</th>\n",
              "      <td>For further details of the budget proposals, t...</td>\n",
              "      <td>For further details of the budget proposals th...</td>\n",
              "    </tr>\n",
              "  </tbody>\n",
              "</table>\n",
              "<p>1132 rows × 2 columns</p>\n",
              "</div>"
            ],
            "text/plain": [
              "                                                 Speech                                     Speech_cleaned\n",
              "0      In May 2019, Prime Minister Modi received a m...   In May Prime Minister Modi received a massive...\n",
              "1     With renewed vigour, under his leadership, we ...  With renewed vigour under his leadership we co...\n",
              "2                                                    2.                                                   \n",
              "3     People of India have unequivocally given their...  People of India have unequivocally given their...\n",
              "4     This is the Budget to boost their incomes and ...  This is the Budget to boost their incomes and ...\n",
              "...                                                 ...                                                ...\n",
              "1127  3 The refund of accumulated credit of compensa...   The refund of accumulated credit of compensat...\n",
              "1128  3/2019- Compensation Cess (Rate) dated 30.9.2019.                      Compensation Cess Rate dated \n",
              "1129  This notification is being given retrospective...  This notification is being given retrospective...\n",
              "1130  Accordingly, no refund on account of inverted ...  Accordingly no refund on account of inverted d...\n",
              "1131  For further details of the budget proposals, t...  For further details of the budget proposals th...\n",
              "\n",
              "[1132 rows x 2 columns]"
            ]
          },
          "metadata": {
            "tags": []
          },
          "execution_count": 85
        }
      ]
    },
    {
      "cell_type": "code",
      "metadata": {
        "id": "PPPjUk10oBJK",
        "colab_type": "code",
        "colab": {
          "base_uri": "https://localhost:8080/",
          "height": 167
        },
        "outputId": "ede40162-599c-408e-92d5-ed1d7bb30889"
      },
      "source": [
        "nltk.download('stopwords')\n",
        "nltk.download('averaged_perceptron_tagger')\n",
        "nltk.download('wordnet')"
      ],
      "execution_count": 86,
      "outputs": [
        {
          "output_type": "stream",
          "text": [
            "[nltk_data] Downloading package stopwords to /root/nltk_data...\n",
            "[nltk_data]   Package stopwords is already up-to-date!\n",
            "[nltk_data] Downloading package averaged_perceptron_tagger to\n",
            "[nltk_data]     /root/nltk_data...\n",
            "[nltk_data]   Package averaged_perceptron_tagger is already up-to-\n",
            "[nltk_data]       date!\n",
            "[nltk_data] Downloading package wordnet to /root/nltk_data...\n",
            "[nltk_data]   Package wordnet is already up-to-date!\n"
          ],
          "name": "stdout"
        },
        {
          "output_type": "execute_result",
          "data": {
            "text/plain": [
              "True"
            ]
          },
          "metadata": {
            "tags": []
          },
          "execution_count": 86
        }
      ]
    },
    {
      "cell_type": "code",
      "metadata": {
        "id": "LJvsvp9Nn2f5",
        "colab_type": "code",
        "colab": {
          "base_uri": "https://localhost:8080/",
          "height": 50
        },
        "outputId": "70955a44-b88d-47ec-f5d0-498bc0832224"
      },
      "source": [
        "%%time\n",
        "\n",
        "# return the wordnet object value corresponding to the POS tag\n",
        "from nltk.corpus import wordnet\n",
        "\n",
        "def get_wordnet_pos(pos_tag):\n",
        "    if pos_tag.startswith('J'):\n",
        "        return wordnet.ADJ\n",
        "    elif pos_tag.startswith('V'):\n",
        "        return wordnet.VERB\n",
        "    elif pos_tag.startswith('N'):\n",
        "        return wordnet.NOUN\n",
        "    elif pos_tag.startswith('R'):\n",
        "        return wordnet.ADV\n",
        "    else:\n",
        "        return wordnet.NOUN\n",
        "    \n",
        "import string\n",
        "from nltk import pos_tag\n",
        "from nltk.corpus import stopwords\n",
        "from nltk.tokenize import WhitespaceTokenizer\n",
        "from nltk.stem import WordNetLemmatizer\n",
        "\n",
        "def clean_text(text):\n",
        "    # lower text\n",
        "    text = text.lower()\n",
        "    # tokenize text and remove puncutation\n",
        "    text = [word.strip(string.punctuation) for word in text.split(\" \")]\n",
        "    # remove words that contain numbers\n",
        "    text = [word for word in text if not any(c.isdigit() for c in word)]\n",
        "    # remove stop words\n",
        "    stop = stopwords.words('english')\n",
        "    text = [x for x in text if x not in stop]\n",
        "    # remove empty tokens\n",
        "    text = [t for t in text if len(t) > 0]\n",
        "    # pos tag text\n",
        "    pos_tags = pos_tag(text)\n",
        "    # lemmatize text\n",
        "    text = [WordNetLemmatizer().lemmatize(t[0], get_wordnet_pos(t[1])) for t in pos_tags]\n",
        "    # remove words with only one letter\n",
        "    text = [t for t in text if len(t) > 1]\n",
        "    # join all\n",
        "    text = \" \".join(text)\n",
        "    return(text)\n",
        "\n",
        "# clean text data\n",
        "df_2020_selected[\"Speech_cleaned\"] = df_2020_selected[\"Speech_cleaned\"].apply(lambda x: clean_text(x))"
      ],
      "execution_count": 87,
      "outputs": [
        {
          "output_type": "stream",
          "text": [
            "CPU times: user 841 ms, sys: 32.2 ms, total: 873 ms\n",
            "Wall time: 873 ms\n"
          ],
          "name": "stdout"
        }
      ]
    },
    {
      "cell_type": "code",
      "metadata": {
        "id": "LspvwOBkn-4M",
        "colab_type": "code",
        "colab": {
          "base_uri": "https://localhost:8080/",
          "height": 407
        },
        "outputId": "037223eb-2344-4c2b-a9dd-deaa2ebc195a"
      },
      "source": [
        "df_2020_selected"
      ],
      "execution_count": 88,
      "outputs": [
        {
          "output_type": "execute_result",
          "data": {
            "text/html": [
              "<div>\n",
              "<style scoped>\n",
              "    .dataframe tbody tr th:only-of-type {\n",
              "        vertical-align: middle;\n",
              "    }\n",
              "\n",
              "    .dataframe tbody tr th {\n",
              "        vertical-align: top;\n",
              "    }\n",
              "\n",
              "    .dataframe thead th {\n",
              "        text-align: right;\n",
              "    }\n",
              "</style>\n",
              "<table border=\"1\" class=\"dataframe\">\n",
              "  <thead>\n",
              "    <tr style=\"text-align: right;\">\n",
              "      <th></th>\n",
              "      <th>Speech</th>\n",
              "      <th>Speech_cleaned</th>\n",
              "    </tr>\n",
              "  </thead>\n",
              "  <tbody>\n",
              "    <tr>\n",
              "      <th>0</th>\n",
              "      <td>In May 2019, Prime Minister Modi received a m...</td>\n",
              "      <td>may prime minister modi receive massive mandat...</td>\n",
              "    </tr>\n",
              "    <tr>\n",
              "      <th>1</th>\n",
              "      <td>With renewed vigour, under his leadership, we ...</td>\n",
              "      <td>renew vigour leadership commit serve people in...</td>\n",
              "    </tr>\n",
              "    <tr>\n",
              "      <th>2</th>\n",
              "      <td>2.</td>\n",
              "      <td></td>\n",
              "    </tr>\n",
              "    <tr>\n",
              "      <th>3</th>\n",
              "      <td>People of India have unequivocally given their...</td>\n",
              "      <td>people india unequivocally give jan aadesh pol...</td>\n",
              "    </tr>\n",
              "    <tr>\n",
              "      <th>4</th>\n",
              "      <td>This is the Budget to boost their incomes and ...</td>\n",
              "      <td>budget boost income enhance purchase power</td>\n",
              "    </tr>\n",
              "    <tr>\n",
              "      <th>...</th>\n",
              "      <td>...</td>\n",
              "      <td>...</td>\n",
              "    </tr>\n",
              "    <tr>\n",
              "      <th>1127</th>\n",
              "      <td>3 The refund of accumulated credit of compensa...</td>\n",
              "      <td>refund accumulate credit compensation ce tobac...</td>\n",
              "    </tr>\n",
              "    <tr>\n",
              "      <th>1128</th>\n",
              "      <td>3/2019- Compensation Cess (Rate) dated 30.9.2019.</td>\n",
              "      <td>compensation ce rate date</td>\n",
              "    </tr>\n",
              "    <tr>\n",
              "      <th>1129</th>\n",
              "      <td>This notification is being given retrospective...</td>\n",
              "      <td>notification give retrospective effect onwards</td>\n",
              "    </tr>\n",
              "    <tr>\n",
              "      <th>1130</th>\n",
              "      <td>Accordingly, no refund on account of inverted ...</td>\n",
              "      <td>accordingly refund account invert duty structu...</td>\n",
              "    </tr>\n",
              "    <tr>\n",
              "      <th>1131</th>\n",
              "      <td>For further details of the budget proposals, t...</td>\n",
              "      <td>detail budget proposal explanatory memorandum ...</td>\n",
              "    </tr>\n",
              "  </tbody>\n",
              "</table>\n",
              "<p>1132 rows × 2 columns</p>\n",
              "</div>"
            ],
            "text/plain": [
              "                                                 Speech                                     Speech_cleaned\n",
              "0      In May 2019, Prime Minister Modi received a m...  may prime minister modi receive massive mandat...\n",
              "1     With renewed vigour, under his leadership, we ...  renew vigour leadership commit serve people in...\n",
              "2                                                    2.                                                   \n",
              "3     People of India have unequivocally given their...  people india unequivocally give jan aadesh pol...\n",
              "4     This is the Budget to boost their incomes and ...         budget boost income enhance purchase power\n",
              "...                                                 ...                                                ...\n",
              "1127  3 The refund of accumulated credit of compensa...  refund accumulate credit compensation ce tobac...\n",
              "1128  3/2019- Compensation Cess (Rate) dated 30.9.2019.                          compensation ce rate date\n",
              "1129  This notification is being given retrospective...     notification give retrospective effect onwards\n",
              "1130  Accordingly, no refund on account of inverted ...  accordingly refund account invert duty structu...\n",
              "1131  For further details of the budget proposals, t...  detail budget proposal explanatory memorandum ...\n",
              "\n",
              "[1132 rows x 2 columns]"
            ]
          },
          "metadata": {
            "tags": []
          },
          "execution_count": 88
        }
      ]
    },
    {
      "cell_type": "code",
      "metadata": {
        "id": "ZIKsYeb_odik",
        "colab_type": "code",
        "colab": {
          "base_uri": "https://localhost:8080/",
          "height": 83
        },
        "outputId": "052890c7-04fc-4a2d-eea5-7d991cc869bd"
      },
      "source": [
        "import nltk\n",
        "from nltk.corpus import stopwords\n",
        "from nltk.stem import SnowballStemmer\n",
        "from nltk.tokenize import word_tokenize\n",
        "\n",
        "nltk.download('punkt')\n",
        "nltk.download('stopwords')\n",
        "\n",
        "snow = SnowballStemmer('english') \n",
        "stop = stopwords.words('english')\n",
        "\n",
        "#excluding some useful words from stop words list\n",
        "excluding = ['against', 'not', 'don', \"don't\",'ain', 'aren', \"aren't\", 'couldn', \"couldn't\", 'didn', \"didn't\",\n",
        "             'doesn', \"doesn't\", 'hadn', \"hadn't\", 'hasn', \"hasn't\", 'haven', \"haven't\", 'isn', \"isn't\", \n",
        "             'mightn', \"mightn't\", 'mustn', \"mustn't\", 'needn', \"needn't\",'shouldn', \"shouldn't\", 'wasn',\n",
        "            \"wasn't\", 'weren', \"weren't\", 'won', \"won't\", 'wouldn', \"wouldn't\"]\n",
        "            \n",
        "stop_words = [word for word in stop if word not in excluding]\n",
        "\n",
        "def process_text(texts): \n",
        "    final_text_list=[]\n",
        "    for sent in texts:\n",
        "        filtered_sentence=[]\n",
        "        sent = sent.lower()\n",
        "        for w in word_tokenize(sent):\n",
        "            # Check if it is not numeric and its length>2 and not in stop words\n",
        "            if(not w.isnumeric()) and (len(w)>2) and (w not in stop_words):  \n",
        "                # Stem and add to filtered list\n",
        "                filtered_sentence.append(snow.stem(w))\n",
        "        final_string = \" \".join(filtered_sentence) #final string of cleaned words\n",
        "\n",
        "        final_text_list.append(final_string)\n",
        "    return final_text_list"
      ],
      "execution_count": 89,
      "outputs": [
        {
          "output_type": "stream",
          "text": [
            "[nltk_data] Downloading package punkt to /root/nltk_data...\n",
            "[nltk_data]   Package punkt is already up-to-date!\n",
            "[nltk_data] Downloading package stopwords to /root/nltk_data...\n",
            "[nltk_data]   Package stopwords is already up-to-date!\n"
          ],
          "name": "stdout"
        }
      ]
    },
    {
      "cell_type": "code",
      "metadata": {
        "id": "VA9S6j1koKYO",
        "colab_type": "code",
        "colab": {
          "base_uri": "https://localhost:8080/",
          "height": 33
        },
        "outputId": "a0c655b8-287b-48c4-9aab-8ad6fdc7d264"
      },
      "source": [
        "print(\"Process test dataset\")\n",
        "X_test_text_processed = process_text(df_2020_selected[\"Speech_cleaned\"].values) "
      ],
      "execution_count": 90,
      "outputs": [
        {
          "output_type": "stream",
          "text": [
            "Process test dataset\n"
          ],
          "name": "stdout"
        }
      ]
    },
    {
      "cell_type": "code",
      "metadata": {
        "id": "ctcpHlcAokjV",
        "colab_type": "code",
        "colab": {}
      },
      "source": [
        "from sklearn.feature_extraction.text import TfidfVectorizer\n",
        "\n",
        "tfidf_title_vectorizer = TfidfVectorizer(max_features=50)\n",
        "tfidf_text_vectorizer = TfidfVectorizer(max_features=2000)\n",
        "\n",
        "X_test_text_vectors = tfidf_vectorizer.transform(X_test_text_processed)"
      ],
      "execution_count": 0,
      "outputs": []
    },
    {
      "cell_type": "code",
      "metadata": {
        "id": "Ybb1KbfEopv6",
        "colab_type": "code",
        "colab": {}
      },
      "source": [
        "# Make predictions using our trained model\n",
        "test_prediction = lrClassifier.predict(X_test_text_vectors)"
      ],
      "execution_count": 0,
      "outputs": []
    },
    {
      "cell_type": "code",
      "metadata": {
        "id": "-GhS3P--pt7P",
        "colab_type": "code",
        "colab": {}
      },
      "source": [
        "result_df = pd.DataFrame()\n",
        "result_df[\"Cleaned_2020_Speech\"] = df_2020_selected[\"Speech_cleaned\"]\n",
        "result_df[\"sentiment\"] = test_prediction"
      ],
      "execution_count": 0,
      "outputs": []
    },
    {
      "cell_type": "code",
      "metadata": {
        "id": "aieZ3wKfqEKu",
        "colab_type": "code",
        "colab": {
          "base_uri": "https://localhost:8080/",
          "height": 1000
        },
        "outputId": "763be5bb-48f1-4808-c428-070f302f8ecd"
      },
      "source": [
        "result_df.head(50)"
      ],
      "execution_count": 109,
      "outputs": [
        {
          "output_type": "execute_result",
          "data": {
            "text/html": [
              "<div>\n",
              "<style scoped>\n",
              "    .dataframe tbody tr th:only-of-type {\n",
              "        vertical-align: middle;\n",
              "    }\n",
              "\n",
              "    .dataframe tbody tr th {\n",
              "        vertical-align: top;\n",
              "    }\n",
              "\n",
              "    .dataframe thead th {\n",
              "        text-align: right;\n",
              "    }\n",
              "</style>\n",
              "<table border=\"1\" class=\"dataframe\">\n",
              "  <thead>\n",
              "    <tr style=\"text-align: right;\">\n",
              "      <th></th>\n",
              "      <th>Cleaned_2020_Speech</th>\n",
              "      <th>sentiment</th>\n",
              "    </tr>\n",
              "  </thead>\n",
              "  <tbody>\n",
              "    <tr>\n",
              "      <th>0</th>\n",
              "      <td>may prime minister modi receive massive mandat...</td>\n",
              "      <td>0</td>\n",
              "    </tr>\n",
              "    <tr>\n",
              "      <th>1</th>\n",
              "      <td>renew vigour leadership commit serve people in...</td>\n",
              "      <td>0</td>\n",
              "    </tr>\n",
              "    <tr>\n",
              "      <th>2</th>\n",
              "      <td></td>\n",
              "      <td>0</td>\n",
              "    </tr>\n",
              "    <tr>\n",
              "      <th>3</th>\n",
              "      <td>people india unequivocally give jan aadesh pol...</td>\n",
              "      <td>0</td>\n",
              "    </tr>\n",
              "    <tr>\n",
              "      <th>4</th>\n",
              "      <td>budget boost income enhance purchase power</td>\n",
              "      <td>0</td>\n",
              "    </tr>\n",
              "    <tr>\n",
              "      <th>5</th>\n",
              "      <td>high growth achieve youth gainfully meaningful...</td>\n",
              "      <td>1</td>\n",
              "    </tr>\n",
              "    <tr>\n",
              "      <th>6</th>\n",
              "      <td>let business innovative healthy solvent use te...</td>\n",
              "      <td>0</td>\n",
              "    </tr>\n",
              "    <tr>\n",
              "      <th>7</th>\n",
              "      <td></td>\n",
              "      <td>0</td>\n",
              "    </tr>\n",
              "    <tr>\n",
              "      <th>8</th>\n",
              "      <td>today youth bear turn century every member sch...</td>\n",
              "      <td>0</td>\n",
              "    </tr>\n",
              "    <tr>\n",
              "      <th>9</th>\n",
              "      <td></td>\n",
              "      <td>0</td>\n",
              "    </tr>\n",
              "    <tr>\n",
              "      <th>10</th>\n",
              "      <td>wish open vista vibrant dynamic economy gentle...</td>\n",
              "      <td>0</td>\n",
              "    </tr>\n",
              "    <tr>\n",
              "      <th>11</th>\n",
              "      <td>vibrant india shall care society shall attend ...</td>\n",
              "      <td>0</td>\n",
              "    </tr>\n",
              "    <tr>\n",
              "      <th>12</th>\n",
              "      <td></td>\n",
              "      <td>0</td>\n",
              "    </tr>\n",
              "    <tr>\n",
              "      <th>13</th>\n",
              "      <td>government bring paradigm shift governance</td>\n",
              "      <td>0</td>\n",
              "    </tr>\n",
              "    <tr>\n",
              "      <th>14</th>\n",
              "      <td>shift characterise twin focus fundamental stru...</td>\n",
              "      <td>1</td>\n",
              "    </tr>\n",
              "    <tr>\n",
              "      <th>15</th>\n",
              "      <td></td>\n",
              "      <td>0</td>\n",
              "    </tr>\n",
              "    <tr>\n",
              "      <th>16</th>\n",
              "      <td>fundamental economy strong ensured macroeconom...</td>\n",
              "      <td>0</td>\n",
              "    </tr>\n",
              "    <tr>\n",
              "      <th>17</th>\n",
              "      <td>inflation well contain</td>\n",
              "      <td>0</td>\n",
              "    </tr>\n",
              "    <tr>\n",
              "      <th>18</th>\n",
              "      <td>bank saw thorough cleaning accumulated loan pa...</td>\n",
              "      <td>0</td>\n",
              "    </tr>\n",
              "    <tr>\n",
              "      <th>19</th>\n",
              "      <td>company provide exit ibc</td>\n",
              "      <td>0</td>\n",
              "    </tr>\n",
              "    <tr>\n",
              "      <th>20</th>\n",
              "      <td>several step formalisation economy take</td>\n",
              "      <td>0</td>\n",
              "    </tr>\n",
              "    <tr>\n",
              "      <th>21</th>\n",
              "      <td></td>\n",
              "      <td>0</td>\n",
              "    </tr>\n",
              "    <tr>\n",
              "      <th>22</th>\n",
              "      <td>structural reform good service tax gst histori...</td>\n",
              "      <td>0</td>\n",
              "    </tr>\n",
              "    <tr>\n",
              "      <th>23</th>\n",
              "      <td>chief architect today</td>\n",
              "      <td>0</td>\n",
              "    </tr>\n",
              "    <tr>\n",
              "      <th>24</th>\n",
              "      <td>pay homage visionary leader late shri arun jai...</td>\n",
              "      <td>0</td>\n",
              "    </tr>\n",
              "    <tr>\n",
              "      <th>25</th>\n",
              "      <td>time roll gst say quote india centre state wor...</td>\n",
              "      <td>0</td>\n",
              "    </tr>\n",
              "    <tr>\n",
              "      <th>26</th>\n",
              "      <td>unanimity constitutional amendment consensus g...</td>\n",
              "      <td>1</td>\n",
              "    </tr>\n",
              "    <tr>\n",
              "      <th>27</th>\n",
              "      <td>gst neither state centre lose sovereignty</td>\n",
              "      <td>0</td>\n",
              "    </tr>\n",
              "    <tr>\n",
              "      <th>28</th>\n",
              "      <td>contrast pool sovereignty decision indirect tax</td>\n",
              "      <td>0</td>\n",
              "    </tr>\n",
              "    <tr>\n",
              "      <th>29</th>\n",
              "      <td>true vision historic structural reform good se...</td>\n",
              "      <td>0</td>\n",
              "    </tr>\n",
              "    <tr>\n",
              "      <th>30</th>\n",
              "      <td>consolidated numerous tax cesses one tax facil...</td>\n",
              "      <td>0</td>\n",
              "    </tr>\n",
              "    <tr>\n",
              "      <th>31</th>\n",
              "      <td>result efficiency gain logistic transport sector</td>\n",
              "      <td>0</td>\n",
              "    </tr>\n",
              "    <tr>\n",
              "      <th>32</th>\n",
              "      <td>turnaround time truck witness substantial redu...</td>\n",
              "      <td>0</td>\n",
              "    </tr>\n",
              "    <tr>\n",
              "      <th>33</th>\n",
              "      <td>dread inspector raj also vanish</td>\n",
              "      <td>0</td>\n",
              "    </tr>\n",
              "    <tr>\n",
              "      <th>34</th>\n",
              "      <td></td>\n",
              "      <td>0</td>\n",
              "    </tr>\n",
              "    <tr>\n",
              "      <th>35</th>\n",
              "      <td>also lead significant benefit msme way enhance...</td>\n",
              "      <td>1</td>\n",
              "    </tr>\n",
              "    <tr>\n",
              "      <th>36</th>\n",
              "      <td>effective tax incidence almost every commodity...</td>\n",
              "      <td>0</td>\n",
              "    </tr>\n",
              "    <tr>\n",
              "      <th>37</th>\n",
              "      <td>several rate reduction annual benefit one lakh...</td>\n",
              "      <td>1</td>\n",
              "    </tr>\n",
              "    <tr>\n",
              "      <th>38</th>\n",
              "      <td>amount reduction overall tax incidence</td>\n",
              "      <td>0</td>\n",
              "    </tr>\n",
              "    <tr>\n",
              "      <th>39</th>\n",
              "      <td>average household save monthly spends account ...</td>\n",
              "      <td>0</td>\n",
              "    </tr>\n",
              "    <tr>\n",
              "      <th>40</th>\n",
              "      <td></td>\n",
              "      <td>0</td>\n",
              "    </tr>\n",
              "    <tr>\n",
              "      <th>41</th>\n",
              "      <td>phase mature gst face certain challenge</td>\n",
              "      <td>1</td>\n",
              "    </tr>\n",
              "    <tr>\n",
              "      <th>42</th>\n",
              "      <td>natural transition daunt</td>\n",
              "      <td>0</td>\n",
              "    </tr>\n",
              "    <tr>\n",
              "      <th>43</th>\n",
              "      <td>gst council proactive resolve issue transition</td>\n",
              "      <td>0</td>\n",
              "    </tr>\n",
              "    <tr>\n",
              "      <th>44</th>\n",
              "      <td>last two year add lakh new taxpayer total cror...</td>\n",
              "      <td>0</td>\n",
              "    </tr>\n",
              "    <tr>\n",
              "      <th>45</th>\n",
              "      <td>extensive engagement stakeholder</td>\n",
              "      <td>0</td>\n",
              "    </tr>\n",
              "    <tr>\n",
              "      <th>46</th>\n",
              "      <td>simplified new return system introduce april</td>\n",
              "      <td>0</td>\n",
              "    </tr>\n",
              "    <tr>\n",
              "      <th>47</th>\n",
              "      <td></td>\n",
              "      <td>0</td>\n",
              "    </tr>\n",
              "    <tr>\n",
              "      <th>48</th>\n",
              "      <td>former prime minister voice concern fruit welf...</td>\n",
              "      <td>0</td>\n",
              "    </tr>\n",
              "    <tr>\n",
              "      <th>49</th>\n",
              "      <td>guide sabka saath sabka vikas sabka vishwas go...</td>\n",
              "      <td>0</td>\n",
              "    </tr>\n",
              "  </tbody>\n",
              "</table>\n",
              "</div>"
            ],
            "text/plain": [
              "                                  Cleaned_2020_Speech  sentiment\n",
              "0   may prime minister modi receive massive mandat...          0\n",
              "1   renew vigour leadership commit serve people in...          0\n",
              "2                                                              0\n",
              "3   people india unequivocally give jan aadesh pol...          0\n",
              "4          budget boost income enhance purchase power          0\n",
              "5   high growth achieve youth gainfully meaningful...          1\n",
              "6   let business innovative healthy solvent use te...          0\n",
              "7                                                              0\n",
              "8   today youth bear turn century every member sch...          0\n",
              "9                                                              0\n",
              "10  wish open vista vibrant dynamic economy gentle...          0\n",
              "11  vibrant india shall care society shall attend ...          0\n",
              "12                                                             0\n",
              "13         government bring paradigm shift governance          0\n",
              "14  shift characterise twin focus fundamental stru...          1\n",
              "15                                                             0\n",
              "16  fundamental economy strong ensured macroeconom...          0\n",
              "17                             inflation well contain          0\n",
              "18  bank saw thorough cleaning accumulated loan pa...          0\n",
              "19                           company provide exit ibc          0\n",
              "20            several step formalisation economy take          0\n",
              "21                                                             0\n",
              "22  structural reform good service tax gst histori...          0\n",
              "23                              chief architect today          0\n",
              "24  pay homage visionary leader late shri arun jai...          0\n",
              "25  time roll gst say quote india centre state wor...          0\n",
              "26  unanimity constitutional amendment consensus g...          1\n",
              "27          gst neither state centre lose sovereignty          0\n",
              "28    contrast pool sovereignty decision indirect tax          0\n",
              "29  true vision historic structural reform good se...          0\n",
              "30  consolidated numerous tax cesses one tax facil...          0\n",
              "31   result efficiency gain logistic transport sector          0\n",
              "32  turnaround time truck witness substantial redu...          0\n",
              "33                    dread inspector raj also vanish          0\n",
              "34                                                             0\n",
              "35  also lead significant benefit msme way enhance...          1\n",
              "36  effective tax incidence almost every commodity...          0\n",
              "37  several rate reduction annual benefit one lakh...          1\n",
              "38             amount reduction overall tax incidence          0\n",
              "39  average household save monthly spends account ...          0\n",
              "40                                                             0\n",
              "41            phase mature gst face certain challenge          1\n",
              "42                           natural transition daunt          0\n",
              "43     gst council proactive resolve issue transition          0\n",
              "44  last two year add lakh new taxpayer total cror...          0\n",
              "45                   extensive engagement stakeholder          0\n",
              "46       simplified new return system introduce april          0\n",
              "47                                                             0\n",
              "48  former prime minister voice concern fruit welf...          0\n",
              "49  guide sabka saath sabka vikas sabka vishwas go...          0"
            ]
          },
          "metadata": {
            "tags": []
          },
          "execution_count": 109
        }
      ]
    },
    {
      "cell_type": "code",
      "metadata": {
        "id": "pwrHStHPqoOQ",
        "colab_type": "code",
        "colab": {}
      },
      "source": [
        "result_df.to_csv(\"/content/drive/My Drive/Capstone Project - NLP/Harsh/sentiment_prediction_speech_2020.csv\", encoding='utf-8', index=False)"
      ],
      "execution_count": 0,
      "outputs": []
    },
    {
      "cell_type": "code",
      "metadata": {
        "id": "iiEKbfMrq7LE",
        "colab_type": "code",
        "colab": {}
      },
      "source": [
        ""
      ],
      "execution_count": 0,
      "outputs": []
    }
  ]
}